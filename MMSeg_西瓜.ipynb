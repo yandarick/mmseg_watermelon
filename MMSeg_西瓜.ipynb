{
  "nbformat": 4,
  "nbformat_minor": 0,
  "metadata": {
    "colab": {
      "provenance": [],
      "gpuType": "V100",
      "authorship_tag": "ABX9TyPIvxkzRq8bdu9DzCDPJA2O",
      "include_colab_link": true
    },
    "kernelspec": {
      "name": "python3",
      "display_name": "Python 3"
    },
    "language_info": {
      "name": "python"
    },
    "accelerator": "GPU"
  },
  "cells": [
    {
      "cell_type": "markdown",
      "metadata": {
        "id": "view-in-github",
        "colab_type": "text"
      },
      "source": [
        "<a href=\"https://colab.research.google.com/github/yandarick/mmseg_watermelon/blob/main/MMSeg_%E8%A5%BF%E7%93%9C.ipynb\" target=\"_parent\"><img src=\"https://colab.research.google.com/assets/colab-badge.svg\" alt=\"Open In Colab\"/></a>"
      ]
    },
    {
      "cell_type": "markdown",
      "source": [
        "# 作业要求"
      ],
      "metadata": {
        "id": "epzPNUMGZl7u"
      }
    },
    {
      "cell_type": "markdown",
      "source": [
        "**作业：MMSeg 语义分割**\n",
        "**背景：西瓜瓤、西瓜皮、西瓜籽像素级语义分割**\n",
        "**TO DO LIST：**\n",
        "\n",
        "1. Labelme 标注语义分割数据集（子豪兄已经帮你完成了）\n",
        "2. 划分训练集和测试集（子豪兄已经帮你完成了）\n",
        "3. Labelme 标注转 Mask 灰度图格式（子豪兄已经帮你完成了）\n",
        "4. 使用 MMSegmentation 算法库，撰写 config 配置文件，训练 PSPNet 语义分割算法\n",
        "5. 提交测试集评估指标\n",
        "6. 自己拍摄西瓜图片和视频，将预测结果发到群里\n",
        "7. （选做）训练 Segformer 语义分割算法，提交测试集评估指标\n",
        "\n",
        "**西瓜瓤、西瓜籽数据集：**标注：同济子豪兄 image\n",
        "\n",
        "image\n",
        "\n",
        "类别名称 类别语义 标注类别 灰度图像素值\n",
        "/ 背景 / 0\n",
        "red 西瓜红瓤 多段线（polygon） 1\n",
        "green 西瓜外壳 多段线（polygon） 2\n",
        "white 西瓜白皮 多段线（polygon） 3\n",
        "seed-black 西瓜黑籽 多段线（polygon） 4\n",
        "seed-white 西瓜白籽 多段线（polygon） 5\n",
        "\n",
        "数据集下载链接：\n",
        "Labelme标注格式（没有划分训练集和测试集）：https://zihao-openmmlab.obs.cn-east-3.myhuaweicloud.com/20230130-mmseg/dataset/watermelon/Watermelon87_Semantic_Seg_Labelme.zip\n",
        "Mask标注格式（已划分训练集和测试集）：https://zihao-openmmlab.obs.cn-east-3.myhuaweicloud.com/20230130-mmseg/dataset/watermelon/Watermelon87_Semantic_Seg_Mask.zip\n",
        "需提交的测试集评估指标：（不能低于 baseline 指标的 50% ）\n",
        "aAcc: 60.6200 mIoU: 21.1400 mAcc: 28.4600\n",
        "\n",
        "\n",
        "https://github.com/open-mmlab/OpenMMLabCamp/issues/386\n"
      ],
      "metadata": {
        "id": "gG4iKE0VWJH4"
      }
    },
    {
      "cell_type": "markdown",
      "source": [],
      "metadata": {
        "id": "k2YFye5aZdsr"
      }
    },
    {
      "cell_type": "markdown",
      "metadata": {
        "id": "bc3d1961-9081-49c9-be56-ad0c748decf1"
      },
      "source": [
        "# 安装配置MMSegment\n",
        "\n"
      ]
    },
    {
      "cell_type": "markdown",
      "source": [
        "## Jupyter 显示代码块中每一行代码的输出"
      ],
      "metadata": {
        "id": "NlqxzS5wA7nh"
      }
    },
    {
      "cell_type": "code",
      "execution_count": 1,
      "metadata": {
        "id": "_Vv_ws8wjk2Y"
      },
      "outputs": [],
      "source": [
        "from IPython.core.interactiveshell import InteractiveShell\n",
        "InteractiveShell.ast_node_interactivity = 'all'"
      ]
    },
    {
      "cell_type": "markdown",
      "source": [
        "## 加载Google云端硬盘"
      ],
      "metadata": {
        "id": "2VASFNr3A8KJ"
      }
    },
    {
      "cell_type": "code",
      "source": [
        "from google.colab import drive\n",
        "drive.mount('/content/drive')"
      ],
      "metadata": {
        "colab": {
          "base_uri": "https://localhost:8080/"
        },
        "id": "mG4mzdY4-Q32",
        "outputId": "ebda378a-e6f4-423f-fe13-6c0d46568aec"
      },
      "execution_count": 2,
      "outputs": [
        {
          "output_type": "stream",
          "name": "stdout",
          "text": [
            "Mounted at /content/drive\n"
          ]
        }
      ]
    },
    {
      "cell_type": "markdown",
      "source": [
        "## 境检测是否包含pytorch环境和GPU"
      ],
      "metadata": {
        "id": "aSV9kXkuA9D7"
      }
    },
    {
      "cell_type": "code",
      "source": [
        "import torch\n",
        "torch.__version__ # '2.0.1'\n",
        "torch.cuda.is_available() # True"
      ],
      "metadata": {
        "colab": {
          "base_uri": "https://localhost:8080/",
          "height": 35
        },
        "id": "mOCcgcml-U1P",
        "outputId": "2c5f125f-6934-4ec8-8025-efe5cedbb962"
      },
      "execution_count": 3,
      "outputs": [
        {
          "output_type": "execute_result",
          "data": {
            "text/plain": [
              "'2.0.1+cu118'"
            ],
            "application/vnd.google.colaboratory.intrinsic+json": {
              "type": "string"
            }
          },
          "metadata": {},
          "execution_count": 3
        },
        {
          "output_type": "execute_result",
          "data": {
            "text/plain": [
              "True"
            ]
          },
          "metadata": {},
          "execution_count": 3
        }
      ]
    },
    {
      "cell_type": "markdown",
      "source": [
        "## 检测现有的文件信息"
      ],
      "metadata": {
        "id": "XQJBud-sBgll"
      }
    },
    {
      "cell_type": "code",
      "source": [
        "import os\n",
        "os.getcwd()\n",
        "%cd /content/drive/MyDrive/OpenMMlab\n",
        "os.getcwd()\n",
        "%pwd\n",
        "%ls"
      ],
      "metadata": {
        "colab": {
          "base_uri": "https://localhost:8080/",
          "height": 53
        },
        "id": "SvFz_luT-lqS",
        "outputId": "8ed02932-238d-4549-a9a9-31ccb06b30b1"
      },
      "execution_count": 4,
      "outputs": [
        {
          "output_type": "execute_result",
          "data": {
            "text/plain": [
              "'/content'"
            ],
            "application/vnd.google.colaboratory.intrinsic+json": {
              "type": "string"
            }
          },
          "metadata": {},
          "execution_count": 4
        },
        {
          "output_type": "stream",
          "name": "stdout",
          "text": [
            "/content/drive/MyDrive/OpenMMlab\n"
          ]
        },
        {
          "output_type": "execute_result",
          "data": {
            "text/plain": [
              "'/content/drive/MyDrive/OpenMMlab'"
            ],
            "application/vnd.google.colaboratory.intrinsic+json": {
              "type": "string"
            }
          },
          "metadata": {},
          "execution_count": 4
        },
        {
          "output_type": "execute_result",
          "data": {
            "text/plain": [
              "'/content/drive/MyDrive/OpenMMlab'"
            ],
            "application/vnd.google.colaboratory.intrinsic+json": {
              "type": "string"
            }
          },
          "metadata": {},
          "execution_count": 4
        },
        {
          "output_type": "stream",
          "name": "stdout",
          "text": [
            "\u001b[0m\u001b[01;34mmmagic\u001b[0m/  \u001b[01;34mmmdetection\u001b[0m/  \u001b[01;34mMMPretrain\u001b[0m/  \u001b[01;34mmmsegmentation\u001b[0m/  \u001b[01;34mmmyolo\u001b[0m/\n"
          ]
        }
      ]
    },
    {
      "cell_type": "markdown",
      "metadata": {
        "tags": [],
        "id": "6fc1c686-1267-4503-b9e4-bcb188a7f974"
      },
      "source": [
        "## 安装Pytorch"
      ]
    },
    {
      "cell_type": "code",
      "execution_count": 5,
      "metadata": {
        "colab": {
          "base_uri": "https://localhost:8080/"
        },
        "id": "2fef57fc-d5f0-4cd0-a134-1f025c15439f",
        "outputId": "e133908b-2934-4b38-83a7-4215786bbb6e"
      },
      "outputs": [
        {
          "output_type": "stream",
          "name": "stdout",
          "text": [
            "Looking in indexes: https://pypi.org/simple, https://us-python.pkg.dev/colab-wheels/public/simple/\n",
            "Looking in links: https://download.pytorch.org/whl/cu113/torch_stable.html\n",
            "Collecting install\n",
            "  Downloading install-1.3.5-py3-none-any.whl (3.2 kB)\n",
            "\u001b[31mERROR: Could not find a version that satisfies the requirement torch==1.10.1+cu113 (from versions: 1.11.0, 1.11.0+cu113, 1.12.0, 1.12.0+cu113, 1.12.1, 1.12.1+cu113, 1.13.0, 1.13.1, 2.0.0, 2.0.1)\u001b[0m\u001b[31m\n",
            "\u001b[0m\u001b[31mERROR: No matching distribution found for torch==1.10.1+cu113\u001b[0m\u001b[31m\n",
            "\u001b[0m"
          ]
        }
      ],
      "source": [
        "# 安装Pytorch\n",
        "!pip3 install install torch==1.10.1+cu113 torchvision==0.11.2+cu113 torchaudio==0.10.1+cu113 -f https://download.pytorch.org/whl/cu113/torch_stable.html"
      ]
    },
    {
      "cell_type": "markdown",
      "metadata": {
        "id": "054b64e4-4796-4136-b45e-3664b281cf30"
      },
      "source": [
        "## 安装MMCV和MMEngine环境"
      ]
    },
    {
      "cell_type": "code",
      "execution_count": 6,
      "metadata": {
        "colab": {
          "base_uri": "https://localhost:8080/"
        },
        "id": "3fab4b08-7b45-4c82-923c-b08b680d1c76",
        "outputId": "9f2ec13d-cf9d-4164-d84c-81087cb285cf"
      },
      "outputs": [
        {
          "output_type": "stream",
          "name": "stdout",
          "text": [
            "Looking in indexes: https://pypi.org/simple, https://us-python.pkg.dev/colab-wheels/public/simple/\n",
            "Collecting openmim\n",
            "  Downloading openmim-0.3.7-py2.py3-none-any.whl (51 kB)\n",
            "\u001b[?25l     \u001b[90m━━━━━━━━━━━━━━━━━━━━━━━━━━━━━━━━━━━━━━━━\u001b[0m \u001b[32m0.0/51.3 kB\u001b[0m \u001b[31m?\u001b[0m eta \u001b[36m-:--:--\u001b[0m\r\u001b[2K     \u001b[90m━━━━━━━━━━━━━━━━━━━━━━━━━━━━━━━━━━━━━━━━\u001b[0m \u001b[32m51.3/51.3 kB\u001b[0m \u001b[31m2.5 MB/s\u001b[0m eta \u001b[36m0:00:00\u001b[0m\n",
            "\u001b[?25hRequirement already satisfied: Click in /usr/local/lib/python3.10/dist-packages (from openmim) (8.1.3)\n",
            "Collecting colorama (from openmim)\n",
            "  Downloading colorama-0.4.6-py2.py3-none-any.whl (25 kB)\n",
            "Collecting model-index (from openmim)\n",
            "  Downloading model_index-0.1.11-py3-none-any.whl (34 kB)\n",
            "Requirement already satisfied: pandas in /usr/local/lib/python3.10/dist-packages (from openmim) (1.5.3)\n",
            "Requirement already satisfied: pip>=19.3 in /usr/local/lib/python3.10/dist-packages (from openmim) (23.1.2)\n",
            "Requirement already satisfied: requests in /usr/local/lib/python3.10/dist-packages (from openmim) (2.27.1)\n",
            "Requirement already satisfied: rich in /usr/local/lib/python3.10/dist-packages (from openmim) (13.3.4)\n",
            "Requirement already satisfied: tabulate in /usr/local/lib/python3.10/dist-packages (from openmim) (0.8.10)\n",
            "Requirement already satisfied: pyyaml in /usr/local/lib/python3.10/dist-packages (from model-index->openmim) (6.0)\n",
            "Requirement already satisfied: markdown in /usr/local/lib/python3.10/dist-packages (from model-index->openmim) (3.4.3)\n",
            "Collecting ordered-set (from model-index->openmim)\n",
            "  Downloading ordered_set-4.1.0-py3-none-any.whl (7.6 kB)\n",
            "Requirement already satisfied: python-dateutil>=2.8.1 in /usr/local/lib/python3.10/dist-packages (from pandas->openmim) (2.8.2)\n",
            "Requirement already satisfied: pytz>=2020.1 in /usr/local/lib/python3.10/dist-packages (from pandas->openmim) (2022.7.1)\n",
            "Requirement already satisfied: numpy>=1.21.0 in /usr/local/lib/python3.10/dist-packages (from pandas->openmim) (1.22.4)\n",
            "Requirement already satisfied: urllib3<1.27,>=1.21.1 in /usr/local/lib/python3.10/dist-packages (from requests->openmim) (1.26.15)\n",
            "Requirement already satisfied: certifi>=2017.4.17 in /usr/local/lib/python3.10/dist-packages (from requests->openmim) (2022.12.7)\n",
            "Requirement already satisfied: charset-normalizer~=2.0.0 in /usr/local/lib/python3.10/dist-packages (from requests->openmim) (2.0.12)\n",
            "Requirement already satisfied: idna<4,>=2.5 in /usr/local/lib/python3.10/dist-packages (from requests->openmim) (3.4)\n",
            "Requirement already satisfied: markdown-it-py<3.0.0,>=2.2.0 in /usr/local/lib/python3.10/dist-packages (from rich->openmim) (2.2.0)\n",
            "Requirement already satisfied: pygments<3.0.0,>=2.13.0 in /usr/local/lib/python3.10/dist-packages (from rich->openmim) (2.14.0)\n",
            "Requirement already satisfied: mdurl~=0.1 in /usr/local/lib/python3.10/dist-packages (from markdown-it-py<3.0.0,>=2.2.0->rich->openmim) (0.1.2)\n",
            "Requirement already satisfied: six>=1.5 in /usr/local/lib/python3.10/dist-packages (from python-dateutil>=2.8.1->pandas->openmim) (1.16.0)\n",
            "Installing collected packages: ordered-set, colorama, model-index, openmim\n",
            "Successfully installed colorama-0.4.6 model-index-0.1.11 openmim-0.3.7 ordered-set-4.1.0\n",
            "Looking in indexes: https://pypi.org/simple, https://us-python.pkg.dev/colab-wheels/public/simple/\n",
            "Looking in links: https://download.openmmlab.com/mmcv/dist/cu118/torch2.0.0/index.html\n",
            "Collecting mmengine\n",
            "  Downloading mmengine-0.7.4-py3-none-any.whl (374 kB)\n",
            "\u001b[2K     \u001b[90m━━━━━━━━━━━━━━━━━━━━━━━━━━━━━━━━━━━━━━━\u001b[0m \u001b[32m374.3/374.3 kB\u001b[0m \u001b[31m8.0 MB/s\u001b[0m eta \u001b[36m0:00:00\u001b[0m\n",
            "\u001b[?25hCollecting addict (from mmengine)\n",
            "  Downloading addict-2.4.0-py3-none-any.whl (3.8 kB)\n",
            "Requirement already satisfied: matplotlib in /usr/local/lib/python3.10/dist-packages (from mmengine) (3.7.1)\n",
            "Requirement already satisfied: numpy in /usr/local/lib/python3.10/dist-packages (from mmengine) (1.22.4)\n",
            "Requirement already satisfied: pyyaml in /usr/local/lib/python3.10/dist-packages (from mmengine) (6.0)\n",
            "Requirement already satisfied: rich in /usr/local/lib/python3.10/dist-packages (from mmengine) (13.3.4)\n",
            "Requirement already satisfied: termcolor in /usr/local/lib/python3.10/dist-packages (from mmengine) (2.3.0)\n",
            "Collecting yapf (from mmengine)\n",
            "  Downloading yapf-0.40.0-py3-none-any.whl (250 kB)\n",
            "\u001b[2K     \u001b[90m━━━━━━━━━━━━━━━━━━━━━━━━━━━━━━━━━━━━━━\u001b[0m \u001b[32m250.3/250.3 kB\u001b[0m \u001b[31m25.5 MB/s\u001b[0m eta \u001b[36m0:00:00\u001b[0m\n",
            "\u001b[?25hRequirement already satisfied: opencv-python>=3 in /usr/local/lib/python3.10/dist-packages (from mmengine) (4.7.0.72)\n",
            "Requirement already satisfied: contourpy>=1.0.1 in /usr/local/lib/python3.10/dist-packages (from matplotlib->mmengine) (1.0.7)\n",
            "Requirement already satisfied: cycler>=0.10 in /usr/local/lib/python3.10/dist-packages (from matplotlib->mmengine) (0.11.0)\n",
            "Requirement already satisfied: fonttools>=4.22.0 in /usr/local/lib/python3.10/dist-packages (from matplotlib->mmengine) (4.39.3)\n",
            "Requirement already satisfied: kiwisolver>=1.0.1 in /usr/local/lib/python3.10/dist-packages (from matplotlib->mmengine) (1.4.4)\n",
            "Requirement already satisfied: packaging>=20.0 in /usr/local/lib/python3.10/dist-packages (from matplotlib->mmengine) (23.1)\n",
            "Requirement already satisfied: pillow>=6.2.0 in /usr/local/lib/python3.10/dist-packages (from matplotlib->mmengine) (8.4.0)\n",
            "Requirement already satisfied: pyparsing>=2.3.1 in /usr/local/lib/python3.10/dist-packages (from matplotlib->mmengine) (3.0.9)\n",
            "Requirement already satisfied: python-dateutil>=2.7 in /usr/local/lib/python3.10/dist-packages (from matplotlib->mmengine) (2.8.2)\n",
            "Requirement already satisfied: markdown-it-py<3.0.0,>=2.2.0 in /usr/local/lib/python3.10/dist-packages (from rich->mmengine) (2.2.0)\n",
            "Requirement already satisfied: pygments<3.0.0,>=2.13.0 in /usr/local/lib/python3.10/dist-packages (from rich->mmengine) (2.14.0)\n",
            "Collecting importlib-metadata>=6.6.0 (from yapf->mmengine)\n",
            "  Downloading importlib_metadata-6.6.0-py3-none-any.whl (22 kB)\n",
            "Collecting platformdirs>=3.5.1 (from yapf->mmengine)\n",
            "  Downloading platformdirs-3.6.0-py3-none-any.whl (16 kB)\n",
            "Requirement already satisfied: tomli>=2.0.1 in /usr/local/lib/python3.10/dist-packages (from yapf->mmengine) (2.0.1)\n",
            "Requirement already satisfied: zipp>=0.5 in /usr/local/lib/python3.10/dist-packages (from importlib-metadata>=6.6.0->yapf->mmengine) (3.15.0)\n",
            "Requirement already satisfied: mdurl~=0.1 in /usr/local/lib/python3.10/dist-packages (from markdown-it-py<3.0.0,>=2.2.0->rich->mmengine) (0.1.2)\n",
            "Requirement already satisfied: six>=1.5 in /usr/local/lib/python3.10/dist-packages (from python-dateutil>=2.7->matplotlib->mmengine) (1.16.0)\n",
            "Installing collected packages: addict, platformdirs, importlib-metadata, yapf, mmengine\n",
            "  Attempting uninstall: platformdirs\n",
            "    Found existing installation: platformdirs 3.3.0\n",
            "    Uninstalling platformdirs-3.3.0:\n",
            "      Successfully uninstalled platformdirs-3.3.0\n",
            "Successfully installed addict-2.4.0 importlib-metadata-6.6.0 mmengine-0.7.4 platformdirs-3.6.0 yapf-0.40.0\n",
            "Looking in indexes: https://pypi.org/simple, https://us-python.pkg.dev/colab-wheels/public/simple/\n",
            "Looking in links: https://download.openmmlab.com/mmcv/dist/cu118/torch2.0.0/index.html\n",
            "Collecting mmcv>=2.0.0\n",
            "  Downloading https://download.openmmlab.com/mmcv/dist/cu118/torch2.0.0/mmcv-2.0.0-cp310-cp310-manylinux1_x86_64.whl (74.4 MB)\n",
            "\u001b[2K     \u001b[90m━━━━━━━━━━━━━━━━━━━━━━━━━━━━━━━━━━━━━━━━\u001b[0m \u001b[32m74.4/74.4 MB\u001b[0m \u001b[31m7.8 MB/s\u001b[0m eta \u001b[36m0:00:00\u001b[0m\n",
            "\u001b[?25hRequirement already satisfied: addict in /usr/local/lib/python3.10/dist-packages (from mmcv>=2.0.0) (2.4.0)\n",
            "Requirement already satisfied: mmengine>=0.2.0 in /usr/local/lib/python3.10/dist-packages (from mmcv>=2.0.0) (0.7.4)\n",
            "Requirement already satisfied: numpy in /usr/local/lib/python3.10/dist-packages (from mmcv>=2.0.0) (1.22.4)\n",
            "Requirement already satisfied: packaging in /usr/local/lib/python3.10/dist-packages (from mmcv>=2.0.0) (23.1)\n",
            "Requirement already satisfied: Pillow in /usr/local/lib/python3.10/dist-packages (from mmcv>=2.0.0) (8.4.0)\n",
            "Requirement already satisfied: pyyaml in /usr/local/lib/python3.10/dist-packages (from mmcv>=2.0.0) (6.0)\n",
            "Requirement already satisfied: yapf in /usr/local/lib/python3.10/dist-packages (from mmcv>=2.0.0) (0.40.0)\n",
            "Requirement already satisfied: opencv-python>=3 in /usr/local/lib/python3.10/dist-packages (from mmcv>=2.0.0) (4.7.0.72)\n",
            "Requirement already satisfied: matplotlib in /usr/local/lib/python3.10/dist-packages (from mmengine>=0.2.0->mmcv>=2.0.0) (3.7.1)\n",
            "Requirement already satisfied: rich in /usr/local/lib/python3.10/dist-packages (from mmengine>=0.2.0->mmcv>=2.0.0) (13.3.4)\n",
            "Requirement already satisfied: termcolor in /usr/local/lib/python3.10/dist-packages (from mmengine>=0.2.0->mmcv>=2.0.0) (2.3.0)\n",
            "Requirement already satisfied: importlib-metadata>=6.6.0 in /usr/local/lib/python3.10/dist-packages (from yapf->mmcv>=2.0.0) (6.6.0)\n",
            "Requirement already satisfied: platformdirs>=3.5.1 in /usr/local/lib/python3.10/dist-packages (from yapf->mmcv>=2.0.0) (3.6.0)\n",
            "Requirement already satisfied: tomli>=2.0.1 in /usr/local/lib/python3.10/dist-packages (from yapf->mmcv>=2.0.0) (2.0.1)\n",
            "Requirement already satisfied: zipp>=0.5 in /usr/local/lib/python3.10/dist-packages (from importlib-metadata>=6.6.0->yapf->mmcv>=2.0.0) (3.15.0)\n",
            "Requirement already satisfied: contourpy>=1.0.1 in /usr/local/lib/python3.10/dist-packages (from matplotlib->mmengine>=0.2.0->mmcv>=2.0.0) (1.0.7)\n",
            "Requirement already satisfied: cycler>=0.10 in /usr/local/lib/python3.10/dist-packages (from matplotlib->mmengine>=0.2.0->mmcv>=2.0.0) (0.11.0)\n",
            "Requirement already satisfied: fonttools>=4.22.0 in /usr/local/lib/python3.10/dist-packages (from matplotlib->mmengine>=0.2.0->mmcv>=2.0.0) (4.39.3)\n",
            "Requirement already satisfied: kiwisolver>=1.0.1 in /usr/local/lib/python3.10/dist-packages (from matplotlib->mmengine>=0.2.0->mmcv>=2.0.0) (1.4.4)\n",
            "Requirement already satisfied: pyparsing>=2.3.1 in /usr/local/lib/python3.10/dist-packages (from matplotlib->mmengine>=0.2.0->mmcv>=2.0.0) (3.0.9)\n",
            "Requirement already satisfied: python-dateutil>=2.7 in /usr/local/lib/python3.10/dist-packages (from matplotlib->mmengine>=0.2.0->mmcv>=2.0.0) (2.8.2)\n",
            "Requirement already satisfied: markdown-it-py<3.0.0,>=2.2.0 in /usr/local/lib/python3.10/dist-packages (from rich->mmengine>=0.2.0->mmcv>=2.0.0) (2.2.0)\n",
            "Requirement already satisfied: pygments<3.0.0,>=2.13.0 in /usr/local/lib/python3.10/dist-packages (from rich->mmengine>=0.2.0->mmcv>=2.0.0) (2.14.0)\n",
            "Requirement already satisfied: mdurl~=0.1 in /usr/local/lib/python3.10/dist-packages (from markdown-it-py<3.0.0,>=2.2.0->rich->mmengine>=0.2.0->mmcv>=2.0.0) (0.1.2)\n",
            "Requirement already satisfied: six>=1.5 in /usr/local/lib/python3.10/dist-packages (from python-dateutil>=2.7->matplotlib->mmengine>=0.2.0->mmcv>=2.0.0) (1.16.0)\n",
            "Installing collected packages: mmcv\n",
            "Successfully installed mmcv-2.0.0\n"
          ]
        }
      ],
      "source": [
        "!pip install -U openmim\n",
        "!mim install mmengine\n",
        "!mim install \"mmcv>=2.0.0\""
      ]
    },
    {
      "cell_type": "markdown",
      "metadata": {
        "id": "38c55520-071b-41de-91f4-3ec78e16bf27"
      },
      "source": [
        "## 安装其它工具包"
      ]
    },
    {
      "cell_type": "code",
      "execution_count": 7,
      "metadata": {
        "id": "eb4b3373-f117-46a9-ab43-e67753eb7c61",
        "outputId": "90bc7447-d9b5-4ac2-db6f-525d4fd08f44",
        "colab": {
          "base_uri": "https://localhost:8080/"
        }
      },
      "outputs": [
        {
          "output_type": "stream",
          "name": "stdout",
          "text": [
            "Looking in indexes: https://pypi.tuna.tsinghua.edu.cn/simple, https://us-python.pkg.dev/colab-wheels/public/simple/\n",
            "Requirement already satisfied: opencv-python in /usr/local/lib/python3.10/dist-packages (4.7.0.72)\n",
            "Requirement already satisfied: pillow in /usr/local/lib/python3.10/dist-packages (8.4.0)\n",
            "Requirement already satisfied: matplotlib in /usr/local/lib/python3.10/dist-packages (3.7.1)\n",
            "Requirement already satisfied: seaborn in /usr/local/lib/python3.10/dist-packages (0.12.2)\n",
            "Requirement already satisfied: tqdm in /usr/local/lib/python3.10/dist-packages (4.65.0)\n",
            "Collecting pytorch-lightning\n",
            "  Downloading https://pypi.tuna.tsinghua.edu.cn/packages/19/da/08cc571a5ec162b4df27958d7680448b7a2ec04abd658726872fc016913b/pytorch_lightning-2.0.3-py3-none-any.whl (720 kB)\n",
            "\u001b[2K     \u001b[90m━━━━━━━━━━━━━━━━━━━━━━━━━━━━━━━━━━━━━\u001b[0m \u001b[32m720.6/720.6 kB\u001b[0m \u001b[31m818.5 kB/s\u001b[0m eta \u001b[36m0:00:00\u001b[0m\n",
            "\u001b[?25hCollecting mmdet>=3.0.0rc1\n",
            "  Downloading https://pypi.tuna.tsinghua.edu.cn/packages/2d/6a/1f97b0f476f64ed46dedc6b235ba51a5ef4c32db65702bf04d7a7de4ad51/mmdet-3.0.0-py3-none-any.whl (1.7 MB)\n",
            "\u001b[2K     \u001b[90m━━━━━━━━━━━━━━━━━━━━━━━━━━━━━━━━━━━━━━━━\u001b[0m \u001b[32m1.7/1.7 MB\u001b[0m \u001b[31m3.8 MB/s\u001b[0m eta \u001b[36m0:00:00\u001b[0m\n",
            "\u001b[?25hRequirement already satisfied: numpy>=1.21.2 in /usr/local/lib/python3.10/dist-packages (from opencv-python) (1.22.4)\n",
            "Requirement already satisfied: contourpy>=1.0.1 in /usr/local/lib/python3.10/dist-packages (from matplotlib) (1.0.7)\n",
            "Requirement already satisfied: cycler>=0.10 in /usr/local/lib/python3.10/dist-packages (from matplotlib) (0.11.0)\n",
            "Requirement already satisfied: fonttools>=4.22.0 in /usr/local/lib/python3.10/dist-packages (from matplotlib) (4.39.3)\n",
            "Requirement already satisfied: kiwisolver>=1.0.1 in /usr/local/lib/python3.10/dist-packages (from matplotlib) (1.4.4)\n",
            "Requirement already satisfied: packaging>=20.0 in /usr/local/lib/python3.10/dist-packages (from matplotlib) (23.1)\n",
            "Requirement already satisfied: pyparsing>=2.3.1 in /usr/local/lib/python3.10/dist-packages (from matplotlib) (3.0.9)\n",
            "Requirement already satisfied: python-dateutil>=2.7 in /usr/local/lib/python3.10/dist-packages (from matplotlib) (2.8.2)\n",
            "Requirement already satisfied: pandas>=0.25 in /usr/local/lib/python3.10/dist-packages (from seaborn) (1.5.3)\n",
            "Requirement already satisfied: torch>=1.11.0 in /usr/local/lib/python3.10/dist-packages (from pytorch-lightning) (2.0.1+cu118)\n",
            "Requirement already satisfied: PyYAML>=5.4 in /usr/local/lib/python3.10/dist-packages (from pytorch-lightning) (6.0)\n",
            "Requirement already satisfied: fsspec[http]>2021.06.0 in /usr/local/lib/python3.10/dist-packages (from pytorch-lightning) (2023.4.0)\n",
            "Collecting torchmetrics>=0.7.0 (from pytorch-lightning)\n",
            "  Downloading https://pypi.tuna.tsinghua.edu.cn/packages/fb/47/6e9f9b41c48750a45ad07cc6d43a2979bfc09e6989656aece97cc59cbef1/torchmetrics-0.11.4-py3-none-any.whl (519 kB)\n",
            "\u001b[2K     \u001b[90m━━━━━━━━━━━━━━━━━━━━━━━━━━━━━━━━━━━━━━\u001b[0m \u001b[32m519.2/519.2 kB\u001b[0m \u001b[31m14.2 MB/s\u001b[0m eta \u001b[36m0:00:00\u001b[0m\n",
            "\u001b[?25hRequirement already satisfied: typing-extensions>=4.0.0 in /usr/local/lib/python3.10/dist-packages (from pytorch-lightning) (4.5.0)\n",
            "Collecting lightning-utilities>=0.7.0 (from pytorch-lightning)\n",
            "  Downloading https://pypi.tuna.tsinghua.edu.cn/packages/5d/ec/a20c5d5f26894913da028110310ba55ee254e1b7ff0ff78441e4eeb7291f/lightning_utilities-0.8.0-py3-none-any.whl (20 kB)\n",
            "Requirement already satisfied: pycocotools in /usr/local/lib/python3.10/dist-packages (from mmdet>=3.0.0rc1) (2.0.6)\n",
            "Requirement already satisfied: scipy in /usr/local/lib/python3.10/dist-packages (from mmdet>=3.0.0rc1) (1.10.1)\n",
            "Requirement already satisfied: shapely in /usr/local/lib/python3.10/dist-packages (from mmdet>=3.0.0rc1) (2.0.1)\n",
            "Requirement already satisfied: six in /usr/local/lib/python3.10/dist-packages (from mmdet>=3.0.0rc1) (1.16.0)\n",
            "Collecting terminaltables (from mmdet>=3.0.0rc1)\n",
            "  Downloading https://pypi.tuna.tsinghua.edu.cn/packages/c4/fb/ea621e0a19733e01fe4005d46087d383693c0f4a8f824b47d8d4122c87e0/terminaltables-3.1.10-py2.py3-none-any.whl (15 kB)\n",
            "Requirement already satisfied: requests in /usr/local/lib/python3.10/dist-packages (from fsspec[http]>2021.06.0->pytorch-lightning) (2.27.1)\n",
            "Collecting aiohttp!=4.0.0a0,!=4.0.0a1 (from fsspec[http]>2021.06.0->pytorch-lightning)\n",
            "  Downloading https://pypi.tuna.tsinghua.edu.cn/packages/81/97/90debed02e5be15d4e63fb96ba930e35b66d4e518fa7065dd442345a448b/aiohttp-3.8.4-cp310-cp310-manylinux_2_17_x86_64.manylinux2014_x86_64.whl (1.0 MB)\n",
            "\u001b[2K     \u001b[90m━━━━━━━━━━━━━━━━━━━━━━━━━━━━━━━━━━━━━━━━\u001b[0m \u001b[32m1.0/1.0 MB\u001b[0m \u001b[31m10.7 MB/s\u001b[0m eta \u001b[36m0:00:00\u001b[0m\n",
            "\u001b[?25hRequirement already satisfied: pytz>=2020.1 in /usr/local/lib/python3.10/dist-packages (from pandas>=0.25->seaborn) (2022.7.1)\n",
            "Requirement already satisfied: filelock in /usr/local/lib/python3.10/dist-packages (from torch>=1.11.0->pytorch-lightning) (3.12.0)\n",
            "Requirement already satisfied: sympy in /usr/local/lib/python3.10/dist-packages (from torch>=1.11.0->pytorch-lightning) (1.11.1)\n",
            "Requirement already satisfied: networkx in /usr/local/lib/python3.10/dist-packages (from torch>=1.11.0->pytorch-lightning) (3.1)\n",
            "Requirement already satisfied: jinja2 in /usr/local/lib/python3.10/dist-packages (from torch>=1.11.0->pytorch-lightning) (3.1.2)\n",
            "Requirement already satisfied: triton==2.0.0 in /usr/local/lib/python3.10/dist-packages (from torch>=1.11.0->pytorch-lightning) (2.0.0)\n",
            "Requirement already satisfied: cmake in /usr/local/lib/python3.10/dist-packages (from triton==2.0.0->torch>=1.11.0->pytorch-lightning) (3.25.2)\n",
            "Requirement already satisfied: lit in /usr/local/lib/python3.10/dist-packages (from triton==2.0.0->torch>=1.11.0->pytorch-lightning) (16.0.5)\n",
            "Requirement already satisfied: attrs>=17.3.0 in /usr/local/lib/python3.10/dist-packages (from aiohttp!=4.0.0a0,!=4.0.0a1->fsspec[http]>2021.06.0->pytorch-lightning) (23.1.0)\n",
            "Requirement already satisfied: charset-normalizer<4.0,>=2.0 in /usr/local/lib/python3.10/dist-packages (from aiohttp!=4.0.0a0,!=4.0.0a1->fsspec[http]>2021.06.0->pytorch-lightning) (2.0.12)\n",
            "Collecting multidict<7.0,>=4.5 (from aiohttp!=4.0.0a0,!=4.0.0a1->fsspec[http]>2021.06.0->pytorch-lightning)\n",
            "  Downloading https://pypi.tuna.tsinghua.edu.cn/packages/56/b5/ac112889bfc68e6cf4eda1e4325789b166c51c6cd29d5633e28fb2c2f966/multidict-6.0.4-cp310-cp310-manylinux_2_17_x86_64.manylinux2014_x86_64.whl (114 kB)\n",
            "\u001b[2K     \u001b[90m━━━━━━━━━━━━━━━━━━━━━━━━━━━━━━━━━━━━━━\u001b[0m \u001b[32m114.5/114.5 kB\u001b[0m \u001b[31m14.6 MB/s\u001b[0m eta \u001b[36m0:00:00\u001b[0m\n",
            "\u001b[?25hCollecting async-timeout<5.0,>=4.0.0a3 (from aiohttp!=4.0.0a0,!=4.0.0a1->fsspec[http]>2021.06.0->pytorch-lightning)\n",
            "  Downloading https://pypi.tuna.tsinghua.edu.cn/packages/d6/c1/8991e7c5385b897b8c020cdaad718c5b087a6626d1d11a23e1ea87e325a7/async_timeout-4.0.2-py3-none-any.whl (5.8 kB)\n",
            "Collecting yarl<2.0,>=1.0 (from aiohttp!=4.0.0a0,!=4.0.0a1->fsspec[http]>2021.06.0->pytorch-lightning)\n",
            "  Downloading https://pypi.tuna.tsinghua.edu.cn/packages/c9/d4/a5280faa1b8e9ad3a52ddc4c9aea94dd718f9c55f1e10cfb14580f5ebb45/yarl-1.9.2-cp310-cp310-manylinux_2_17_x86_64.manylinux2014_x86_64.whl (268 kB)\n",
            "\u001b[2K     \u001b[90m━━━━━━━━━━━━━━━━━━━━━━━━━━━━━━━━━━━━━━\u001b[0m \u001b[32m268.8/268.8 kB\u001b[0m \u001b[31m14.5 MB/s\u001b[0m eta \u001b[36m0:00:00\u001b[0m\n",
            "\u001b[?25hCollecting frozenlist>=1.1.1 (from aiohttp!=4.0.0a0,!=4.0.0a1->fsspec[http]>2021.06.0->pytorch-lightning)\n",
            "  Downloading https://pypi.tuna.tsinghua.edu.cn/packages/49/0e/c57ad9178618cf81be0fbb8430f17cf05423403143819d3631c7c09744c2/frozenlist-1.3.3-cp310-cp310-manylinux_2_5_x86_64.manylinux1_x86_64.manylinux_2_17_x86_64.manylinux2014_x86_64.whl (149 kB)\n",
            "\u001b[2K     \u001b[90m━━━━━━━━━━━━━━━━━━━━━━━━━━━━━━━━━━━━━━━\u001b[0m \u001b[32m149.6/149.6 kB\u001b[0m \u001b[31m8.2 MB/s\u001b[0m eta \u001b[36m0:00:00\u001b[0m\n",
            "\u001b[?25hCollecting aiosignal>=1.1.2 (from aiohttp!=4.0.0a0,!=4.0.0a1->fsspec[http]>2021.06.0->pytorch-lightning)\n",
            "  Downloading https://pypi.tuna.tsinghua.edu.cn/packages/76/ac/a7305707cb852b7e16ff80eaf5692309bde30e2b1100a1fcacdc8f731d97/aiosignal-1.3.1-py3-none-any.whl (7.6 kB)\n",
            "Requirement already satisfied: MarkupSafe>=2.0 in /usr/local/lib/python3.10/dist-packages (from jinja2->torch>=1.11.0->pytorch-lightning) (2.1.2)\n",
            "Requirement already satisfied: urllib3<1.27,>=1.21.1 in /usr/local/lib/python3.10/dist-packages (from requests->fsspec[http]>2021.06.0->pytorch-lightning) (1.26.15)\n",
            "Requirement already satisfied: certifi>=2017.4.17 in /usr/local/lib/python3.10/dist-packages (from requests->fsspec[http]>2021.06.0->pytorch-lightning) (2022.12.7)\n",
            "Requirement already satisfied: idna<4,>=2.5 in /usr/local/lib/python3.10/dist-packages (from requests->fsspec[http]>2021.06.0->pytorch-lightning) (3.4)\n",
            "Requirement already satisfied: mpmath>=0.19 in /usr/local/lib/python3.10/dist-packages (from sympy->torch>=1.11.0->pytorch-lightning) (1.3.0)\n",
            "Installing collected packages: terminaltables, multidict, lightning-utilities, frozenlist, async-timeout, yarl, aiosignal, aiohttp, mmdet, torchmetrics, pytorch-lightning\n",
            "Successfully installed aiohttp-3.8.4 aiosignal-1.3.1 async-timeout-4.0.2 frozenlist-1.3.3 lightning-utilities-0.8.0 mmdet-3.0.0 multidict-6.0.4 pytorch-lightning-2.0.3 terminaltables-3.1.10 torchmetrics-0.11.4 yarl-1.9.2\n"
          ]
        }
      ],
      "source": [
        "!pip install opencv-python pillow matplotlib seaborn tqdm pytorch-lightning 'mmdet>=3.0.0rc1' -i https://pypi.tuna.tsinghua.edu.cn/simple"
      ]
    },
    {
      "cell_type": "markdown",
      "metadata": {
        "tags": [],
        "id": "0defb2f8-d5ab-4ee4-a66f-85cc17c221de"
      },
      "source": [
        "## 下载 MMSegmentation"
      ]
    },
    {
      "cell_type": "code",
      "source": [
        "%pwd"
      ],
      "metadata": {
        "colab": {
          "base_uri": "https://localhost:8080/",
          "height": 35
        },
        "id": "9SDaH9QDeUd8",
        "outputId": "2e1a617d-efea-4259-ba4b-05949da024e1"
      },
      "execution_count": 8,
      "outputs": [
        {
          "output_type": "execute_result",
          "data": {
            "text/plain": [
              "'/content/drive/MyDrive/OpenMMlab'"
            ],
            "application/vnd.google.colaboratory.intrinsic+json": {
              "type": "string"
            }
          },
          "metadata": {},
          "execution_count": 8
        }
      ]
    },
    {
      "cell_type": "code",
      "execution_count": 9,
      "metadata": {
        "id": "89026868-58b1-4755-aca3-ded98451e906"
      },
      "outputs": [],
      "source": [
        "# 删掉原有的 mmsegmentation 文件夹（如有）\n",
        "!rm -rf mmsegmentation"
      ]
    },
    {
      "cell_type": "code",
      "execution_count": 10,
      "metadata": {
        "id": "09c51fee-d040-46cf-8d86-c0248ab7fe84",
        "outputId": "55ae43dc-493a-455b-9368-31a8eb4ba93c",
        "colab": {
          "base_uri": "https://localhost:8080/"
        }
      },
      "outputs": [
        {
          "output_type": "stream",
          "name": "stdout",
          "text": [
            "Cloning into 'mmsegmentation'...\n",
            "remote: Enumerating objects: 15132, done.\u001b[K\n",
            "remote: Counting objects: 100% (698/698), done.\u001b[K\n",
            "remote: Compressing objects: 100% (477/477), done.\u001b[K\n",
            "remote: Total 15132 (delta 282), reused 426 (delta 189), pack-reused 14434\u001b[K\n",
            "Receiving objects: 100% (15132/15132), 20.71 MiB | 17.27 MiB/s, done.\n",
            "Resolving deltas: 100% (10587/10587), done.\n",
            "Updating files: 100% (1461/1461), done.\n"
          ]
        }
      ],
      "source": [
        "# 从 github 上下载最新的 mmsegmentation 源代码\n",
        "!git clone https://github.com/open-mmlab/mmsegmentation.git -b dev-1.x"
      ]
    },
    {
      "cell_type": "code",
      "execution_count": 11,
      "metadata": {
        "id": "85x0vm-EbPwd"
      },
      "outputs": [],
      "source": [
        "# 进入主目录\n",
        "import os\n",
        "os.chdir('mmsegmentation')"
      ]
    },
    {
      "cell_type": "markdown",
      "metadata": {
        "id": "f1cd1922-e20a-459a-bf45-e826d8245d88"
      },
      "source": [
        "## 安装 MMSegmentation"
      ]
    },
    {
      "cell_type": "code",
      "source": [
        "!pip install -v -e ."
      ],
      "metadata": {
        "colab": {
          "base_uri": "https://localhost:8080/"
        },
        "id": "P4SRaFIiclKi",
        "outputId": "171dd6e7-a9a5-4b27-bc8d-bc478132b734"
      },
      "execution_count": 12,
      "outputs": [
        {
          "output_type": "stream",
          "name": "stdout",
          "text": [
            "Using pip 23.1.2 from /usr/local/lib/python3.10/dist-packages/pip (python 3.10)\n",
            "Looking in indexes: https://pypi.org/simple, https://us-python.pkg.dev/colab-wheels/public/simple/\n",
            "Obtaining file:///content/drive/MyDrive/OpenMMlab/mmsegmentation\n",
            "  Running command python setup.py egg_info\n",
            "  running egg_info\n",
            "  creating /tmp/pip-pip-egg-info-t159gh5v/mmsegmentation.egg-info\n",
            "  writing /tmp/pip-pip-egg-info-t159gh5v/mmsegmentation.egg-info/PKG-INFO\n",
            "  writing dependency_links to /tmp/pip-pip-egg-info-t159gh5v/mmsegmentation.egg-info/dependency_links.txt\n",
            "  writing requirements to /tmp/pip-pip-egg-info-t159gh5v/mmsegmentation.egg-info/requires.txt\n",
            "  writing top-level names to /tmp/pip-pip-egg-info-t159gh5v/mmsegmentation.egg-info/top_level.txt\n",
            "  writing manifest file '/tmp/pip-pip-egg-info-t159gh5v/mmsegmentation.egg-info/SOURCES.txt'\n",
            "  reading manifest file '/tmp/pip-pip-egg-info-t159gh5v/mmsegmentation.egg-info/SOURCES.txt'\n",
            "  reading manifest template 'MANIFEST.in'\n",
            "  warning: no files found matching 'mmseg/.mim/model-index.yml'\n",
            "  warning: no files found matching '*.py' under directory 'mmseg/.mim/configs'\n",
            "  warning: no files found matching '*.yaml' under directory 'mmseg/.mim/configs'\n",
            "  warning: no files found matching '*.py' under directory 'mmseg/.mim/tools'\n",
            "  warning: no files found matching '*.sh' under directory 'mmseg/.mim/tools'\n",
            "  adding license file 'LICENSE'\n",
            "  writing manifest file '/tmp/pip-pip-egg-info-t159gh5v/mmsegmentation.egg-info/SOURCES.txt'\n",
            "  Preparing metadata (setup.py) ... \u001b[?25l\u001b[?25hdone\n",
            "Requirement already satisfied: matplotlib in /usr/local/lib/python3.10/dist-packages (from mmsegmentation==1.0.0) (3.7.1)\n",
            "Requirement already satisfied: numpy in /usr/local/lib/python3.10/dist-packages (from mmsegmentation==1.0.0) (1.22.4)\n",
            "Requirement already satisfied: packaging in /usr/local/lib/python3.10/dist-packages (from mmsegmentation==1.0.0) (23.1)\n",
            "Requirement already satisfied: prettytable in /usr/local/lib/python3.10/dist-packages (from mmsegmentation==1.0.0) (0.7.2)\n",
            "Requirement already satisfied: scipy in /usr/local/lib/python3.10/dist-packages (from mmsegmentation==1.0.0) (1.10.1)\n",
            "Requirement already satisfied: contourpy>=1.0.1 in /usr/local/lib/python3.10/dist-packages (from matplotlib->mmsegmentation==1.0.0) (1.0.7)\n",
            "Requirement already satisfied: cycler>=0.10 in /usr/local/lib/python3.10/dist-packages (from matplotlib->mmsegmentation==1.0.0) (0.11.0)\n",
            "Requirement already satisfied: fonttools>=4.22.0 in /usr/local/lib/python3.10/dist-packages (from matplotlib->mmsegmentation==1.0.0) (4.39.3)\n",
            "Requirement already satisfied: kiwisolver>=1.0.1 in /usr/local/lib/python3.10/dist-packages (from matplotlib->mmsegmentation==1.0.0) (1.4.4)\n",
            "Requirement already satisfied: pillow>=6.2.0 in /usr/local/lib/python3.10/dist-packages (from matplotlib->mmsegmentation==1.0.0) (8.4.0)\n",
            "Requirement already satisfied: pyparsing>=2.3.1 in /usr/local/lib/python3.10/dist-packages (from matplotlib->mmsegmentation==1.0.0) (3.0.9)\n",
            "Requirement already satisfied: python-dateutil>=2.7 in /usr/local/lib/python3.10/dist-packages (from matplotlib->mmsegmentation==1.0.0) (2.8.2)\n",
            "Requirement already satisfied: six>=1.5 in /usr/local/lib/python3.10/dist-packages (from python-dateutil>=2.7->matplotlib->mmsegmentation==1.0.0) (1.16.0)\n",
            "Installing collected packages: mmsegmentation\n",
            "  Running setup.py develop for mmsegmentation\n",
            "    Running command python setup.py develop\n",
            "    running develop\n",
            "    /usr/local/lib/python3.10/dist-packages/setuptools/command/develop.py:40: EasyInstallDeprecationWarning: easy_install command is deprecated.\n",
            "    !!\n",
            "\n",
            "            ********************************************************************************\n",
            "            Please avoid running ``setup.py`` and ``easy_install``.\n",
            "            Instead, use pypa/build, pypa/installer, pypa/build or\n",
            "            other standards-based tools.\n",
            "\n",
            "            See https://github.com/pypa/setuptools/issues/917 for details.\n",
            "            ********************************************************************************\n",
            "\n",
            "    !!\n",
            "      easy_install.initialize_options(self)\n",
            "    /usr/local/lib/python3.10/dist-packages/setuptools/_distutils/cmd.py:66: SetuptoolsDeprecationWarning: setup.py install is deprecated.\n",
            "    !!\n",
            "\n",
            "            ********************************************************************************\n",
            "            Please avoid running ``setup.py`` directly.\n",
            "            Instead, use pypa/build, pypa/installer, pypa/build or\n",
            "            other standards-based tools.\n",
            "\n",
            "            See https://blog.ganssle.io/articles/2021/10/setup-py-deprecated.html for details.\n",
            "            ********************************************************************************\n",
            "\n",
            "    !!\n",
            "      self.initialize_options()\n",
            "    running egg_info\n",
            "    creating mmsegmentation.egg-info\n",
            "    writing mmsegmentation.egg-info/PKG-INFO\n",
            "    writing dependency_links to mmsegmentation.egg-info/dependency_links.txt\n",
            "    writing requirements to mmsegmentation.egg-info/requires.txt\n",
            "    writing top-level names to mmsegmentation.egg-info/top_level.txt\n",
            "    writing manifest file 'mmsegmentation.egg-info/SOURCES.txt'\n",
            "    reading manifest file 'mmsegmentation.egg-info/SOURCES.txt'\n",
            "    reading manifest template 'MANIFEST.in'\n",
            "    adding license file 'LICENSE'\n",
            "    writing manifest file 'mmsegmentation.egg-info/SOURCES.txt'\n",
            "    running build_ext\n",
            "    Creating /usr/local/lib/python3.10/dist-packages/mmsegmentation.egg-link (link to .)\n",
            "    Adding mmsegmentation 1.0.0 to easy-install.pth file\n",
            "\n",
            "    Installed /content/drive/MyDrive/OpenMMlab/mmsegmentation\n",
            "Successfully installed mmsegmentation-1.0.0\n"
          ]
        }
      ]
    },
    {
      "cell_type": "markdown",
      "source": [
        "# 准备数据集"
      ],
      "metadata": {
        "id": "qY4ZWTv2dEr7"
      }
    },
    {
      "cell_type": "markdown",
      "metadata": {
        "id": "a828bfe4-82e5-497a-9bda-cb9837df2cb3"
      },
      "source": [
        "## 下载预训练模型权重文件和视频素材"
      ]
    },
    {
      "cell_type": "code",
      "execution_count": 13,
      "metadata": {
        "id": "5aac1d0c-dbf5-478c-ab80-7e2aa0ab0f01"
      },
      "outputs": [],
      "source": [
        "import os\n",
        "\n",
        "# 创建 checkpoint 文件夹，用于存放预训练模型权重文件\n",
        "os.mkdir('checkpoint')\n",
        "\n",
        "# 创建 outputs 文件夹，用于存放预测结果\n",
        "os.mkdir('outputs')\n",
        "\n",
        "# 创建 data 文件夹，用于存放图片和视频素材\n",
        "os.mkdir('data')"
      ]
    },
    {
      "cell_type": "markdown",
      "metadata": {
        "id": "e4fb1cb6-2b9b-418c-9230-6b413c748095"
      },
      "source": [
        "## 下载素材至`data`目录"
      ]
    },
    {
      "cell_type": "code",
      "execution_count": 14,
      "metadata": {
        "tags": [],
        "id": "476bcac7-da39-416a-ba15-8d840d3ec06b",
        "outputId": "822ab62f-3683-4690-8b54-6a9f67e35d90",
        "colab": {
          "base_uri": "https://localhost:8080/"
        }
      },
      "outputs": [
        {
          "output_type": "stream",
          "name": "stdout",
          "text": [
            "--2023-06-18 14:32:01--  https://zihao-openmmlab.obs.cn-east-3.myhuaweicloud.com/20230130-mmseg/dataset/watermelon/Watermelon87_Semantic_Seg_Mask.zip\n",
            "Resolving zihao-openmmlab.obs.cn-east-3.myhuaweicloud.com (zihao-openmmlab.obs.cn-east-3.myhuaweicloud.com)... 121.36.235.132\n",
            "Connecting to zihao-openmmlab.obs.cn-east-3.myhuaweicloud.com (zihao-openmmlab.obs.cn-east-3.myhuaweicloud.com)|121.36.235.132|:443... connected.\n",
            "HTTP request sent, awaiting response... 200 OK\n",
            "Length: 13230222 (13M) [application/zip]\n",
            "Saving to: ‘Watermelon87_Semantic_Seg_Mask.zip’\n",
            "\n",
            "Watermelon87_Semant 100%[===================>]  12.62M  5.29MB/s    in 2.4s    \n",
            "\n",
            "2023-06-18 14:32:05 (5.29 MB/s) - ‘Watermelon87_Semantic_Seg_Mask.zip’ saved [13230222/13230222]\n",
            "\n",
            "Archive:  Watermelon87_Semantic_Seg_Mask.zip\n",
            "   creating: data/Watermelon87_Semantic_Seg_Mask/\n",
            "   creating: data/Watermelon87_Semantic_Seg_Mask/img_dir/\n",
            "   creating: data/Watermelon87_Semantic_Seg_Mask/img_dir/train/\n",
            "  inflating: data/Watermelon87_Semantic_Seg_Mask/img_dir/train/IMG_6865-1024x683.jpg  \n",
            "  inflating: data/Watermelon87_Semantic_Seg_Mask/img_dir/train/unnamed.jpg  \n",
            "  inflating: data/Watermelon87_Semantic_Seg_Mask/img_dir/train/maxresdefault.jpg  \n",
            "  inflating: data/Watermelon87_Semantic_Seg_Mask/img_dir/train/R (2).jpeg  \n",
            "  inflating: data/Watermelon87_Semantic_Seg_Mask/img_dir/train/R (1).jpeg  \n",
            "  inflating: data/Watermelon87_Semantic_Seg_Mask/img_dir/train/20170613134012_430390.jpg  \n",
            "  inflating: data/Watermelon87_Semantic_Seg_Mask/img_dir/train/OIP (5).jpeg  \n",
            "  inflating: data/Watermelon87_Semantic_Seg_Mask/img_dir/train/04_35-2.jpg  \n",
            "  inflating: data/Watermelon87_Semantic_Seg_Mask/img_dir/train/pureform-citrulline.jpg  \n",
            "  inflating: data/Watermelon87_Semantic_Seg_Mask/img_dir/train/24a3a0f8a11ae29f8ccca35c822ac0e2991b4773.png  \n",
            "  inflating: data/Watermelon87_Semantic_Seg_Mask/img_dir/train/test.jpg  \n",
            "  inflating: data/Watermelon87_Semantic_Seg_Mask/img_dir/train/Watermelon.jpg  \n",
            "  inflating: data/Watermelon87_Semantic_Seg_Mask/img_dir/train/OIP (15).jpeg  \n",
            "  inflating: data/Watermelon87_Semantic_Seg_Mask/img_dir/train/R (3).jpeg  \n",
            "  inflating: data/Watermelon87_Semantic_Seg_Mask/img_dir/train/OIP (3).jpeg  \n",
            "  inflating: data/Watermelon87_Semantic_Seg_Mask/img_dir/train/vDMIiCPqS1EC.jpg  \n",
            "  inflating: data/Watermelon87_Semantic_Seg_Mask/img_dir/train/R (9).jpeg  \n",
            "  inflating: data/Watermelon87_Semantic_Seg_Mask/img_dir/train/s0569_001_c01.jpg  \n",
            "  inflating: data/Watermelon87_Semantic_Seg_Mask/img_dir/train/OIP (10).jpeg  \n",
            "  inflating: data/Watermelon87_Semantic_Seg_Mask/img_dir/train/OIP (1).jpeg  \n",
            "  inflating: data/Watermelon87_Semantic_Seg_Mask/img_dir/train/2401-food-tip-image-MAIN.jpg  \n",
            "  inflating: data/Watermelon87_Semantic_Seg_Mask/img_dir/train/OIP (2).jpeg  \n",
            "  inflating: data/Watermelon87_Semantic_Seg_Mask/img_dir/train/69735779_m-5b756b48997fa.jpg  \n",
            "  inflating: data/Watermelon87_Semantic_Seg_Mask/img_dir/train/360_F_85084369_iab0VH1ohx2lHtM3OfCncfE9I7VPpl0N.jpg  \n",
            "  inflating: data/Watermelon87_Semantic_Seg_Mask/img_dir/train/045_sozai_l.jpg  \n",
            "  inflating: data/Watermelon87_Semantic_Seg_Mask/img_dir/train/skmrk03.jpg  \n",
            "  inflating: data/Watermelon87_Semantic_Seg_Mask/img_dir/train/8fe7f149146b6866.jpg  \n",
            "  inflating: data/Watermelon87_Semantic_Seg_Mask/img_dir/train/uportcocoloni_16696_0.jpg  \n",
            "  inflating: data/Watermelon87_Semantic_Seg_Mask/img_dir/train/OIP (8).jpeg  \n",
            "  inflating: data/Watermelon87_Semantic_Seg_Mask/img_dir/train/alkompis_QGYeyHjwPY-scaled.jpg  \n",
            "  inflating: data/Watermelon87_Semantic_Seg_Mask/img_dir/train/OIP (7).jpeg  \n",
            "  inflating: data/Watermelon87_Semantic_Seg_Mask/img_dir/train/ac330c7605098e36de5507d857d0b55c.jpg  \n",
            "  inflating: data/Watermelon87_Semantic_Seg_Mask/img_dir/train/c38e1f595c46d502c75bda7ec9bf6078.jpg  \n",
            "  inflating: data/Watermelon87_Semantic_Seg_Mask/img_dir/train/68200_main-1.jpg  \n",
            "  inflating: data/Watermelon87_Semantic_Seg_Mask/img_dir/train/OIP (12).jpeg  \n",
            "  inflating: data/Watermelon87_Semantic_Seg_Mask/img_dir/train/ed2de27518d0526380c9bcc9f9fb78333565cce8.jpg  \n",
            "  inflating: data/Watermelon87_Semantic_Seg_Mask/img_dir/train/R (8).jpeg  \n",
            "  inflating: data/Watermelon87_Semantic_Seg_Mask/img_dir/train/11-loai-trai-cay-dinh-duong-nen-an-hang-ngay-dua-hau.jpg  \n",
            "  inflating: data/Watermelon87_Semantic_Seg_Mask/img_dir/train/piece-watermelon-isolated-white-background-top-view-95945299.jpg  \n",
            "  inflating: data/Watermelon87_Semantic_Seg_Mask/img_dir/train/suika011.jpg  \n",
            "  inflating: data/Watermelon87_Semantic_Seg_Mask/img_dir/train/R (5).jpeg  \n",
            "  inflating: data/Watermelon87_Semantic_Seg_Mask/img_dir/train/R (10).jpeg  \n",
            "  inflating: data/Watermelon87_Semantic_Seg_Mask/img_dir/train/OIP.jpeg  \n",
            "  inflating: data/Watermelon87_Semantic_Seg_Mask/img_dir/train/istockphoto-849574338-170667a.jpg  \n",
            "  inflating: data/Watermelon87_Semantic_Seg_Mask/img_dir/train/R (14).jpeg  \n",
            "  inflating: data/Watermelon87_Semantic_Seg_Mask/img_dir/train/31cc9b997d1e3a8ed5b6a3cbf5efd86d.jpg  \n",
            "  inflating: data/Watermelon87_Semantic_Seg_Mask/img_dir/train/da23-e4580.jpg  \n",
            "  inflating: data/Watermelon87_Semantic_Seg_Mask/img_dir/train/468D11D9CB53158C55CF126CFE3D49C0A070758A_size321_w400_h400.png  \n",
            "  inflating: data/Watermelon87_Semantic_Seg_Mask/img_dir/train/img_de56fb30d23e2c761302ba61198a4be4233656.jpg  \n",
            "  inflating: data/Watermelon87_Semantic_Seg_Mask/img_dir/train/R (15).jpeg  \n",
            "  inflating: data/Watermelon87_Semantic_Seg_Mask/img_dir/train/1471253631_2.jpg  \n",
            "  inflating: data/Watermelon87_Semantic_Seg_Mask/img_dir/train/Manfaat-buah-semangka.jpg  \n",
            "  inflating: data/Watermelon87_Semantic_Seg_Mask/img_dir/train/adpDSC_5275-750x499.jpg  \n",
            "  inflating: data/Watermelon87_Semantic_Seg_Mask/img_dir/train/shutterstock_457769608.jpg  \n",
            "  inflating: data/Watermelon87_Semantic_Seg_Mask/img_dir/train/o0833068314488481500.jpg  \n",
            "  inflating: data/Watermelon87_Semantic_Seg_Mask/img_dir/train/thum-20180809094803.jpg  \n",
            "  inflating: data/Watermelon87_Semantic_Seg_Mask/img_dir/train/7c75f4c6f3bdd9d61d8782ddff1ff6ac.jpg  \n",
            "  inflating: data/Watermelon87_Semantic_Seg_Mask/img_dir/train/img4f375505zik9zj.jpeg  \n",
            "  inflating: data/Watermelon87_Semantic_Seg_Mask/img_dir/train/202007220195_top_img_A.jpg  \n",
            "  inflating: data/Watermelon87_Semantic_Seg_Mask/img_dir/train/R (13).jpeg  \n",
            "  inflating: data/Watermelon87_Semantic_Seg_Mask/img_dir/train/1510702494080_melon_NWS_block-low.jpg  \n",
            "  inflating: data/Watermelon87_Semantic_Seg_Mask/img_dir/train/pfauwbexemva1nvwobqs.jpg  \n",
            "  inflating: data/Watermelon87_Semantic_Seg_Mask/img_dir/train/img56610866.jpg  \n",
            "  inflating: data/Watermelon87_Semantic_Seg_Mask/img_dir/train/0778_02.jpg  \n",
            "  inflating: data/Watermelon87_Semantic_Seg_Mask/img_dir/train/21746.1.jpg  \n",
            "  inflating: data/Watermelon87_Semantic_Seg_Mask/img_dir/train/8-thuc-pham-chong-cam-cum-1459496975020.jpg  \n",
            "  inflating: data/Watermelon87_Semantic_Seg_Mask/img_dir/train/huyet-ap-cao-thap-nen-an-gi-kieng-gi-tot-on-dinh-2.jpg  \n",
            "  inflating: data/Watermelon87_Semantic_Seg_Mask/img_dir/train/foods083_img01.jpg  \n",
            "  inflating: data/Watermelon87_Semantic_Seg_Mask/img_dir/train/OIP (14).jpeg  \n",
            "  inflating: data/Watermelon87_Semantic_Seg_Mask/img_dir/train/watermelon-slices.jpg  \n",
            "   creating: data/Watermelon87_Semantic_Seg_Mask/img_dir/val/\n",
            "  inflating: data/Watermelon87_Semantic_Seg_Mask/img_dir/val/watermelon-medium.jpg  \n",
            "  inflating: data/Watermelon87_Semantic_Seg_Mask/img_dir/val/la_wm_img01.jpg  \n",
            "  inflating: data/Watermelon87_Semantic_Seg_Mask/img_dir/val/OIP (11).jpeg  \n",
            "  inflating: data/Watermelon87_Semantic_Seg_Mask/img_dir/val/01bd15599c606aa801201794e1fa30.jpg@1280w_1l_2o_100sh.jpg  \n",
            "  inflating: data/Watermelon87_Semantic_Seg_Mask/img_dir/val/17897490_93d9666602_z.jpg  \n",
            "  inflating: data/Watermelon87_Semantic_Seg_Mask/img_dir/val/R.jpeg  \n",
            "  inflating: data/Watermelon87_Semantic_Seg_Mask/img_dir/val/5b3c8018N634d43bd.jpg  \n",
            "  inflating: data/Watermelon87_Semantic_Seg_Mask/img_dir/val/dua-hau-1.jpg  \n",
            "  inflating: data/Watermelon87_Semantic_Seg_Mask/img_dir/val/depositphotos_204189678-stock-photo-slice-watermelon-white-background.jpg  \n",
            "  inflating: data/Watermelon87_Semantic_Seg_Mask/img_dir/val/OIP (13).jpeg  \n",
            "  inflating: data/Watermelon87_Semantic_Seg_Mask/img_dir/val/e52m_8686.jpg  \n",
            "  inflating: data/Watermelon87_Semantic_Seg_Mask/img_dir/val/OIP (9).jpeg  \n",
            "  inflating: data/Watermelon87_Semantic_Seg_Mask/img_dir/val/OIP (4).jpeg  \n",
            "  inflating: data/Watermelon87_Semantic_Seg_Mask/img_dir/val/R (4).jpeg  \n",
            "  inflating: data/Watermelon87_Semantic_Seg_Mask/img_dir/val/L007-05_5.jpg  \n",
            "  inflating: data/Watermelon87_Semantic_Seg_Mask/img_dir/val/dun-soi-hat-dua-hau-lay-nuoc-uong-ban-se-bat-ngo-vi-ket-qua-nuochatduah--u1-1493799084-width500height313.jpg  \n",
            "  inflating: data/Watermelon87_Semantic_Seg_Mask/img_dir/val/denn-ke-11-7.jpg  \n",
            "   creating: data/Watermelon87_Semantic_Seg_Mask/ann_dir/\n",
            "   creating: data/Watermelon87_Semantic_Seg_Mask/ann_dir/train/\n",
            "  inflating: data/Watermelon87_Semantic_Seg_Mask/ann_dir/train/IMG_6865-1024x683.png  \n",
            "  inflating: data/Watermelon87_Semantic_Seg_Mask/ann_dir/train/unnamed.png  \n",
            "  inflating: data/Watermelon87_Semantic_Seg_Mask/ann_dir/train/maxresdefault.png  \n",
            "  inflating: data/Watermelon87_Semantic_Seg_Mask/ann_dir/train/R (2).png  \n",
            "  inflating: data/Watermelon87_Semantic_Seg_Mask/ann_dir/train/R (1).png  \n",
            "  inflating: data/Watermelon87_Semantic_Seg_Mask/ann_dir/train/20170613134012_430390.png  \n",
            "  inflating: data/Watermelon87_Semantic_Seg_Mask/ann_dir/train/OIP (5).png  \n",
            "  inflating: data/Watermelon87_Semantic_Seg_Mask/ann_dir/train/04_35-2.png  \n",
            "  inflating: data/Watermelon87_Semantic_Seg_Mask/ann_dir/train/pureform-citrulline.png  \n",
            "  inflating: data/Watermelon87_Semantic_Seg_Mask/ann_dir/train/24a3a0f8a11ae29f8ccca35c822ac0e2991b4773.png  \n",
            "  inflating: data/Watermelon87_Semantic_Seg_Mask/ann_dir/train/test.png  \n",
            "  inflating: data/Watermelon87_Semantic_Seg_Mask/ann_dir/train/Watermelon.png  \n",
            "  inflating: data/Watermelon87_Semantic_Seg_Mask/ann_dir/train/OIP (15).png  \n",
            "  inflating: data/Watermelon87_Semantic_Seg_Mask/ann_dir/train/R (3).png  \n",
            "  inflating: data/Watermelon87_Semantic_Seg_Mask/ann_dir/train/OIP (3).png  \n",
            "  inflating: data/Watermelon87_Semantic_Seg_Mask/ann_dir/train/vDMIiCPqS1EC.png  \n",
            "  inflating: data/Watermelon87_Semantic_Seg_Mask/ann_dir/train/R (9).png  \n",
            "  inflating: data/Watermelon87_Semantic_Seg_Mask/ann_dir/train/s0569_001_c01.png  \n",
            "  inflating: data/Watermelon87_Semantic_Seg_Mask/ann_dir/train/OIP (10).png  \n",
            "  inflating: data/Watermelon87_Semantic_Seg_Mask/ann_dir/train/OIP (1).png  \n",
            "  inflating: data/Watermelon87_Semantic_Seg_Mask/ann_dir/train/2401-food-tip-image-MAIN.png  \n",
            "  inflating: data/Watermelon87_Semantic_Seg_Mask/ann_dir/train/OIP (2).png  \n",
            "  inflating: data/Watermelon87_Semantic_Seg_Mask/ann_dir/train/69735779_m-5b756b48997fa.png  \n",
            "  inflating: data/Watermelon87_Semantic_Seg_Mask/ann_dir/train/360_F_85084369_iab0VH1ohx2lHtM3OfCncfE9I7VPpl0N.png  \n",
            "  inflating: data/Watermelon87_Semantic_Seg_Mask/ann_dir/train/045_sozai_l.png  \n",
            "  inflating: data/Watermelon87_Semantic_Seg_Mask/ann_dir/train/skmrk03.png  \n",
            "  inflating: data/Watermelon87_Semantic_Seg_Mask/ann_dir/train/8fe7f149146b6866.png  \n",
            "  inflating: data/Watermelon87_Semantic_Seg_Mask/ann_dir/train/uportcocoloni_16696_0.png  \n",
            "  inflating: data/Watermelon87_Semantic_Seg_Mask/ann_dir/train/OIP (8).png  \n",
            "  inflating: data/Watermelon87_Semantic_Seg_Mask/ann_dir/train/alkompis_QGYeyHjwPY-scaled.png  \n",
            "  inflating: data/Watermelon87_Semantic_Seg_Mask/ann_dir/train/OIP (7).png  \n",
            "  inflating: data/Watermelon87_Semantic_Seg_Mask/ann_dir/train/ac330c7605098e36de5507d857d0b55c.png  \n",
            "  inflating: data/Watermelon87_Semantic_Seg_Mask/ann_dir/train/c38e1f595c46d502c75bda7ec9bf6078.png  \n",
            "  inflating: data/Watermelon87_Semantic_Seg_Mask/ann_dir/train/68200_main-1.png  \n",
            "  inflating: data/Watermelon87_Semantic_Seg_Mask/ann_dir/train/OIP (12).png  \n",
            "  inflating: data/Watermelon87_Semantic_Seg_Mask/ann_dir/train/ed2de27518d0526380c9bcc9f9fb78333565cce8.png  \n",
            "  inflating: data/Watermelon87_Semantic_Seg_Mask/ann_dir/train/R (8).png  \n",
            "  inflating: data/Watermelon87_Semantic_Seg_Mask/ann_dir/train/11-loai-trai-cay-dinh-duong-nen-an-hang-ngay-dua-hau.png  \n",
            "  inflating: data/Watermelon87_Semantic_Seg_Mask/ann_dir/train/piece-watermelon-isolated-white-background-top-view-95945299.png  \n",
            "  inflating: data/Watermelon87_Semantic_Seg_Mask/ann_dir/train/suika011.png  \n",
            "  inflating: data/Watermelon87_Semantic_Seg_Mask/ann_dir/train/R (5).png  \n",
            "  inflating: data/Watermelon87_Semantic_Seg_Mask/ann_dir/train/R (10).png  \n",
            "  inflating: data/Watermelon87_Semantic_Seg_Mask/ann_dir/train/OIP.png  \n",
            "  inflating: data/Watermelon87_Semantic_Seg_Mask/ann_dir/train/istockphoto-849574338-170667a.png  \n",
            "  inflating: data/Watermelon87_Semantic_Seg_Mask/ann_dir/train/R (14).png  \n",
            "  inflating: data/Watermelon87_Semantic_Seg_Mask/ann_dir/train/31cc9b997d1e3a8ed5b6a3cbf5efd86d.png  \n",
            "  inflating: data/Watermelon87_Semantic_Seg_Mask/ann_dir/train/da23-e4580.png  \n",
            "  inflating: data/Watermelon87_Semantic_Seg_Mask/ann_dir/train/468D11D9CB53158C55CF126CFE3D49C0A070758A_size321_w400_h400.png  \n",
            "  inflating: data/Watermelon87_Semantic_Seg_Mask/ann_dir/train/img_de56fb30d23e2c761302ba61198a4be4233656.png  \n",
            "  inflating: data/Watermelon87_Semantic_Seg_Mask/ann_dir/train/R (15).png  \n",
            "  inflating: data/Watermelon87_Semantic_Seg_Mask/ann_dir/train/1471253631_2.png  \n",
            "  inflating: data/Watermelon87_Semantic_Seg_Mask/ann_dir/train/Manfaat-buah-semangka.png  \n",
            "  inflating: data/Watermelon87_Semantic_Seg_Mask/ann_dir/train/adpDSC_5275-750x499.png  \n",
            "  inflating: data/Watermelon87_Semantic_Seg_Mask/ann_dir/train/shutterstock_457769608.png  \n",
            "  inflating: data/Watermelon87_Semantic_Seg_Mask/ann_dir/train/o0833068314488481500.png  \n",
            "  inflating: data/Watermelon87_Semantic_Seg_Mask/ann_dir/train/thum-20180809094803.png  \n",
            "  inflating: data/Watermelon87_Semantic_Seg_Mask/ann_dir/train/7c75f4c6f3bdd9d61d8782ddff1ff6ac.png  \n",
            "  inflating: data/Watermelon87_Semantic_Seg_Mask/ann_dir/train/img4f375505zik9zj.png  \n",
            "  inflating: data/Watermelon87_Semantic_Seg_Mask/ann_dir/train/202007220195_top_img_A.png  \n",
            "  inflating: data/Watermelon87_Semantic_Seg_Mask/ann_dir/train/R (13).png  \n",
            "  inflating: data/Watermelon87_Semantic_Seg_Mask/ann_dir/train/1510702494080_melon_NWS_block-low.png  \n",
            "  inflating: data/Watermelon87_Semantic_Seg_Mask/ann_dir/train/pfauwbexemva1nvwobqs.png  \n",
            "  inflating: data/Watermelon87_Semantic_Seg_Mask/ann_dir/train/img56610866.png  \n",
            "  inflating: data/Watermelon87_Semantic_Seg_Mask/ann_dir/train/0778_02.png  \n",
            "  inflating: data/Watermelon87_Semantic_Seg_Mask/ann_dir/train/21746.png  \n",
            "  inflating: data/Watermelon87_Semantic_Seg_Mask/ann_dir/train/8-thuc-pham-chong-cam-cum-1459496975020.png  \n",
            "  inflating: data/Watermelon87_Semantic_Seg_Mask/ann_dir/train/huyet-ap-cao-thap-nen-an-gi-kieng-gi-tot-on-dinh-2.png  \n",
            "  inflating: data/Watermelon87_Semantic_Seg_Mask/ann_dir/train/foods083_img01.png  \n",
            "  inflating: data/Watermelon87_Semantic_Seg_Mask/ann_dir/train/OIP (14).png  \n",
            "  inflating: data/Watermelon87_Semantic_Seg_Mask/ann_dir/train/watermelon-slices.png  \n",
            "   creating: data/Watermelon87_Semantic_Seg_Mask/ann_dir/val/\n",
            "  inflating: data/Watermelon87_Semantic_Seg_Mask/ann_dir/val/watermelon-medium.png  \n",
            "  inflating: data/Watermelon87_Semantic_Seg_Mask/ann_dir/val/la_wm_img01.png  \n",
            "  inflating: data/Watermelon87_Semantic_Seg_Mask/ann_dir/val/OIP (11).png  \n",
            "  inflating: data/Watermelon87_Semantic_Seg_Mask/ann_dir/val/01bd15599c606aa801201794e1fa30.png  \n",
            "  inflating: data/Watermelon87_Semantic_Seg_Mask/ann_dir/val/17897490_93d9666602_z.png  \n",
            "  inflating: data/Watermelon87_Semantic_Seg_Mask/ann_dir/val/R.png  \n",
            "  inflating: data/Watermelon87_Semantic_Seg_Mask/ann_dir/val/5b3c8018N634d43bd.png  \n",
            "  inflating: data/Watermelon87_Semantic_Seg_Mask/ann_dir/val/dua-hau-1.png  \n",
            "  inflating: data/Watermelon87_Semantic_Seg_Mask/ann_dir/val/depositphotos_204189678-stock-photo-slice-watermelon-white-background.png  \n",
            "  inflating: data/Watermelon87_Semantic_Seg_Mask/ann_dir/val/OIP (13).png  \n",
            "  inflating: data/Watermelon87_Semantic_Seg_Mask/ann_dir/val/e52m_8686.png  \n",
            "  inflating: data/Watermelon87_Semantic_Seg_Mask/ann_dir/val/OIP (9).png  \n",
            "  inflating: data/Watermelon87_Semantic_Seg_Mask/ann_dir/val/OIP (4).png  \n",
            "  inflating: data/Watermelon87_Semantic_Seg_Mask/ann_dir/val/R (4).png  \n",
            "  inflating: data/Watermelon87_Semantic_Seg_Mask/ann_dir/val/L007-05_5.png  \n",
            "  inflating: data/Watermelon87_Semantic_Seg_Mask/ann_dir/val/dun-soi-hat-dua-hau-lay-nuoc-uong-ban-se-bat-ngo-vi-ket-qua-nuochatduah--u1-1493799084-width500height313.png  \n",
            "  inflating: data/Watermelon87_Semantic_Seg_Mask/ann_dir/val/denn-ke-11-7.png  \n"
          ]
        }
      ],
      "source": [
        "# 西瓜图\n",
        "\n",
        "!rm -rf Watermelon87_Semantic_Seg_Mask.zip Watermelon87_Semantic_Seg_Mask\n",
        "\n",
        "!wget https://zihao-openmmlab.obs.cn-east-3.myhuaweicloud.com/20230130-mmseg/dataset/watermelon/Watermelon87_Semantic_Seg_Mask.zip\n",
        "\n",
        "!unzip -d data Watermelon87_Semantic_Seg_Mask.zip  # 解压\n",
        "\n",
        "!rm -rf Dubai-dataset.zip # 删除压缩包\n"
      ]
    },
    {
      "cell_type": "markdown",
      "metadata": {
        "id": "fa97e1da-f245-4d32-892d-dec07a6b2c16"
      },
      "source": [
        "## 检查安装成功"
      ]
    },
    {
      "cell_type": "code",
      "execution_count": 15,
      "metadata": {
        "id": "424fca02-13cc-493f-8833-ec63900f02d3",
        "outputId": "f6373187-50ad-4582-db7e-e839cbc04854",
        "colab": {
          "base_uri": "https://localhost:8080/"
        }
      },
      "outputs": [
        {
          "output_type": "stream",
          "name": "stdout",
          "text": [
            "Pytorch 版本 2.0.1+cu118\n",
            "CUDA 是否可用 True\n"
          ]
        }
      ],
      "source": [
        "# 检查 Pytorch\n",
        "import torch, torchvision\n",
        "print('Pytorch 版本', torch.__version__)\n",
        "print('CUDA 是否可用',torch.cuda.is_available())"
      ]
    },
    {
      "cell_type": "code",
      "execution_count": 16,
      "metadata": {
        "id": "96a6e738-d9d3-4e9f-a053-15bf2f29d43b",
        "outputId": "12d47509-9c6d-4f85-b5a5-7ef294f84068",
        "colab": {
          "base_uri": "https://localhost:8080/"
        }
      },
      "outputs": [
        {
          "output_type": "stream",
          "name": "stdout",
          "text": [
            "MMCV版本 2.0.0\n",
            "CUDA版本 11.8\n",
            "编译器版本 GCC 9.3\n"
          ]
        }
      ],
      "source": [
        "# 检查 mmcv\n",
        "import mmcv\n",
        "from mmcv.ops import get_compiling_cuda_version, get_compiler_version\n",
        "print('MMCV版本', mmcv.__version__)\n",
        "print('CUDA版本', get_compiling_cuda_version())\n",
        "print('编译器版本', get_compiler_version())"
      ]
    },
    {
      "cell_type": "code",
      "execution_count": 17,
      "metadata": {
        "id": "dae8b28c-fa1f-4911-ba27-50ed745e9679",
        "outputId": "f262f85b-143d-470e-c204-33afb53d0e53",
        "colab": {
          "base_uri": "https://localhost:8080/"
        }
      },
      "outputs": [
        {
          "output_type": "stream",
          "name": "stdout",
          "text": [
            "mmsegmentation版本 1.0.0\n"
          ]
        }
      ],
      "source": [
        "# 检查 mmsegmentation\n",
        "import mmseg\n",
        "from mmseg.utils import register_all_modules\n",
        "from mmseg.apis import inference_model, init_model\n",
        "print('mmsegmentation版本', mmseg.__version__)"
      ]
    },
    {
      "cell_type": "markdown",
      "metadata": {
        "id": "6f89f196-6f70-46a5-9715-ee4755717c13"
      },
      "source": [
        "没有报错，即证明安装成功。"
      ]
    },
    {
      "cell_type": "markdown",
      "metadata": {
        "tags": [],
        "id": "a5277a85-e3b0-4d5e-b1f5-b22b6ccf5068"
      },
      "source": [
        "## 设置Matplotlib中文字体"
      ]
    },
    {
      "cell_type": "code",
      "execution_count": 18,
      "metadata": {
        "id": "e05ba7a3-4e4a-4b7e-8501-a25e9f8618fa"
      },
      "outputs": [],
      "source": [
        "# # windows操作系统\n",
        "# plt.rcParams['font.sans-serif']=['SimHei']  # 用来正常显示中文标签\n",
        "# plt.rcParams['axes.unicode_minus']=False  # 用来正常显示负号"
      ]
    },
    {
      "cell_type": "code",
      "execution_count": 19,
      "metadata": {
        "id": "bc0210cb-3e25-45d4-aa63-07fea8130187"
      },
      "outputs": [],
      "source": [
        "# Mac操作系统，参考 https://www.ngui.cc/51cto/show-727683.html\n",
        "# 下载 simhei.ttf 字体文件\n",
        "# !wget https://zihao-openmmlab.obs.cn-east-3.myhuaweicloud.com/20220716-mmclassification/dataset/SimHei.ttf"
      ]
    },
    {
      "cell_type": "code",
      "execution_count": 20,
      "metadata": {
        "id": "fbfa31b1-42a7-4e87-8368-612db5d370d6"
      },
      "outputs": [],
      "source": [
        "# Linux操作系统，例如 云GPU平台：https://featurize.cn/?s=d7ce99f842414bfcaea5662a97581bd1\n",
        "# 如果遇到 SSL 相关报错，重新运行本代码块即可\n",
        "# !wget https://zihao-openmmlab.obs.cn-east-3.myhuaweicloud.com/20220716-mmclassification/dataset/SimHei.ttf -O /environment/miniconda3/lib/python3.7/site-packages/matplotlib/mpl-data/fonts/ttf/SimHei.ttf\n",
        "# !rm -rf /home/featurize/.cache/matplotlib\n",
        "\n",
        "# import matplotlib\n",
        "# import matplotlib.pyplot as plt\n",
        "# matplotlib.rc(\"font\",family='SimHei') # 中文字体\n"
      ]
    },
    {
      "cell_type": "code",
      "source": [
        "# Colab 中文\n",
        "# refer:https://sujingjhong.com/posts/how-to-show-matplotlib-visual-packages-in-chinese-on-colab/\n",
        "\n",
        "# 從 Google API 上下載字體放到暫存資料夾底下\n",
        "!wget 'https://noto-website-2.storage.googleapis.com/pkgs/NotoSansCJKtc-hinted.zip'\n",
        "!mkdir /tmp/fonts\n",
        "!unzip -o NotoSansCJKtc-hinted.zip -d /tmp/fonts/\n",
        "!mv /tmp/fonts/NotoSansMonoCJKtc-Regular.otf /usr/share/fonts/truetype/NotoSansMonoCJKtc-Regular.otf -f\n",
        "!rm -rf /tmp/fonts\n",
        "!rm NotoSansCJKtc-hinted.zip\n",
        "\n",
        "\n",
        "# 指定字體\n",
        "import matplotlib.font_manager as font_manager\n",
        "import matplotlib.pyplot as plt\n",
        "font_dirs = ['/usr/share/fonts/truetype/']\n",
        "font_files = font_manager.findSystemFonts(fontpaths=font_dirs)\n",
        "\n",
        "for font_file in font_files:\n",
        "  font_manager.fontManager.addfont(font_file)\n",
        "\n",
        "plt.rcParams['font.family'] = \"Noto Sans Mono CJK TC\""
      ],
      "metadata": {
        "colab": {
          "base_uri": "https://localhost:8080/"
        },
        "id": "cbYHN_d2hKTZ",
        "outputId": "892fd689-73a4-44da-d2b5-1635adef6ebf"
      },
      "execution_count": 21,
      "outputs": [
        {
          "output_type": "stream",
          "name": "stdout",
          "text": [
            "--2023-06-18 14:32:22--  https://noto-website-2.storage.googleapis.com/pkgs/NotoSansCJKtc-hinted.zip\n",
            "Resolving noto-website-2.storage.googleapis.com (noto-website-2.storage.googleapis.com)... 209.85.146.128, 2607:f8b0:4001:c1f::80\n",
            "Connecting to noto-website-2.storage.googleapis.com (noto-website-2.storage.googleapis.com)|209.85.146.128|:443... connected.\n",
            "HTTP request sent, awaiting response... 200 OK\n",
            "Length: 121247366 (116M) [application/zip]\n",
            "Saving to: ‘NotoSansCJKtc-hinted.zip’\n",
            "\n",
            "NotoSansCJKtc-hinte 100%[===================>] 115.63M  58.2MB/s    in 2.0s    \n",
            "\n",
            "2023-06-18 14:32:25 (58.2 MB/s) - ‘NotoSansCJKtc-hinted.zip’ saved [121247366/121247366]\n",
            "\n",
            "Archive:  NotoSansCJKtc-hinted.zip\n",
            "  inflating: /tmp/fonts/LICENSE_OFL.txt  \n",
            "  inflating: /tmp/fonts/NotoSansCJKtc-Black.otf  \n",
            "  inflating: /tmp/fonts/NotoSansCJKtc-Bold.otf  \n",
            "  inflating: /tmp/fonts/NotoSansCJKtc-DemiLight.otf  \n",
            "  inflating: /tmp/fonts/NotoSansCJKtc-Light.otf  \n",
            "  inflating: /tmp/fonts/NotoSansCJKtc-Medium.otf  \n",
            "  inflating: /tmp/fonts/NotoSansCJKtc-Regular.otf  \n",
            "  inflating: /tmp/fonts/NotoSansCJKtc-Thin.otf  \n",
            "  inflating: /tmp/fonts/NotoSansMonoCJKtc-Bold.otf  \n",
            "  inflating: /tmp/fonts/NotoSansMonoCJKtc-Regular.otf  \n",
            "  inflating: /tmp/fonts/README       \n"
          ]
        }
      ]
    },
    {
      "cell_type": "code",
      "execution_count": 22,
      "metadata": {
        "id": "41b217bb-f628-48c2-a5be-108e2f2b7597",
        "outputId": "283f4571-b0d8-4acc-b31a-5edf6aeeaa89",
        "colab": {
          "base_uri": "https://localhost:8080/",
          "height": 513
        }
      },
      "outputs": [
        {
          "output_type": "execute_result",
          "data": {
            "text/plain": [
              "[<matplotlib.lines.Line2D at 0x7f4261d561d0>]"
            ]
          },
          "metadata": {},
          "execution_count": 22
        },
        {
          "output_type": "execute_result",
          "data": {
            "text/plain": [
              "Text(0.5, 1.0, 'matplotlib中文字体测试')"
            ]
          },
          "metadata": {},
          "execution_count": 22
        },
        {
          "output_type": "execute_result",
          "data": {
            "text/plain": [
              "Text(0.5, 0, 'X轴')"
            ]
          },
          "metadata": {},
          "execution_count": 22
        },
        {
          "output_type": "execute_result",
          "data": {
            "text/plain": [
              "Text(0, 0.5, 'Y轴')"
            ]
          },
          "metadata": {},
          "execution_count": 22
        },
        {
          "output_type": "display_data",
          "data": {
            "text/plain": [
              "<Figure size 640x480 with 1 Axes>"
            ],
            "image/png": "[encoded data removed]"
          },
          "metadata": {}
        }
      ],
      "source": [
        "plt.plot([1,2,3], [100,500,300])\n",
        "plt.title('matplotlib中文字体测试', fontsize=25)\n",
        "plt.xlabel('X轴', fontsize=15)\n",
        "plt.ylabel('Y轴', fontsize=15)\n",
        "plt.show()"
      ]
    },
    {
      "cell_type": "markdown",
      "metadata": {
        "id": "fH-mNgXSc9Ub"
      },
      "source": [
        "# 准备config配置文件"
      ]
    },
    {
      "cell_type": "markdown",
      "metadata": {
        "tags": [],
        "id": "4oD-hLwec9Uc"
      },
      "source": [
        "## 进入MMSegmentation主目录"
      ]
    },
    {
      "cell_type": "code",
      "source": [
        "%pwd"
      ],
      "metadata": {
        "colab": {
          "base_uri": "https://localhost:8080/",
          "height": 35
        },
        "id": "EQeyglfNhuLI",
        "outputId": "d66f3a44-43a1-4c0c-dbf0-a0efe7a67064"
      },
      "execution_count": 23,
      "outputs": [
        {
          "output_type": "execute_result",
          "data": {
            "text/plain": [
              "'/content/drive/MyDrive/OpenMMlab/mmsegmentation'"
            ],
            "application/vnd.google.colaboratory.intrinsic+json": {
              "type": "string"
            }
          },
          "metadata": {},
          "execution_count": 23
        }
      ]
    },
    {
      "cell_type": "code",
      "execution_count": 24,
      "metadata": {
        "id": "s4TX2S2ic9Ud"
      },
      "outputs": [],
      "source": [
        "# import os\n",
        "# os.chdir('../mmsegmentation')"
      ]
    },
    {
      "cell_type": "code",
      "execution_count": 25,
      "metadata": {
        "id": "eJRDilSuc9Ud",
        "outputId": "fb234d44-5664-4ab0-f412-f7fab70492b3",
        "colab": {
          "base_uri": "https://localhost:8080/",
          "height": 35
        }
      },
      "outputs": [
        {
          "output_type": "execute_result",
          "data": {
            "text/plain": [
              "'/content/drive/MyDrive/OpenMMlab/mmsegmentation'"
            ],
            "application/vnd.google.colaboratory.intrinsic+json": {
              "type": "string"
            }
          },
          "metadata": {},
          "execution_count": 25
        }
      ],
      "source": [
        "os.getcwd()"
      ]
    },
    {
      "cell_type": "markdown",
      "metadata": {
        "id": "HC-GGtTNc9Ue"
      },
      "source": [
        "## 导入工具包"
      ]
    },
    {
      "cell_type": "code",
      "execution_count": 26,
      "metadata": {
        "id": "mAE_h7XhPT7d"
      },
      "outputs": [],
      "source": [
        "import numpy as np\n",
        "from PIL import Image\n",
        "\n",
        "import os.path as osp\n",
        "from tqdm import tqdm\n",
        "\n",
        "import mmcv\n",
        "import mmengine\n",
        "import matplotlib.pyplot as plt\n",
        "%matplotlib inline"
      ]
    },
    {
      "cell_type": "markdown",
      "metadata": {
        "id": "IBCwoi1bc9Ue"
      },
      "source": [
        "## 定义数据集类（各类别名称及配色）"
      ]
    },
    {
      "cell_type": "code",
      "execution_count": 27,
      "metadata": {
        "id": "p6LqIl87c9Ue",
        "outputId": "ad39f6c3-95ae-4ee9-c7ae-5d5230337af4",
        "colab": {
          "base_uri": "https://localhost:8080/"
        }
      },
      "outputs": [
        {
          "output_type": "stream",
          "name": "stdout",
          "text": [
            "--2023-06-18 14:32:48--  https://zihao-openmmlab.obs.cn-east-3.myhuaweicloud.com/20230130-mmseg/Dubai/DubaiDataset.py\n",
            "Resolving zihao-openmmlab.obs.cn-east-3.myhuaweicloud.com (zihao-openmmlab.obs.cn-east-3.myhuaweicloud.com)... 121.36.235.132\n",
            "Connecting to zihao-openmmlab.obs.cn-east-3.myhuaweicloud.com (zihao-openmmlab.obs.cn-east-3.myhuaweicloud.com)|121.36.235.132|:443... connected.\n",
            "HTTP request sent, awaiting response... 200 OK\n",
            "Length: 867 [binary/octet-stream]\n",
            "Saving to: ‘mmseg/datasets/DubaiDataset.py’\n",
            "\n",
            "DubaiDataset.py     100%[===================>]     867  --.-KB/s    in 0s      \n",
            "\n",
            "2023-06-18 14:32:51 (19.8 MB/s) - ‘mmseg/datasets/DubaiDataset.py’ saved [867/867]\n",
            "\n"
          ]
        }
      ],
      "source": [
        "!rm -rf mmseg/datasets/DubaiDataset.py # 删除原有文件\n",
        "!wget https://zihao-openmmlab.obs.cn-east-3.myhuaweicloud.com/20230130-mmseg/Dubai/DubaiDataset.py -P mmseg/datasets\n"
      ]
    },
    {
      "cell_type": "markdown",
      "source": [
        "需要修改:\n",
        "class DubaiDataset(BaseSegDataset):\n",
        "    # 类别和对应的可视化配色\n",
        "    METAINFO = {\n",
        "        'classes':['/', 'red', 'green', 'white', 'seed-black', 'seed-white'],\n",
        "        'palette':[[132,41,246], [228,193,110], [152,16,60], [58,221,254], [41,169,226], [155,155,155]]\n",
        "    }"
      ],
      "metadata": {
        "id": "duWVoa9yyOdh"
      }
    },
    {
      "cell_type": "markdown",
      "metadata": {
        "id": "DzVy0dh8c9Uf"
      },
      "source": [
        "## 注册数据集类"
      ]
    },
    {
      "cell_type": "code",
      "execution_count": 28,
      "metadata": {
        "id": "msjh8Ogfc9Uf",
        "outputId": "2e911423-a71d-42fc-97fb-4afb5c97cf55",
        "colab": {
          "base_uri": "https://localhost:8080/"
        }
      },
      "outputs": [
        {
          "output_type": "stream",
          "name": "stdout",
          "text": [
            "--2023-06-18 14:33:48--  https://zihao-openmmlab.obs.cn-east-3.myhuaweicloud.com/20230130-mmseg/Dubai/__init__.py\n",
            "Resolving zihao-openmmlab.obs.cn-east-3.myhuaweicloud.com (zihao-openmmlab.obs.cn-east-3.myhuaweicloud.com)... 121.36.235.132\n",
            "Connecting to zihao-openmmlab.obs.cn-east-3.myhuaweicloud.com (zihao-openmmlab.obs.cn-east-3.myhuaweicloud.com)|121.36.235.132|:443... connected.\n",
            "HTTP request sent, awaiting response... 200 OK\n",
            "Length: 2620 (2.6K) [binary/octet-stream]\n",
            "Saving to: ‘mmseg/datasets/__init__.py’\n",
            "\n",
            "__init__.py         100%[===================>]   2.56K  --.-KB/s    in 0s      \n",
            "\n",
            "2023-06-18 14:33:49 (45.1 MB/s) - ‘mmseg/datasets/__init__.py’ saved [2620/2620]\n",
            "\n"
          ]
        }
      ],
      "source": [
        "!rm -rf mmseg/datasets/__init__.py # 删除原有文件\n",
        "!wget https://zihao-openmmlab.obs.cn-east-3.myhuaweicloud.com/20230130-mmseg/Dubai/__init__.py -P mmseg/datasets\n"
      ]
    },
    {
      "cell_type": "markdown",
      "metadata": {
        "id": "bgirtRAhc9Uf"
      },
      "source": [
        "## 定义训练及测试pipeline"
      ]
    },
    {
      "cell_type": "code",
      "execution_count": 29,
      "metadata": {
        "id": "-1Z_il2bc9Uf",
        "outputId": "5e9933dc-6dcf-4158-da1e-bd5957470ce8",
        "colab": {
          "base_uri": "https://localhost:8080/"
        }
      },
      "outputs": [
        {
          "output_type": "stream",
          "name": "stdout",
          "text": [
            "--2023-06-18 14:33:54--  https://zihao-openmmlab.obs.cn-east-3.myhuaweicloud.com/20230130-mmseg/Dubai/DubaiDataset_pipeline.py\n",
            "Resolving zihao-openmmlab.obs.cn-east-3.myhuaweicloud.com (zihao-openmmlab.obs.cn-east-3.myhuaweicloud.com)... 121.36.235.132\n",
            "Connecting to zihao-openmmlab.obs.cn-east-3.myhuaweicloud.com (zihao-openmmlab.obs.cn-east-3.myhuaweicloud.com)|121.36.235.132|:443... connected.\n",
            "HTTP request sent, awaiting response... 200 OK\n",
            "Length: 2268 (2.2K) [binary/octet-stream]\n",
            "Saving to: ‘configs/_base_/datasets/DubaiDataset_pipeline.py’\n",
            "\n",
            "DubaiDataset_pipeli 100%[===================>]   2.21K  --.-KB/s    in 0s      \n",
            "\n",
            "2023-06-18 14:33:55 (52.2 MB/s) - ‘configs/_base_/datasets/DubaiDataset_pipeline.py’ saved [2268/2268]\n",
            "\n"
          ]
        }
      ],
      "source": [
        "!rm -rf configs/_base_/datasets/DubaiDataset_pipeline.py\n",
        "!wget https://zihao-openmmlab.obs.cn-east-3.myhuaweicloud.com/20230130-mmseg/Dubai/DubaiDataset_pipeline.py -P configs/_base_/datasets\n"
      ]
    },
    {
      "cell_type": "markdown",
      "metadata": {
        "id": "yUVtmn3Iq3WA"
      },
      "source": [
        "## 下载模型config配置文件"
      ]
    },
    {
      "cell_type": "code",
      "execution_count": 30,
      "metadata": {
        "id": "URu4SS3Sc9Uf",
        "outputId": "f7d4519c-7aa4-42ee-93a9-609c5b574cab",
        "colab": {
          "base_uri": "https://localhost:8080/"
        }
      },
      "outputs": [
        {
          "output_type": "stream",
          "name": "stdout",
          "text": [
            "--2023-06-18 14:33:57--  https://zihao-openmmlab.obs.cn-east-3.myhuaweicloud.com/20230130-mmseg/Dubai/pspnet_r50-d8_4xb2-40k_DubaiDataset.py\n",
            "Resolving zihao-openmmlab.obs.cn-east-3.myhuaweicloud.com (zihao-openmmlab.obs.cn-east-3.myhuaweicloud.com)... 121.36.235.132\n",
            "Connecting to zihao-openmmlab.obs.cn-east-3.myhuaweicloud.com (zihao-openmmlab.obs.cn-east-3.myhuaweicloud.com)|121.36.235.132|:443... connected.\n",
            "HTTP request sent, awaiting response... 200 OK\n",
            "Length: 344 [binary/octet-stream]\n",
            "Saving to: ‘configs/pspnet/pspnet_r50-d8_4xb2-40k_DubaiDataset.py’\n",
            "\n",
            "pspnet_r50-d8_4xb2- 100%[===================>]     344  --.-KB/s    in 0s      \n",
            "\n",
            "2023-06-18 14:33:58 (5.76 MB/s) - ‘configs/pspnet/pspnet_r50-d8_4xb2-40k_DubaiDataset.py’ saved [344/344]\n",
            "\n"
          ]
        }
      ],
      "source": [
        "!rm -rf configs/pspnet/pspnet_r50-d8_4xb2-40k_DubaiDataset.py # 删除原有文件\n",
        "!wget https://zihao-openmmlab.obs.cn-east-3.myhuaweicloud.com/20230130-mmseg/Dubai/pspnet_r50-d8_4xb2-40k_DubaiDataset.py -P configs/pspnet\n"
      ]
    },
    {
      "cell_type": "markdown",
      "metadata": {
        "id": "0z_A_WiRc9Ug"
      },
      "source": [
        "## 载入config配置文件"
      ]
    },
    {
      "cell_type": "code",
      "execution_count": 31,
      "metadata": {
        "id": "Wwnj9tRzqX_A"
      },
      "outputs": [],
      "source": [
        "from mmengine import Config\n",
        "cfg = Config.fromfile('./configs/pspnet/pspnet_r50-d8_4xb2-40k_DubaiDataset.py')"
      ]
    },
    {
      "cell_type": "markdown",
      "metadata": {
        "id": "K8_EqC4Oc9Ug"
      },
      "source": [
        "## 修改config配置文件"
      ]
    },
    {
      "cell_type": "code",
      "execution_count": 32,
      "metadata": {
        "id": "eyKnYC1Z7iCV"
      },
      "outputs": [],
      "source": [
        "cfg.norm_cfg = dict(type='BN', requires_grad=True) # 只使用GPU时，BN取代SyncBN\n",
        "cfg.crop_size = (256, 256)\n",
        "cfg.model.data_preprocessor.size = cfg.crop_size\n",
        "cfg.model.backbone.norm_cfg = cfg.norm_cfg\n",
        "cfg.model.decode_head.norm_cfg = cfg.norm_cfg\n",
        "cfg.model.auxiliary_head.norm_cfg = cfg.norm_cfg\n",
        "# modify num classes of the model in decode/auxiliary head\n",
        "\n",
        "# 模型 decode/auxiliary 输出头，指定为类别个数\n",
        "cfg.model.decode_head.num_classes = 6\n",
        "cfg.model.auxiliary_head.num_classes = 6\n",
        "\n",
        "cfg.train_dataloader.batch_size = 8\n",
        "\n",
        "cfg.test_dataloader = cfg.val_dataloader\n",
        "\n",
        "# 结果保存目录\n",
        "cfg.work_dir = './work_dirs/WatermelonDataset'\n",
        "\n",
        "# 训练迭代次数\n",
        "cfg.train_cfg.max_iters = 3000\n",
        "# 评估模型间隔\n",
        "cfg.train_cfg.val_interval = 400\n",
        "# 日志记录间隔\n",
        "cfg.default_hooks.logger.interval = 100\n",
        "# 模型权重保存间隔\n",
        "cfg.default_hooks.checkpoint.interval = 1500\n",
        "\n",
        "# 随机数种子\n",
        "cfg['randomness'] = dict(seed=0)\n",
        "\n",
        "cfg.data_root = 'data/Watermelon87_Semantic_Seg_Mask/'\n",
        "cfg.train_dataloader.dataset.data_root = 'data/Watermelon87_Semantic_Seg_Mask/'\n",
        "cfg.val_dataloader.dataset.data_root = 'data/Watermelon87_Semantic_Seg_Mask/'\n",
        "cfg.test_dataloader.dataset.data_root = 'data/Watermelon87_Semantic_Seg_Mask/'"
      ]
    },
    {
      "cell_type": "markdown",
      "metadata": {
        "id": "4DKR--cjc9Ug"
      },
      "source": [
        "## 查看完整config配置文件"
      ]
    },
    {
      "cell_type": "code",
      "execution_count": 33,
      "metadata": {
        "id": "IQlVdamTc9Ug",
        "colab": {
          "base_uri": "https://localhost:8080/"
        },
        "outputId": "b25d24b6-90a7-425f-9172-2c8b74dc4e6b"
      },
      "outputs": [
        {
          "output_type": "stream",
          "name": "stdout",
          "text": [
            "norm_cfg = dict(type='BN', requires_grad=True)\n",
            "data_preprocessor = dict(\n",
            "    type='SegDataPreProcessor',\n",
            "    mean=[123.675, 116.28, 103.53],\n",
            "    std=[58.395, 57.12, 57.375],\n",
            "    bgr_to_rgb=True,\n",
            "    pad_val=0,\n",
            "    seg_pad_val=255,\n",
            "    size=(64, 64))\n",
            "model = dict(\n",
            "    type='EncoderDecoder',\n",
            "    data_preprocessor=dict(\n",
            "        type='SegDataPreProcessor',\n",
            "        mean=[123.675, 116.28, 103.53],\n",
            "        std=[58.395, 57.12, 57.375],\n",
            "        bgr_to_rgb=True,\n",
            "        pad_val=0,\n",
            "        seg_pad_val=255,\n",
            "        size=(256, 256)),\n",
            "    pretrained='open-mmlab://resnet50_v1c',\n",
            "    backbone=dict(\n",
            "        type='ResNetV1c',\n",
            "        depth=50,\n",
            "        num_stages=4,\n",
            "        out_indices=(0, 1, 2, 3),\n",
            "        dilations=(1, 1, 2, 4),\n",
            "        strides=(1, 2, 1, 1),\n",
            "        norm_cfg=dict(type='BN', requires_grad=True),\n",
            "        norm_eval=False,\n",
            "        style='pytorch',\n",
            "        contract_dilation=True),\n",
            "    decode_head=dict(\n",
            "        type='PSPHead',\n",
            "        in_channels=2048,\n",
            "        in_index=3,\n",
            "        channels=512,\n",
            "        pool_scales=(1, 2, 3, 6),\n",
            "        dropout_ratio=0.1,\n",
            "        num_classes=6,\n",
            "        norm_cfg=dict(type='BN', requires_grad=True),\n",
            "        align_corners=False,\n",
            "        loss_decode=dict(\n",
            "            type='CrossEntropyLoss', use_sigmoid=False, loss_weight=1.0)),\n",
            "    auxiliary_head=dict(\n",
            "        type='FCNHead',\n",
            "        in_channels=1024,\n",
            "        in_index=2,\n",
            "        channels=256,\n",
            "        num_convs=1,\n",
            "        concat_input=False,\n",
            "        dropout_ratio=0.1,\n",
            "        num_classes=6,\n",
            "        norm_cfg=dict(type='BN', requires_grad=True),\n",
            "        align_corners=False,\n",
            "        loss_decode=dict(\n",
            "            type='CrossEntropyLoss', use_sigmoid=False, loss_weight=0.4)),\n",
            "    train_cfg=dict(),\n",
            "    test_cfg=dict(mode='whole'))\n",
            "dataset_type = 'DubaiDataset'\n",
            "data_root = 'data/Watermelon87_Semantic_Seg_Mask/'\n",
            "crop_size = (256, 256)\n",
            "train_pipeline = [\n",
            "    dict(type='LoadImageFromFile'),\n",
            "    dict(type='LoadAnnotations'),\n",
            "    dict(\n",
            "        type='RandomResize',\n",
            "        scale=(2048, 1024),\n",
            "        ratio_range=(0.5, 2.0),\n",
            "        keep_ratio=True),\n",
            "    dict(type='RandomCrop', crop_size=(64, 64), cat_max_ratio=0.75),\n",
            "    dict(type='RandomFlip', prob=0.5),\n",
            "    dict(type='PhotoMetricDistortion'),\n",
            "    dict(type='PackSegInputs')\n",
            "]\n",
            "test_pipeline = [\n",
            "    dict(type='LoadImageFromFile'),\n",
            "    dict(type='Resize', scale=(2048, 1024), keep_ratio=True),\n",
            "    dict(type='LoadAnnotations'),\n",
            "    dict(type='PackSegInputs')\n",
            "]\n",
            "img_ratios = [0.5, 0.75, 1.0, 1.25, 1.5, 1.75]\n",
            "tta_pipeline = [\n",
            "    dict(type='LoadImageFromFile', file_client_args=dict(backend='disk')),\n",
            "    dict(\n",
            "        type='TestTimeAug',\n",
            "        transforms=[[{\n",
            "            'type': 'Resize',\n",
            "            'scale_factor': 0.5,\n",
            "            'keep_ratio': True\n",
            "        }, {\n",
            "            'type': 'Resize',\n",
            "            'scale_factor': 0.75,\n",
            "            'keep_ratio': True\n",
            "        }, {\n",
            "            'type': 'Resize',\n",
            "            'scale_factor': 1.0,\n",
            "            'keep_ratio': True\n",
            "        }, {\n",
            "            'type': 'Resize',\n",
            "            'scale_factor': 1.25,\n",
            "            'keep_ratio': True\n",
            "        }, {\n",
            "            'type': 'Resize',\n",
            "            'scale_factor': 1.5,\n",
            "            'keep_ratio': True\n",
            "        }, {\n",
            "            'type': 'Resize',\n",
            "            'scale_factor': 1.75,\n",
            "            'keep_ratio': True\n",
            "        }],\n",
            "                    [{\n",
            "                        'type': 'RandomFlip',\n",
            "                        'prob': 0.0,\n",
            "                        'direction': 'horizontal'\n",
            "                    }, {\n",
            "                        'type': 'RandomFlip',\n",
            "                        'prob': 1.0,\n",
            "                        'direction': 'horizontal'\n",
            "                    }], [{\n",
            "                        'type': 'LoadAnnotations'\n",
            "                    }], [{\n",
            "                        'type': 'PackSegInputs'\n",
            "                    }]])\n",
            "]\n",
            "train_dataloader = dict(\n",
            "    batch_size=8,\n",
            "    num_workers=2,\n",
            "    persistent_workers=True,\n",
            "    sampler=dict(type='InfiniteSampler', shuffle=True),\n",
            "    dataset=dict(\n",
            "        type='DubaiDataset',\n",
            "        data_root='data/Watermelon87_Semantic_Seg_Mask/',\n",
            "        data_prefix=dict(\n",
            "            img_path='img_dir/train', seg_map_path='ann_dir/train'),\n",
            "        pipeline=[\n",
            "            dict(type='LoadImageFromFile'),\n",
            "            dict(type='LoadAnnotations'),\n",
            "            dict(\n",
            "                type='RandomResize',\n",
            "                scale=(2048, 1024),\n",
            "                ratio_range=(0.5, 2.0),\n",
            "                keep_ratio=True),\n",
            "            dict(type='RandomCrop', crop_size=(64, 64), cat_max_ratio=0.75),\n",
            "            dict(type='RandomFlip', prob=0.5),\n",
            "            dict(type='PhotoMetricDistortion'),\n",
            "            dict(type='PackSegInputs')\n",
            "        ]))\n",
            "val_dataloader = dict(\n",
            "    batch_size=1,\n",
            "    num_workers=4,\n",
            "    persistent_workers=True,\n",
            "    sampler=dict(type='DefaultSampler', shuffle=False),\n",
            "    dataset=dict(\n",
            "        type='DubaiDataset',\n",
            "        data_root='data/Watermelon87_Semantic_Seg_Mask/',\n",
            "        data_prefix=dict(img_path='img_dir/val', seg_map_path='ann_dir/val'),\n",
            "        pipeline=[\n",
            "            dict(type='LoadImageFromFile'),\n",
            "            dict(type='Resize', scale=(2048, 1024), keep_ratio=True),\n",
            "            dict(type='LoadAnnotations'),\n",
            "            dict(type='PackSegInputs')\n",
            "        ]))\n",
            "test_dataloader = dict(\n",
            "    batch_size=1,\n",
            "    num_workers=4,\n",
            "    persistent_workers=True,\n",
            "    sampler=dict(type='DefaultSampler', shuffle=False),\n",
            "    dataset=dict(\n",
            "        type='DubaiDataset',\n",
            "        data_root='data/Watermelon87_Semantic_Seg_Mask/',\n",
            "        data_prefix=dict(img_path='img_dir/val', seg_map_path='ann_dir/val'),\n",
            "        pipeline=[\n",
            "            dict(type='LoadImageFromFile'),\n",
            "            dict(type='Resize', scale=(2048, 1024), keep_ratio=True),\n",
            "            dict(type='LoadAnnotations'),\n",
            "            dict(type='PackSegInputs')\n",
            "        ]))\n",
            "val_evaluator = dict(type='IoUMetric', iou_metrics=['mIoU'])\n",
            "test_evaluator = dict(type='IoUMetric', iou_metrics=['mIoU'])\n",
            "default_scope = 'mmseg'\n",
            "env_cfg = dict(\n",
            "    cudnn_benchmark=True,\n",
            "    mp_cfg=dict(mp_start_method='fork', opencv_num_threads=0),\n",
            "    dist_cfg=dict(backend='nccl'))\n",
            "vis_backends = [dict(type='LocalVisBackend')]\n",
            "visualizer = dict(\n",
            "    type='SegLocalVisualizer',\n",
            "    vis_backends=[dict(type='LocalVisBackend')],\n",
            "    name='visualizer')\n",
            "log_processor = dict(by_epoch=False)\n",
            "log_level = 'INFO'\n",
            "load_from = None\n",
            "resume = False\n",
            "tta_model = dict(type='SegTTAModel')\n",
            "optimizer = dict(type='SGD', lr=0.01, momentum=0.9, weight_decay=0.0005)\n",
            "optim_wrapper = dict(\n",
            "    type='OptimWrapper',\n",
            "    optimizer=dict(type='SGD', lr=0.01, momentum=0.9, weight_decay=0.0005),\n",
            "    clip_grad=None)\n",
            "param_scheduler = [\n",
            "    dict(\n",
            "        type='PolyLR',\n",
            "        eta_min=0.0001,\n",
            "        power=0.9,\n",
            "        begin=0,\n",
            "        end=40000,\n",
            "        by_epoch=False)\n",
            "]\n",
            "train_cfg = dict(type='IterBasedTrainLoop', max_iters=3000, val_interval=400)\n",
            "val_cfg = dict(type='ValLoop')\n",
            "test_cfg = dict(type='TestLoop')\n",
            "default_hooks = dict(\n",
            "    timer=dict(type='IterTimerHook'),\n",
            "    logger=dict(type='LoggerHook', interval=100, log_metric_by_epoch=False),\n",
            "    param_scheduler=dict(type='ParamSchedulerHook'),\n",
            "    checkpoint=dict(type='CheckpointHook', by_epoch=False, interval=1500),\n",
            "    sampler_seed=dict(type='DistSamplerSeedHook'),\n",
            "    visualization=dict(type='SegVisualizationHook'))\n",
            "work_dir = './work_dirs/WatermelonDataset'\n",
            "randomness = dict(seed=0)\n",
            "\n"
          ]
        }
      ],
      "source": [
        "print(cfg.pretty_text)"
      ]
    },
    {
      "cell_type": "markdown",
      "metadata": {
        "id": "Ii2RQ1D5c9Ug"
      },
      "source": [
        "## 保存config配置文件"
      ]
    },
    {
      "cell_type": "code",
      "execution_count": 34,
      "metadata": {
        "id": "1lqsQUPic9Uh"
      },
      "outputs": [],
      "source": [
        "cfg.dump('pspnet-DubaiDataset_20230612.py')"
      ]
    },
    {
      "cell_type": "code",
      "execution_count": null,
      "metadata": {
        "id": "XUJ0oTCkc9Uh"
      },
      "outputs": [],
      "source": []
    },
    {
      "cell_type": "markdown",
      "metadata": {
        "id": "GPAol-DmkXIg"
      },
      "source": [
        "# MMSegmentation训练语义分割模型"
      ]
    },
    {
      "cell_type": "markdown",
      "metadata": {
        "tags": [],
        "id": "KvIifojUkXIi"
      },
      "source": [
        "## 进入MMSegmentation主目录"
      ]
    },
    {
      "cell_type": "code",
      "execution_count": 35,
      "metadata": {
        "id": "iXrycJUjkXIi"
      },
      "outputs": [],
      "source": [
        "# import os\n",
        "# os.chdir('../mmsegmentation')"
      ]
    },
    {
      "cell_type": "code",
      "execution_count": 36,
      "metadata": {
        "id": "xxRWb30ykXIj",
        "outputId": "6a98f7cd-d0ae-467e-c772-793ec7a37b6c",
        "colab": {
          "base_uri": "https://localhost:8080/",
          "height": 35
        }
      },
      "outputs": [
        {
          "output_type": "execute_result",
          "data": {
            "text/plain": [
              "'/content/drive/MyDrive/OpenMMlab/mmsegmentation'"
            ],
            "application/vnd.google.colaboratory.intrinsic+json": {
              "type": "string"
            }
          },
          "metadata": {},
          "execution_count": 36
        }
      ],
      "source": [
        "os.getcwd()"
      ]
    },
    {
      "cell_type": "markdown",
      "metadata": {
        "id": "EA3Mz8WhkXIj"
      },
      "source": [
        "## 导入工具包"
      ]
    },
    {
      "cell_type": "code",
      "execution_count": 37,
      "metadata": {
        "id": "TFhEtKZxkZho"
      },
      "outputs": [],
      "source": [
        "import numpy as np\n",
        "\n",
        "import os.path as osp\n",
        "from tqdm import tqdm\n",
        "\n",
        "import mmcv\n",
        "import mmengine"
      ]
    },
    {
      "cell_type": "markdown",
      "metadata": {
        "id": "VvwQySgOkXIj"
      },
      "source": [
        "## 载入config配置文件"
      ]
    },
    {
      "cell_type": "code",
      "execution_count": 38,
      "metadata": {
        "id": "ZRHy1yyTkZho"
      },
      "outputs": [],
      "source": [
        "from mmengine import Config\n",
        "cfg = Config.fromfile('pspnet-DubaiDataset_20230612.py')"
      ]
    },
    {
      "cell_type": "markdown",
      "metadata": {
        "id": "QWuH14LYF2gQ"
      },
      "source": [
        "## 准备训练"
      ]
    },
    {
      "cell_type": "code",
      "execution_count": 40,
      "metadata": {
        "id": "jYKoSfdMF12B",
        "tags": [],
        "colab": {
          "base_uri": "https://localhost:8080/"
        },
        "outputId": "ca146163-b241-4b79-a0c6-6357816769df"
      },
      "outputs": [
        {
          "output_type": "stream",
          "name": "stdout",
          "text": [
            "06/18 14:34:59 - mmengine - INFO - \n",
            "------------------------------------------------------------\n",
            "System environment:\n",
            "    sys.platform: linux\n",
            "    Python: 3.10.12 (main, Jun  7 2023, 12:45:35) [GCC 9.4.0]\n",
            "    CUDA available: True\n",
            "    numpy_random_seed: 0\n",
            "    GPU 0: Tesla V100-SXM2-16GB\n",
            "    CUDA_HOME: /usr/local/cuda\n",
            "    NVCC: Cuda compilation tools, release 11.8, V11.8.89\n",
            "    GCC: x86_64-linux-gnu-gcc (Ubuntu 9.4.0-1ubuntu1~20.04.1) 9.4.0\n",
            "    PyTorch: 2.0.1+cu118\n",
            "    PyTorch compiling details: PyTorch built with:\n",
            "  - GCC 9.3\n",
            "  - C++ Version: 201703\n",
            "  - Intel(R) oneAPI Math Kernel Library Version 2022.2-Product Build 20220804 for Intel(R) 64 architecture applications\n",
            "  - Intel(R) MKL-DNN v2.7.3 (Git Hash 6dbeffbae1f23cbbeae17adb7b5b13f1f37c080e)\n",
            "  - OpenMP 201511 (a.k.a. OpenMP 4.5)\n",
            "  - LAPACK is enabled (usually provided by MKL)\n",
            "  - NNPACK is enabled\n",
            "  - CPU capability usage: AVX2\n",
            "  - CUDA Runtime 11.8\n",
            "  - NVCC architecture flags: -gencode;arch=compute_37,code=sm_37;-gencode;arch=compute_50,code=sm_50;-gencode;arch=compute_60,code=sm_60;-gencode;arch=compute_70,code=sm_70;-gencode;arch=compute_75,code=sm_75;-gencode;arch=compute_80,code=sm_80;-gencode;arch=compute_86,code=sm_86;-gencode;arch=compute_90,code=sm_90\n",
            "  - CuDNN 8.7\n",
            "  - Magma 2.6.1\n",
            "  - Build settings: BLAS_INFO=mkl, BUILD_TYPE=Release, CUDA_VERSION=11.8, CUDNN_VERSION=8.7.0, CXX_COMPILER=/opt/rh/devtoolset-9/root/usr/bin/c++, CXX_FLAGS= -D_GLIBCXX_USE_CXX11_ABI=0 -fabi-version=11 -Wno-deprecated -fvisibility-inlines-hidden -DUSE_PTHREADPOOL -DNDEBUG -DUSE_KINETO -DLIBKINETO_NOROCTRACER -DUSE_FBGEMM -DUSE_QNNPACK -DUSE_PYTORCH_QNNPACK -DUSE_XNNPACK -DSYMBOLICATE_MOBILE_DEBUG_HANDLE -O2 -fPIC -Wall -Wextra -Werror=return-type -Werror=non-virtual-dtor -Werror=bool-operation -Wnarrowing -Wno-missing-field-initializers -Wno-type-limits -Wno-array-bounds -Wno-unknown-pragmas -Wunused-local-typedefs -Wno-unused-parameter -Wno-unused-function -Wno-unused-result -Wno-strict-overflow -Wno-strict-aliasing -Wno-error=deprecated-declarations -Wno-stringop-overflow -Wno-psabi -Wno-error=pedantic -Wno-error=redundant-decls -Wno-error=old-style-cast -fdiagnostics-color=always -faligned-new -Wno-unused-but-set-variable -Wno-maybe-uninitialized -fno-math-errno -fno-trapping-math -Werror=format -Werror=cast-function-type -Wno-stringop-overflow, LAPACK_INFO=mkl, PERF_WITH_AVX=1, PERF_WITH_AVX2=1, PERF_WITH_AVX512=1, TORCH_DISABLE_GPU_ASSERTS=ON, TORCH_VERSION=2.0.1, USE_CUDA=ON, USE_CUDNN=ON, USE_EXCEPTION_PTR=1, USE_GFLAGS=OFF, USE_GLOG=OFF, USE_MKL=ON, USE_MKLDNN=ON, USE_MPI=OFF, USE_NCCL=1, USE_NNPACK=ON, USE_OPENMP=ON, USE_ROCM=OFF, \n",
            "\n",
            "    TorchVision: 0.15.2+cu118\n",
            "    OpenCV: 4.7.0\n",
            "    MMEngine: 0.7.4\n",
            "\n",
            "Runtime environment:\n",
            "    cudnn_benchmark: True\n",
            "    mp_cfg: {'mp_start_method': 'fork', 'opencv_num_threads': 0}\n",
            "    dist_cfg: {'backend': 'nccl'}\n",
            "    seed: 0\n",
            "    Distributed launcher: none\n",
            "    Distributed training: False\n",
            "    GPU number: 1\n",
            "------------------------------------------------------------\n",
            "\n",
            "06/18 14:34:59 - mmengine - INFO - Config:\n",
            "norm_cfg = dict(type='BN', requires_grad=True)\n",
            "data_preprocessor = dict(\n",
            "    type='SegDataPreProcessor',\n",
            "    mean=[123.675, 116.28, 103.53],\n",
            "    std=[58.395, 57.12, 57.375],\n",
            "    bgr_to_rgb=True,\n",
            "    pad_val=0,\n",
            "    seg_pad_val=255,\n",
            "    size=(64, 64))\n",
            "model = dict(\n",
            "    type='EncoderDecoder',\n",
            "    data_preprocessor=dict(\n",
            "        type='SegDataPreProcessor',\n",
            "        mean=[123.675, 116.28, 103.53],\n",
            "        std=[58.395, 57.12, 57.375],\n",
            "        bgr_to_rgb=True,\n",
            "        pad_val=0,\n",
            "        seg_pad_val=255,\n",
            "        size=(256, 256)),\n",
            "    pretrained='open-mmlab://resnet50_v1c',\n",
            "    backbone=dict(\n",
            "        type='ResNetV1c',\n",
            "        depth=50,\n",
            "        num_stages=4,\n",
            "        out_indices=(0, 1, 2, 3),\n",
            "        dilations=(1, 1, 2, 4),\n",
            "        strides=(1, 2, 1, 1),\n",
            "        norm_cfg=dict(type='BN', requires_grad=True),\n",
            "        norm_eval=False,\n",
            "        style='pytorch',\n",
            "        contract_dilation=True),\n",
            "    decode_head=dict(\n",
            "        type='PSPHead',\n",
            "        in_channels=2048,\n",
            "        in_index=3,\n",
            "        channels=512,\n",
            "        pool_scales=(1, 2, 3, 6),\n",
            "        dropout_ratio=0.1,\n",
            "        num_classes=6,\n",
            "        norm_cfg=dict(type='BN', requires_grad=True),\n",
            "        align_corners=False,\n",
            "        loss_decode=dict(\n",
            "            type='CrossEntropyLoss', use_sigmoid=False, loss_weight=1.0)),\n",
            "    auxiliary_head=dict(\n",
            "        type='FCNHead',\n",
            "        in_channels=1024,\n",
            "        in_index=2,\n",
            "        channels=256,\n",
            "        num_convs=1,\n",
            "        concat_input=False,\n",
            "        dropout_ratio=0.1,\n",
            "        num_classes=6,\n",
            "        norm_cfg=dict(type='BN', requires_grad=True),\n",
            "        align_corners=False,\n",
            "        loss_decode=dict(\n",
            "            type='CrossEntropyLoss', use_sigmoid=False, loss_weight=0.4)),\n",
            "    train_cfg=dict(),\n",
            "    test_cfg=dict(mode='whole'))\n",
            "dataset_type = 'DubaiDataset'\n",
            "data_root = 'data/Watermelon87_Semantic_Seg_Mask/'\n",
            "crop_size = (256, 256)\n",
            "train_pipeline = [\n",
            "    dict(type='LoadImageFromFile'),\n",
            "    dict(type='LoadAnnotations'),\n",
            "    dict(\n",
            "        type='RandomResize',\n",
            "        scale=(2048, 1024),\n",
            "        ratio_range=(0.5, 2.0),\n",
            "        keep_ratio=True),\n",
            "    dict(type='RandomCrop', crop_size=(64, 64), cat_max_ratio=0.75),\n",
            "    dict(type='RandomFlip', prob=0.5),\n",
            "    dict(type='PhotoMetricDistortion'),\n",
            "    dict(type='PackSegInputs')\n",
            "]\n",
            "test_pipeline = [\n",
            "    dict(type='LoadImageFromFile'),\n",
            "    dict(type='Resize', scale=(2048, 1024), keep_ratio=True),\n",
            "    dict(type='LoadAnnotations'),\n",
            "    dict(type='PackSegInputs')\n",
            "]\n",
            "img_ratios = [0.5, 0.75, 1.0, 1.25, 1.5, 1.75]\n",
            "tta_pipeline = [\n",
            "    dict(type='LoadImageFromFile', file_client_args=dict(backend='disk')),\n",
            "    dict(\n",
            "        type='TestTimeAug',\n",
            "        transforms=[[{\n",
            "            'type': 'Resize',\n",
            "            'scale_factor': 0.5,\n",
            "            'keep_ratio': True\n",
            "        }, {\n",
            "            'type': 'Resize',\n",
            "            'scale_factor': 0.75,\n",
            "            'keep_ratio': True\n",
            "        }, {\n",
            "            'type': 'Resize',\n",
            "            'scale_factor': 1.0,\n",
            "            'keep_ratio': True\n",
            "        }, {\n",
            "            'type': 'Resize',\n",
            "            'scale_factor': 1.25,\n",
            "            'keep_ratio': True\n",
            "        }, {\n",
            "            'type': 'Resize',\n",
            "            'scale_factor': 1.5,\n",
            "            'keep_ratio': True\n",
            "        }, {\n",
            "            'type': 'Resize',\n",
            "            'scale_factor': 1.75,\n",
            "            'keep_ratio': True\n",
            "        }],\n",
            "                    [{\n",
            "                        'type': 'RandomFlip',\n",
            "                        'prob': 0.0,\n",
            "                        'direction': 'horizontal'\n",
            "                    }, {\n",
            "                        'type': 'RandomFlip',\n",
            "                        'prob': 1.0,\n",
            "                        'direction': 'horizontal'\n",
            "                    }], [{\n",
            "                        'type': 'LoadAnnotations'\n",
            "                    }], [{\n",
            "                        'type': 'PackSegInputs'\n",
            "                    }]])\n",
            "]\n",
            "train_dataloader = dict(\n",
            "    batch_size=8,\n",
            "    num_workers=2,\n",
            "    persistent_workers=True,\n",
            "    sampler=dict(type='InfiniteSampler', shuffle=True),\n",
            "    dataset=dict(\n",
            "        type='DubaiDataset',\n",
            "        data_root='data/Watermelon87_Semantic_Seg_Mask/',\n",
            "        data_prefix=dict(\n",
            "            img_path='img_dir/train', seg_map_path='ann_dir/train'),\n",
            "        pipeline=[\n",
            "            dict(type='LoadImageFromFile'),\n",
            "            dict(type='LoadAnnotations'),\n",
            "            dict(\n",
            "                type='RandomResize',\n",
            "                scale=(2048, 1024),\n",
            "                ratio_range=(0.5, 2.0),\n",
            "                keep_ratio=True),\n",
            "            dict(type='RandomCrop', crop_size=(64, 64), cat_max_ratio=0.75),\n",
            "            dict(type='RandomFlip', prob=0.5),\n",
            "            dict(type='PhotoMetricDistortion'),\n",
            "            dict(type='PackSegInputs')\n",
            "        ]))\n",
            "val_dataloader = dict(\n",
            "    batch_size=1,\n",
            "    num_workers=4,\n",
            "    persistent_workers=True,\n",
            "    sampler=dict(type='DefaultSampler', shuffle=False),\n",
            "    dataset=dict(\n",
            "        type='DubaiDataset',\n",
            "        data_root='data/Watermelon87_Semantic_Seg_Mask/',\n",
            "        data_prefix=dict(img_path='img_dir/val', seg_map_path='ann_dir/val'),\n",
            "        pipeline=[\n",
            "            dict(type='LoadImageFromFile'),\n",
            "            dict(type='Resize', scale=(2048, 1024), keep_ratio=True),\n",
            "            dict(type='LoadAnnotations'),\n",
            "            dict(type='PackSegInputs')\n",
            "        ]))\n",
            "test_dataloader = dict(\n",
            "    batch_size=1,\n",
            "    num_workers=4,\n",
            "    persistent_workers=True,\n",
            "    sampler=dict(type='DefaultSampler', shuffle=False),\n",
            "    dataset=dict(\n",
            "        type='DubaiDataset',\n",
            "        data_root='data/Watermelon87_Semantic_Seg_Mask/',\n",
            "        data_prefix=dict(img_path='img_dir/val', seg_map_path='ann_dir/val'),\n",
            "        pipeline=[\n",
            "            dict(type='LoadImageFromFile'),\n",
            "            dict(type='Resize', scale=(2048, 1024), keep_ratio=True),\n",
            "            dict(type='LoadAnnotations'),\n",
            "            dict(type='PackSegInputs')\n",
            "        ]))\n",
            "val_evaluator = dict(type='IoUMetric', iou_metrics=['mIoU'])\n",
            "test_evaluator = dict(type='IoUMetric', iou_metrics=['mIoU'])\n",
            "default_scope = 'mmseg'\n",
            "env_cfg = dict(\n",
            "    cudnn_benchmark=True,\n",
            "    mp_cfg=dict(mp_start_method='fork', opencv_num_threads=0),\n",
            "    dist_cfg=dict(backend='nccl'))\n",
            "vis_backends = [dict(type='LocalVisBackend')]\n",
            "visualizer = dict(\n",
            "    type='SegLocalVisualizer',\n",
            "    vis_backends=[dict(type='LocalVisBackend')],\n",
            "    name='visualizer')\n",
            "log_processor = dict(by_epoch=False)\n",
            "log_level = 'INFO'\n",
            "load_from = None\n",
            "resume = False\n",
            "tta_model = dict(type='SegTTAModel')\n",
            "optimizer = dict(type='SGD', lr=0.01, momentum=0.9, weight_decay=0.0005)\n",
            "optim_wrapper = dict(\n",
            "    type='OptimWrapper',\n",
            "    optimizer=dict(type='SGD', lr=0.01, momentum=0.9, weight_decay=0.0005),\n",
            "    clip_grad=None)\n",
            "param_scheduler = [\n",
            "    dict(\n",
            "        type='PolyLR',\n",
            "        eta_min=0.0001,\n",
            "        power=0.9,\n",
            "        begin=0,\n",
            "        end=40000,\n",
            "        by_epoch=False)\n",
            "]\n",
            "train_cfg = dict(type='IterBasedTrainLoop', max_iters=3000, val_interval=400)\n",
            "val_cfg = dict(type='ValLoop')\n",
            "test_cfg = dict(type='TestLoop')\n",
            "default_hooks = dict(\n",
            "    timer=dict(type='IterTimerHook'),\n",
            "    logger=dict(type='LoggerHook', interval=100, log_metric_by_epoch=False),\n",
            "    param_scheduler=dict(type='ParamSchedulerHook'),\n",
            "    checkpoint=dict(type='CheckpointHook', by_epoch=False, interval=1500),\n",
            "    sampler_seed=dict(type='DistSamplerSeedHook'),\n",
            "    visualization=dict(type='SegVisualizationHook'))\n",
            "work_dir = './work_dirs/WatermelonDataset'\n",
            "randomness = dict(seed=0)\n",
            "\n"
          ]
        },
        {
          "output_type": "stream",
          "name": "stderr",
          "text": [
            "/usr/local/lib/python3.10/dist-packages/mmengine/utils/manager.py:113: UserWarning: <class 'mmseg.visualization.local_visualizer.SegLocalVisualizer'> instance named of visualizer has been created, the method `get_instance` should not accept any other arguments\n",
            "  warnings.warn(\n"
          ]
        },
        {
          "output_type": "stream",
          "name": "stdout",
          "text": [
            "06/18 14:35:01 - mmengine - INFO - Distributed training is not used, all SyncBatchNorm (SyncBN) layers in the model will be automatically reverted to BatchNormXd layers if they are used.\n",
            "06/18 14:35:01 - mmengine - INFO - Hooks will be executed in the following order:\n",
            "before_run:\n",
            "(VERY_HIGH   ) RuntimeInfoHook                    \n",
            "(BELOW_NORMAL) LoggerHook                         \n",
            " -------------------- \n",
            "before_train:\n",
            "(VERY_HIGH   ) RuntimeInfoHook                    \n",
            "(NORMAL      ) IterTimerHook                      \n",
            "(VERY_LOW    ) CheckpointHook                     \n",
            " -------------------- \n",
            "before_train_epoch:\n",
            "(VERY_HIGH   ) RuntimeInfoHook                    \n",
            "(NORMAL      ) IterTimerHook                      \n",
            "(NORMAL      ) DistSamplerSeedHook                \n",
            " -------------------- \n",
            "before_train_iter:\n",
            "(VERY_HIGH   ) RuntimeInfoHook                    \n",
            "(NORMAL      ) IterTimerHook                      \n",
            " -------------------- \n",
            "after_train_iter:\n",
            "(VERY_HIGH   ) RuntimeInfoHook                    \n",
            "(NORMAL      ) IterTimerHook                      \n",
            "(NORMAL      ) SegVisualizationHook               \n",
            "(BELOW_NORMAL) LoggerHook                         \n",
            "(LOW         ) ParamSchedulerHook                 \n",
            "(VERY_LOW    ) CheckpointHook                     \n",
            " -------------------- \n",
            "after_train_epoch:\n",
            "(NORMAL      ) IterTimerHook                      \n",
            "(LOW         ) ParamSchedulerHook                 \n",
            "(VERY_LOW    ) CheckpointHook                     \n",
            " -------------------- \n",
            "before_val_epoch:\n",
            "(NORMAL      ) IterTimerHook                      \n",
            " -------------------- \n",
            "before_val_iter:\n",
            "(NORMAL      ) IterTimerHook                      \n",
            " -------------------- \n",
            "after_val_iter:\n",
            "(NORMAL      ) IterTimerHook                      \n",
            "(NORMAL      ) SegVisualizationHook               \n",
            "(BELOW_NORMAL) LoggerHook                         \n",
            " -------------------- \n",
            "after_val_epoch:\n",
            "(VERY_HIGH   ) RuntimeInfoHook                    \n",
            "(NORMAL      ) IterTimerHook                      \n",
            "(BELOW_NORMAL) LoggerHook                         \n",
            "(LOW         ) ParamSchedulerHook                 \n",
            "(VERY_LOW    ) CheckpointHook                     \n",
            " -------------------- \n",
            "after_train:\n",
            "(VERY_LOW    ) CheckpointHook                     \n",
            " -------------------- \n",
            "before_test_epoch:\n",
            "(NORMAL      ) IterTimerHook                      \n",
            " -------------------- \n",
            "before_test_iter:\n",
            "(NORMAL      ) IterTimerHook                      \n",
            " -------------------- \n",
            "after_test_iter:\n",
            "(NORMAL      ) IterTimerHook                      \n",
            "(NORMAL      ) SegVisualizationHook               \n",
            "(BELOW_NORMAL) LoggerHook                         \n",
            " -------------------- \n",
            "after_test_epoch:\n",
            "(VERY_HIGH   ) RuntimeInfoHook                    \n",
            "(NORMAL      ) IterTimerHook                      \n",
            "(BELOW_NORMAL) LoggerHook                         \n",
            " -------------------- \n",
            "after_run:\n",
            "(BELOW_NORMAL) LoggerHook                         \n",
            " -------------------- \n"
          ]
        }
      ],
      "source": [
        "from mmengine.runner import Runner\n",
        "from mmseg.utils import register_all_modules\n",
        "\n",
        "# register all modules in mmseg into the registries\n",
        "# do not init the default scope here because it will be init in the runner\n",
        "register_all_modules(init_default_scope=False)\n",
        "runner = Runner.from_cfg(cfg)"
      ]
    },
    {
      "cell_type": "markdown",
      "metadata": {
        "id": "NMUeN8v0kXIk"
      },
      "source": [
        "## 开始训练\n",
        "\n",
        "如果遇到报错`CUDA out of memeory`，可尝试以下步骤：\n",
        "\n",
        "1. 调小 batch size\n",
        "\n",
        "2. 左上角`内核-关闭所有内核`\n",
        "\n",
        "3. 重启实例，或者使用显存更高的实例即可。"
      ]
    },
    {
      "cell_type": "markdown",
      "source": [
        "运行 Runner.train() 报错：\n",
        "1. FileNotFoundError: [Errno 2] No such file or directory: 'data/Watermelon87_Semantic_Seg_Mask/ann_dir/train/21746.1.png'\n",
        "\n",
        "\n",
        "2. FileNotFoundError: [Errno 2] No such file or directory: 'data/Watermelon87_Semantic_Seg_Mask/ann_dir/val/01bd15599c606aa801201794e1fa30.jpg@1280w_1l_2o_100sh.png'\n",
        "\n",
        "\n",
        "修改命名：\n",
        "1. 'data/Watermelon87_Semantic_Seg_Mask/ann_dir/train/21746.png' 改为： 'data/Watermelon87_Semantic_Seg_Mask/ann_dir/train/21746.1.png'\n",
        "\n",
        "2. /content/drive/MyDrive/OpenMMlab/mmsegmentation/data/Watermelon87_Semantic_Seg_Mask/ann_dir/val/01bd15599c606aa801201794e1fa30.png\n",
        "修改为/content/drive/MyDrive/OpenMMlab/mmsegmentation/data/Watermelon87_Semantic_Seg_Mask/ann_dir/val/01bd15599c606aa801201794e1fa30.jpg@1280w_1l_2o_100sh.png\n",
        "\n",
        "\n"
      ],
      "metadata": {
        "id": "_zmraDjbpSdB"
      }
    },
    {
      "cell_type": "code",
      "execution_count": 43,
      "metadata": {
        "id": "rxeKuGrqkXIk",
        "outputId": "79baaad8-0f5b-4662-f654-6b39d1d1d64f",
        "colab": {
          "base_uri": "https://localhost:8080/"
        }
      },
      "outputs": [
        {
          "output_type": "stream",
          "name": "stdout",
          "text": [
            "06/18 14:37:54 - mmengine - INFO - Checkpoints will be saved to /content/drive/MyDrive/OpenMMlab/mmsegmentation/work_dirs/WatermelonDataset.\n",
            "06/18 14:38:21 - mmengine - INFO - Iter(train) [ 100/3000]  lr: 9.9779e-03  eta: 0:22:17  time: 0.3546  data_time: 0.1404  memory: 3346  loss: 0.0712  decode.loss_ce: 0.0488  decode.acc_seg: 69.0552  aux.loss_ce: 0.0224  aux.acc_seg: 68.7622\n",
            "06/18 14:38:49 - mmengine - INFO - Iter(train) [ 200/3000]  lr: 9.9557e-03  eta: 0:17:22  time: 0.2497  data_time: 0.0529  memory: 3346  loss: 0.0696  decode.loss_ce: 0.0474  decode.acc_seg: 77.9938  aux.loss_ce: 0.0222  aux.acc_seg: 79.2755\n",
            "06/18 14:39:20 - mmengine - INFO - Iter(train) [ 300/3000]  lr: 9.9334e-03  eta: 0:15:48  time: 0.2383  data_time: 0.0382  memory: 3346  loss: 0.0555  decode.loss_ce: 0.0383  decode.acc_seg: 73.4070  aux.loss_ce: 0.0172  aux.acc_seg: 76.6174\n",
            "06/18 14:39:51 - mmengine - INFO - Iter(train) [ 400/3000]  lr: 9.9111e-03  eta: 0:14:40  time: 0.2622  data_time: 0.0600  memory: 3346  loss: 0.0697  decode.loss_ce: 0.0506  decode.acc_seg: 67.2791  aux.loss_ce: 0.0190  aux.acc_seg: 74.4080\n"
          ]
        },
        {
          "output_type": "stream",
          "name": "stderr",
          "text": [
            "/usr/local/lib/python3.10/dist-packages/torch/utils/data/dataloader.py:560: UserWarning: This DataLoader will create 4 worker processes in total. Our suggested max number of worker in current system is 2, which is smaller than what this DataLoader is going to create. Please be aware that excessive worker creation might get DataLoader running slow or even freeze, lower the worker number to avoid potential slowness/freeze if necessary.\n",
            "  warnings.warn(_create_warning_msg(\n"
          ]
        },
        {
          "output_type": "stream",
          "name": "stdout",
          "text": [
            "06/18 14:40:10 - mmengine - INFO - per class results:\n",
            "06/18 14:40:10 - mmengine - INFO - \n",
            "+------------+-------+-------+\n",
            "|   Class    |  IoU  |  Acc  |\n",
            "+------------+-------+-------+\n",
            "|     /      | 60.95 | 99.96 |\n",
            "|    red     | 11.42 | 11.44 |\n",
            "|   green    |  0.0  |  0.0  |\n",
            "|   white    |  2.23 |  2.23 |\n",
            "| seed-black | 12.64 | 12.85 |\n",
            "| seed-white |  0.0  |  0.0  |\n",
            "+------------+-------+-------+\n",
            "06/18 14:40:10 - mmengine - INFO - Iter(val) [11/11]    aAcc: 62.2100  mIoU: 14.5400  mAcc: 21.0800  data_time: 0.0542  time: 1.7849\n",
            "06/18 14:40:40 - mmengine - INFO - Iter(train) [ 500/3000]  lr: 9.8888e-03  eta: 0:13:45  time: 0.2240  data_time: 0.0223  memory: 10063  loss: 0.0561  decode.loss_ce: 0.0395  decode.acc_seg: 77.6306  aux.loss_ce: 0.0166  aux.acc_seg: 71.1945\n",
            "06/18 14:41:10 - mmengine - INFO - Iter(train) [ 600/3000]  lr: 9.8665e-03  eta: 0:13:01  time: 0.3578  data_time: 0.1365  memory: 3368  loss: 0.0545  decode.loss_ce: 0.0387  decode.acc_seg: 79.4434  aux.loss_ce: 0.0158  aux.acc_seg: 81.1951\n",
            "06/18 14:41:39 - mmengine - INFO - Iter(train) [ 700/3000]  lr: 9.8442e-03  eta: 0:12:15  time: 0.2809  data_time: 0.0775  memory: 3346  loss: 0.0459  decode.loss_ce: 0.0321  decode.acc_seg: 72.5647  aux.loss_ce: 0.0138  aux.acc_seg: 75.4486\n",
            "06/18 14:42:09 - mmengine - INFO - Iter(train) [ 800/3000]  lr: 9.8218e-03  eta: 0:11:37  time: 0.2491  data_time: 0.0516  memory: 3368  loss: 0.0419  decode.loss_ce: 0.0293  decode.acc_seg: 75.5432  aux.loss_ce: 0.0126  aux.acc_seg: 75.9552\n",
            "06/18 14:42:10 - mmengine - INFO - per class results:\n",
            "06/18 14:42:10 - mmengine - INFO - \n",
            "+------------+-------+-------+\n",
            "|   Class    |  IoU  |  Acc  |\n",
            "+------------+-------+-------+\n",
            "|     /      | 79.05 | 95.15 |\n",
            "|    red     |  81.4 | 95.74 |\n",
            "|   green    |  1.95 |  1.96 |\n",
            "|   white    | 16.08 |  16.2 |\n",
            "| seed-black | 55.13 | 60.95 |\n",
            "| seed-white |  0.0  |  0.0  |\n",
            "+------------+-------+-------+\n",
            "06/18 14:42:10 - mmengine - INFO - Iter(val) [11/11]    aAcc: 83.1600  mIoU: 38.9400  mAcc: 45.0000  data_time: 0.0248  time: 0.1633\n",
            "06/18 14:42:41 - mmengine - INFO - Iter(train) [ 900/3000]  lr: 9.7995e-03  eta: 0:11:02  time: 0.2667  data_time: 0.0675  memory: 3368  loss: 0.0403  decode.loss_ce: 0.0277  decode.acc_seg: 89.9628  aux.loss_ce: 0.0125  aux.acc_seg: 89.6820\n",
            "06/18 14:43:12 - mmengine - INFO - Exp name: pspnet-DubaiDataset_20230612_20230618_143459\n",
            "06/18 14:43:12 - mmengine - INFO - Iter(train) [1000/3000]  lr: 9.7772e-03  eta: 0:10:30  time: 0.2546  data_time: 0.0556  memory: 3368  loss: 0.0458  decode.loss_ce: 0.0322  decode.acc_seg: 75.6775  aux.loss_ce: 0.0136  aux.acc_seg: 72.0917\n",
            "06/18 14:43:42 - mmengine - INFO - Iter(train) [1100/3000]  lr: 9.7549e-03  eta: 0:09:55  time: 0.4013  data_time: 0.1755  memory: 3346  loss: 0.0402  decode.loss_ce: 0.0283  decode.acc_seg: 88.8519  aux.loss_ce: 0.0119  aux.acc_seg: 88.5223\n",
            "06/18 14:44:10 - mmengine - INFO - Iter(train) [1200/3000]  lr: 9.7325e-03  eta: 0:09:20  time: 0.2542  data_time: 0.0451  memory: 3346  loss: 0.0459  decode.loss_ce: 0.0321  decode.acc_seg: 84.3964  aux.loss_ce: 0.0138  aux.acc_seg: 84.9152\n",
            "06/18 14:44:13 - mmengine - INFO - per class results:\n",
            "06/18 14:44:13 - mmengine - INFO - \n",
            "+------------+-------+-------+\n",
            "|   Class    |  IoU  |  Acc  |\n",
            "+------------+-------+-------+\n",
            "|     /      | 77.41 | 98.81 |\n",
            "|    red     | 74.85 | 77.72 |\n",
            "|   green    |  0.54 |  0.54 |\n",
            "|   white    | 42.35 |  44.3 |\n",
            "| seed-black | 52.32 | 55.92 |\n",
            "| seed-white |  0.0  |  0.0  |\n",
            "+------------+-------+-------+\n",
            "06/18 14:44:13 - mmengine - INFO - Iter(val) [11/11]    aAcc: 82.3200  mIoU: 41.2500  mAcc: 46.2200  data_time: 0.0422  time: 0.1876\n",
            "06/18 14:44:41 - mmengine - INFO - Iter(train) [1300/3000]  lr: 9.7102e-03  eta: 0:08:46  time: 0.2462  data_time: 0.0447  memory: 3346  loss: 0.0445  decode.loss_ce: 0.0319  decode.acc_seg: 86.7249  aux.loss_ce: 0.0125  aux.acc_seg: 88.4308\n",
            "06/18 14:45:12 - mmengine - INFO - Iter(train) [1400/3000]  lr: 9.6878e-03  eta: 0:08:15  time: 0.2712  data_time: 0.0755  memory: 3346  loss: 0.0477  decode.loss_ce: 0.0343  decode.acc_seg: 96.2921  aux.loss_ce: 0.0134  aux.acc_seg: 97.4762\n",
            "06/18 14:45:43 - mmengine - INFO - Iter(train) [1500/3000]  lr: 9.6655e-03  eta: 0:07:43  time: 0.3094  data_time: 0.1062  memory: 3346  loss: 0.0486  decode.loss_ce: 0.0343  decode.acc_seg: 83.8745  aux.loss_ce: 0.0143  aux.acc_seg: 83.5205\n",
            "06/18 14:45:43 - mmengine - INFO - Saving checkpoint at 1500 iterations\n",
            "06/18 14:46:17 - mmengine - INFO - Iter(train) [1600/3000]  lr: 9.6431e-03  eta: 0:07:15  time: 0.3303  data_time: 0.1230  memory: 3346  loss: 0.0434  decode.loss_ce: 0.0303  decode.acc_seg: 79.5837  aux.loss_ce: 0.0131  aux.acc_seg: 78.7598\n",
            "06/18 14:46:19 - mmengine - INFO - per class results:\n",
            "06/18 14:46:19 - mmengine - INFO - \n",
            "+------------+-------+-------+\n",
            "|   Class    |  IoU  |  Acc  |\n",
            "+------------+-------+-------+\n",
            "|     /      | 79.93 | 95.24 |\n",
            "|    red     | 79.49 | 91.39 |\n",
            "|   green    |  7.05 |  7.09 |\n",
            "|   white    | 35.67 | 37.58 |\n",
            "| seed-black | 51.48 | 80.99 |\n",
            "| seed-white |  0.0  |  0.0  |\n",
            "+------------+-------+-------+\n",
            "06/18 14:46:19 - mmengine - INFO - Iter(val) [11/11]    aAcc: 83.9900  mIoU: 42.2700  mAcc: 52.0500  data_time: 0.0205  time: 0.1540\n",
            "06/18 14:46:49 - mmengine - INFO - Iter(train) [1700/3000]  lr: 9.6207e-03  eta: 0:06:43  time: 0.3648  data_time: 0.1442  memory: 3346  loss: 0.0474  decode.loss_ce: 0.0337  decode.acc_seg: 81.0883  aux.loss_ce: 0.0136  aux.acc_seg: 82.3883\n",
            "06/18 14:47:18 - mmengine - INFO - Iter(train) [1800/3000]  lr: 9.5983e-03  eta: 0:06:11  time: 0.2912  data_time: 0.0854  memory: 3346  loss: 0.0405  decode.loss_ce: 0.0283  decode.acc_seg: 84.1370  aux.loss_ce: 0.0122  aux.acc_seg: 84.5459\n",
            "06/18 14:47:48 - mmengine - INFO - Iter(train) [1900/3000]  lr: 9.5760e-03  eta: 0:05:40  time: 0.2726  data_time: 0.0776  memory: 3346  loss: 0.0306  decode.loss_ce: 0.0216  decode.acc_seg: 90.8356  aux.loss_ce: 0.0090  aux.acc_seg: 88.6536\n",
            "06/18 14:48:19 - mmengine - INFO - Exp name: pspnet-DubaiDataset_20230612_20230618_143459\n",
            "06/18 14:48:19 - mmengine - INFO - Iter(train) [2000/3000]  lr: 9.5536e-03  eta: 0:05:09  time: 0.2543  data_time: 0.0557  memory: 3346  loss: 0.0314  decode.loss_ce: 0.0218  decode.acc_seg: 93.0511  aux.loss_ce: 0.0096  aux.acc_seg: 91.5192\n",
            "06/18 14:48:21 - mmengine - INFO - per class results:\n",
            "06/18 14:48:21 - mmengine - INFO - \n",
            "+------------+-------+-------+\n",
            "|   Class    |  IoU  |  Acc  |\n",
            "+------------+-------+-------+\n",
            "|     /      | 84.95 | 97.68 |\n",
            "|    red     | 90.03 | 96.79 |\n",
            "|   green    |  9.71 |  9.91 |\n",
            "|   white    | 57.37 |  60.4 |\n",
            "| seed-black |  64.4 | 74.88 |\n",
            "| seed-white |  0.0  |  0.0  |\n",
            "+------------+-------+-------+\n",
            "06/18 14:48:21 - mmengine - INFO - Iter(val) [11/11]    aAcc: 88.5700  mIoU: 51.0800  mAcc: 56.6100  data_time: 0.0224  time: 0.1564\n",
            "06/18 14:48:50 - mmengine - INFO - Iter(train) [2100/3000]  lr: 9.5312e-03  eta: 0:04:37  time: 0.2344  data_time: 0.0375  memory: 3368  loss: 0.0370  decode.loss_ce: 0.0257  decode.acc_seg: 88.4338  aux.loss_ce: 0.0113  aux.acc_seg: 88.9282\n",
            "06/18 14:49:20 - mmengine - INFO - Iter(train) [2200/3000]  lr: 9.5088e-03  eta: 0:04:06  time: 0.4325  data_time: 0.2144  memory: 3346  loss: 0.0400  decode.loss_ce: 0.0283  decode.acc_seg: 93.3746  aux.loss_ce: 0.0117  aux.acc_seg: 90.1917\n",
            "06/18 14:49:49 - mmengine - INFO - Iter(train) [2300/3000]  lr: 9.4864e-03  eta: 0:03:35  time: 0.2852  data_time: 0.0826  memory: 3346  loss: 0.0388  decode.loss_ce: 0.0272  decode.acc_seg: 88.7573  aux.loss_ce: 0.0116  aux.acc_seg: 88.0280\n",
            "06/18 14:50:19 - mmengine - INFO - Iter(train) [2400/3000]  lr: 9.4640e-03  eta: 0:03:04  time: 0.2314  data_time: 0.0288  memory: 3346  loss: 0.0371  decode.loss_ce: 0.0258  decode.acc_seg: 70.9900  aux.loss_ce: 0.0113  aux.acc_seg: 67.8833\n",
            "06/18 14:50:21 - mmengine - INFO - per class results:\n",
            "06/18 14:50:21 - mmengine - INFO - \n",
            "+------------+-------+-------+\n",
            "|   Class    |  IoU  |  Acc  |\n",
            "+------------+-------+-------+\n",
            "|     /      | 83.81 | 96.58 |\n",
            "|    red     | 87.41 | 96.33 |\n",
            "|   green    | 11.26 | 11.64 |\n",
            "|   white    | 50.35 | 54.88 |\n",
            "| seed-black | 48.88 | 52.24 |\n",
            "| seed-white |  0.0  |  0.0  |\n",
            "+------------+-------+-------+\n",
            "06/18 14:50:21 - mmengine - INFO - Iter(val) [11/11]    aAcc: 87.4200  mIoU: 46.9500  mAcc: 51.9500  data_time: 0.0205  time: 0.1545\n",
            "06/18 14:50:51 - mmengine - INFO - Iter(train) [2500/3000]  lr: 9.4416e-03  eta: 0:02:33  time: 0.2379  data_time: 0.0439  memory: 3346  loss: 0.0487  decode.loss_ce: 0.0346  decode.acc_seg: 78.8147  aux.loss_ce: 0.0140  aux.acc_seg: 79.9957\n",
            "06/18 14:51:22 - mmengine - INFO - Iter(train) [2600/3000]  lr: 9.4191e-03  eta: 0:02:02  time: 0.3349  data_time: 0.1359  memory: 3346  loss: 0.0515  decode.loss_ce: 0.0366  decode.acc_seg: 71.4630  aux.loss_ce: 0.0149  aux.acc_seg: 72.2443\n",
            "06/18 14:51:51 - mmengine - INFO - Iter(train) [2700/3000]  lr: 9.3967e-03  eta: 0:01:31  time: 0.4164  data_time: 0.2018  memory: 3346  loss: 0.0312  decode.loss_ce: 0.0220  decode.acc_seg: 87.4146  aux.loss_ce: 0.0091  aux.acc_seg: 86.7737\n",
            "06/18 14:52:21 - mmengine - INFO - Iter(train) [2800/3000]  lr: 9.3743e-03  eta: 0:01:01  time: 0.2689  data_time: 0.0668  memory: 3368  loss: 0.0337  decode.loss_ce: 0.0234  decode.acc_seg: 89.0564  aux.loss_ce: 0.0104  aux.acc_seg: 86.6882\n",
            "06/18 14:52:23 - mmengine - INFO - per class results:\n",
            "06/18 14:52:23 - mmengine - INFO - \n",
            "+------------+-------+-------+\n",
            "|   Class    |  IoU  |  Acc  |\n",
            "+------------+-------+-------+\n",
            "|     /      | 88.85 | 96.47 |\n",
            "|    red     | 89.43 |  97.5 |\n",
            "|   green    |  39.5 | 42.91 |\n",
            "|   white    | 70.54 | 74.75 |\n",
            "| seed-black |  59.5 | 81.29 |\n",
            "| seed-white |  6.29 |  6.3  |\n",
            "+------------+-------+-------+\n",
            "06/18 14:52:23 - mmengine - INFO - Iter(val) [11/11]    aAcc: 91.3400  mIoU: 59.0200  mAcc: 66.5300  data_time: 0.0402  time: 0.1810\n",
            "06/18 14:52:52 - mmengine - INFO - Iter(train) [2900/3000]  lr: 9.3518e-03  eta: 0:00:30  time: 0.2341  data_time: 0.0350  memory: 3346  loss: 0.0448  decode.loss_ce: 0.0322  decode.acc_seg: 80.3589  aux.loss_ce: 0.0127  aux.acc_seg: 80.1636\n",
            "06/18 14:53:22 - mmengine - INFO - Exp name: pspnet-DubaiDataset_20230612_20230618_143459\n",
            "06/18 14:53:22 - mmengine - INFO - Iter(train) [3000/3000]  lr: 9.3294e-03  eta: 0:00:00  time: 0.2340  data_time: 0.0320  memory: 3368  loss: 0.0365  decode.loss_ce: 0.0260  decode.acc_seg: 92.9047  aux.loss_ce: 0.0105  aux.acc_seg: 87.8906\n",
            "06/18 14:53:22 - mmengine - INFO - Saving checkpoint at 3000 iterations\n"
          ]
        },
        {
          "output_type": "execute_result",
          "data": {
            "text/plain": [
              "EncoderDecoder(\n",
              "  (data_preprocessor): SegDataPreProcessor()\n",
              "  (backbone): ResNetV1c(\n",
              "    (stem): Sequential(\n",
              "      (0): Conv2d(3, 32, kernel_size=(3, 3), stride=(2, 2), padding=(1, 1), bias=False)\n",
              "      (1): BatchNorm2d(32, eps=1e-05, momentum=0.1, affine=True, track_running_stats=True)\n",
              "      (2): ReLU(inplace=True)\n",
              "      (3): Conv2d(32, 32, kernel_size=(3, 3), stride=(1, 1), padding=(1, 1), bias=False)\n",
              "      (4): BatchNorm2d(32, eps=1e-05, momentum=0.1, affine=True, track_running_stats=True)\n",
              "      (5): ReLU(inplace=True)\n",
              "      (6): Conv2d(32, 64, kernel_size=(3, 3), stride=(1, 1), padding=(1, 1), bias=False)\n",
              "      (7): BatchNorm2d(64, eps=1e-05, momentum=0.1, affine=True, track_running_stats=True)\n",
              "      (8): ReLU(inplace=True)\n",
              "    )\n",
              "    (maxpool): MaxPool2d(kernel_size=3, stride=2, padding=1, dilation=1, ceil_mode=False)\n",
              "    (layer1): ResLayer(\n",
              "      (0): Bottleneck(\n",
              "        (conv1): Conv2d(64, 64, kernel_size=(1, 1), stride=(1, 1), bias=False)\n",
              "        (bn1): BatchNorm2d(64, eps=1e-05, momentum=0.1, affine=True, track_running_stats=True)\n",
              "        (conv2): Conv2d(64, 64, kernel_size=(3, 3), stride=(1, 1), padding=(1, 1), bias=False)\n",
              "        (bn2): BatchNorm2d(64, eps=1e-05, momentum=0.1, affine=True, track_running_stats=True)\n",
              "        (conv3): Conv2d(64, 256, kernel_size=(1, 1), stride=(1, 1), bias=False)\n",
              "        (bn3): BatchNorm2d(256, eps=1e-05, momentum=0.1, affine=True, track_running_stats=True)\n",
              "        (relu): ReLU(inplace=True)\n",
              "        (downsample): Sequential(\n",
              "          (0): Conv2d(64, 256, kernel_size=(1, 1), stride=(1, 1), bias=False)\n",
              "          (1): BatchNorm2d(256, eps=1e-05, momentum=0.1, affine=True, track_running_stats=True)\n",
              "        )\n",
              "      )\n",
              "      (1): Bottleneck(\n",
              "        (conv1): Conv2d(256, 64, kernel_size=(1, 1), stride=(1, 1), bias=False)\n",
              "        (bn1): BatchNorm2d(64, eps=1e-05, momentum=0.1, affine=True, track_running_stats=True)\n",
              "        (conv2): Conv2d(64, 64, kernel_size=(3, 3), stride=(1, 1), padding=(1, 1), bias=False)\n",
              "        (bn2): BatchNorm2d(64, eps=1e-05, momentum=0.1, affine=True, track_running_stats=True)\n",
              "        (conv3): Conv2d(64, 256, kernel_size=(1, 1), stride=(1, 1), bias=False)\n",
              "        (bn3): BatchNorm2d(256, eps=1e-05, momentum=0.1, affine=True, track_running_stats=True)\n",
              "        (relu): ReLU(inplace=True)\n",
              "      )\n",
              "      (2): Bottleneck(\n",
              "        (conv1): Conv2d(256, 64, kernel_size=(1, 1), stride=(1, 1), bias=False)\n",
              "        (bn1): BatchNorm2d(64, eps=1e-05, momentum=0.1, affine=True, track_running_stats=True)\n",
              "        (conv2): Conv2d(64, 64, kernel_size=(3, 3), stride=(1, 1), padding=(1, 1), bias=False)\n",
              "        (bn2): BatchNorm2d(64, eps=1e-05, momentum=0.1, affine=True, track_running_stats=True)\n",
              "        (conv3): Conv2d(64, 256, kernel_size=(1, 1), stride=(1, 1), bias=False)\n",
              "        (bn3): BatchNorm2d(256, eps=1e-05, momentum=0.1, affine=True, track_running_stats=True)\n",
              "        (relu): ReLU(inplace=True)\n",
              "      )\n",
              "    )\n",
              "    (layer2): ResLayer(\n",
              "      (0): Bottleneck(\n",
              "        (conv1): Conv2d(256, 128, kernel_size=(1, 1), stride=(1, 1), bias=False)\n",
              "        (bn1): BatchNorm2d(128, eps=1e-05, momentum=0.1, affine=True, track_running_stats=True)\n",
              "        (conv2): Conv2d(128, 128, kernel_size=(3, 3), stride=(2, 2), padding=(1, 1), bias=False)\n",
              "        (bn2): BatchNorm2d(128, eps=1e-05, momentum=0.1, affine=True, track_running_stats=True)\n",
              "        (conv3): Conv2d(128, 512, kernel_size=(1, 1), stride=(1, 1), bias=False)\n",
              "        (bn3): BatchNorm2d(512, eps=1e-05, momentum=0.1, affine=True, track_running_stats=True)\n",
              "        (relu): ReLU(inplace=True)\n",
              "        (downsample): Sequential(\n",
              "          (0): Conv2d(256, 512, kernel_size=(1, 1), stride=(2, 2), bias=False)\n",
              "          (1): BatchNorm2d(512, eps=1e-05, momentum=0.1, affine=True, track_running_stats=True)\n",
              "        )\n",
              "      )\n",
              "      (1): Bottleneck(\n",
              "        (conv1): Conv2d(512, 128, kernel_size=(1, 1), stride=(1, 1), bias=False)\n",
              "        (bn1): BatchNorm2d(128, eps=1e-05, momentum=0.1, affine=True, track_running_stats=True)\n",
              "        (conv2): Conv2d(128, 128, kernel_size=(3, 3), stride=(1, 1), padding=(1, 1), bias=False)\n",
              "        (bn2): BatchNorm2d(128, eps=1e-05, momentum=0.1, affine=True, track_running_stats=True)\n",
              "        (conv3): Conv2d(128, 512, kernel_size=(1, 1), stride=(1, 1), bias=False)\n",
              "        (bn3): BatchNorm2d(512, eps=1e-05, momentum=0.1, affine=True, track_running_stats=True)\n",
              "        (relu): ReLU(inplace=True)\n",
              "      )\n",
              "      (2): Bottleneck(\n",
              "        (conv1): Conv2d(512, 128, kernel_size=(1, 1), stride=(1, 1), bias=False)\n",
              "        (bn1): BatchNorm2d(128, eps=1e-05, momentum=0.1, affine=True, track_running_stats=True)\n",
              "        (conv2): Conv2d(128, 128, kernel_size=(3, 3), stride=(1, 1), padding=(1, 1), bias=False)\n",
              "        (bn2): BatchNorm2d(128, eps=1e-05, momentum=0.1, affine=True, track_running_stats=True)\n",
              "        (conv3): Conv2d(128, 512, kernel_size=(1, 1), stride=(1, 1), bias=False)\n",
              "        (bn3): BatchNorm2d(512, eps=1e-05, momentum=0.1, affine=True, track_running_stats=True)\n",
              "        (relu): ReLU(inplace=True)\n",
              "      )\n",
              "      (3): Bottleneck(\n",
              "        (conv1): Conv2d(512, 128, kernel_size=(1, 1), stride=(1, 1), bias=False)\n",
              "        (bn1): BatchNorm2d(128, eps=1e-05, momentum=0.1, affine=True, track_running_stats=True)\n",
              "        (conv2): Conv2d(128, 128, kernel_size=(3, 3), stride=(1, 1), padding=(1, 1), bias=False)\n",
              "        (bn2): BatchNorm2d(128, eps=1e-05, momentum=0.1, affine=True, track_running_stats=True)\n",
              "        (conv3): Conv2d(128, 512, kernel_size=(1, 1), stride=(1, 1), bias=False)\n",
              "        (bn3): BatchNorm2d(512, eps=1e-05, momentum=0.1, affine=True, track_running_stats=True)\n",
              "        (relu): ReLU(inplace=True)\n",
              "      )\n",
              "    )\n",
              "    (layer3): ResLayer(\n",
              "      (0): Bottleneck(\n",
              "        (conv1): Conv2d(512, 256, kernel_size=(1, 1), stride=(1, 1), bias=False)\n",
              "        (bn1): BatchNorm2d(256, eps=1e-05, momentum=0.1, affine=True, track_running_stats=True)\n",
              "        (conv2): Conv2d(256, 256, kernel_size=(3, 3), stride=(1, 1), padding=(1, 1), bias=False)\n",
              "        (bn2): BatchNorm2d(256, eps=1e-05, momentum=0.1, affine=True, track_running_stats=True)\n",
              "        (conv3): Conv2d(256, 1024, kernel_size=(1, 1), stride=(1, 1), bias=False)\n",
              "        (bn3): BatchNorm2d(1024, eps=1e-05, momentum=0.1, affine=True, track_running_stats=True)\n",
              "        (relu): ReLU(inplace=True)\n",
              "        (downsample): Sequential(\n",
              "          (0): Conv2d(512, 1024, kernel_size=(1, 1), stride=(1, 1), bias=False)\n",
              "          (1): BatchNorm2d(1024, eps=1e-05, momentum=0.1, affine=True, track_running_stats=True)\n",
              "        )\n",
              "      )\n",
              "      (1): Bottleneck(\n",
              "        (conv1): Conv2d(1024, 256, kernel_size=(1, 1), stride=(1, 1), bias=False)\n",
              "        (bn1): BatchNorm2d(256, eps=1e-05, momentum=0.1, affine=True, track_running_stats=True)\n",
              "        (conv2): Conv2d(256, 256, kernel_size=(3, 3), stride=(1, 1), padding=(2, 2), dilation=(2, 2), bias=False)\n",
              "        (bn2): BatchNorm2d(256, eps=1e-05, momentum=0.1, affine=True, track_running_stats=True)\n",
              "        (conv3): Conv2d(256, 1024, kernel_size=(1, 1), stride=(1, 1), bias=False)\n",
              "        (bn3): BatchNorm2d(1024, eps=1e-05, momentum=0.1, affine=True, track_running_stats=True)\n",
              "        (relu): ReLU(inplace=True)\n",
              "      )\n",
              "      (2): Bottleneck(\n",
              "        (conv1): Conv2d(1024, 256, kernel_size=(1, 1), stride=(1, 1), bias=False)\n",
              "        (bn1): BatchNorm2d(256, eps=1e-05, momentum=0.1, affine=True, track_running_stats=True)\n",
              "        (conv2): Conv2d(256, 256, kernel_size=(3, 3), stride=(1, 1), padding=(2, 2), dilation=(2, 2), bias=False)\n",
              "        (bn2): BatchNorm2d(256, eps=1e-05, momentum=0.1, affine=True, track_running_stats=True)\n",
              "        (conv3): Conv2d(256, 1024, kernel_size=(1, 1), stride=(1, 1), bias=False)\n",
              "        (bn3): BatchNorm2d(1024, eps=1e-05, momentum=0.1, affine=True, track_running_stats=True)\n",
              "        (relu): ReLU(inplace=True)\n",
              "      )\n",
              "      (3): Bottleneck(\n",
              "        (conv1): Conv2d(1024, 256, kernel_size=(1, 1), stride=(1, 1), bias=False)\n",
              "        (bn1): BatchNorm2d(256, eps=1e-05, momentum=0.1, affine=True, track_running_stats=True)\n",
              "        (conv2): Conv2d(256, 256, kernel_size=(3, 3), stride=(1, 1), padding=(2, 2), dilation=(2, 2), bias=False)\n",
              "        (bn2): BatchNorm2d(256, eps=1e-05, momentum=0.1, affine=True, track_running_stats=True)\n",
              "        (conv3): Conv2d(256, 1024, kernel_size=(1, 1), stride=(1, 1), bias=False)\n",
              "        (bn3): BatchNorm2d(1024, eps=1e-05, momentum=0.1, affine=True, track_running_stats=True)\n",
              "        (relu): ReLU(inplace=True)\n",
              "      )\n",
              "      (4): Bottleneck(\n",
              "        (conv1): Conv2d(1024, 256, kernel_size=(1, 1), stride=(1, 1), bias=False)\n",
              "        (bn1): BatchNorm2d(256, eps=1e-05, momentum=0.1, affine=True, track_running_stats=True)\n",
              "        (conv2): Conv2d(256, 256, kernel_size=(3, 3), stride=(1, 1), padding=(2, 2), dilation=(2, 2), bias=False)\n",
              "        (bn2): BatchNorm2d(256, eps=1e-05, momentum=0.1, affine=True, track_running_stats=True)\n",
              "        (conv3): Conv2d(256, 1024, kernel_size=(1, 1), stride=(1, 1), bias=False)\n",
              "        (bn3): BatchNorm2d(1024, eps=1e-05, momentum=0.1, affine=True, track_running_stats=True)\n",
              "        (relu): ReLU(inplace=True)\n",
              "      )\n",
              "      (5): Bottleneck(\n",
              "        (conv1): Conv2d(1024, 256, kernel_size=(1, 1), stride=(1, 1), bias=False)\n",
              "        (bn1): BatchNorm2d(256, eps=1e-05, momentum=0.1, affine=True, track_running_stats=True)\n",
              "        (conv2): Conv2d(256, 256, kernel_size=(3, 3), stride=(1, 1), padding=(2, 2), dilation=(2, 2), bias=False)\n",
              "        (bn2): BatchNorm2d(256, eps=1e-05, momentum=0.1, affine=True, track_running_stats=True)\n",
              "        (conv3): Conv2d(256, 1024, kernel_size=(1, 1), stride=(1, 1), bias=False)\n",
              "        (bn3): BatchNorm2d(1024, eps=1e-05, momentum=0.1, affine=True, track_running_stats=True)\n",
              "        (relu): ReLU(inplace=True)\n",
              "      )\n",
              "    )\n",
              "    (layer4): ResLayer(\n",
              "      (0): Bottleneck(\n",
              "        (conv1): Conv2d(1024, 512, kernel_size=(1, 1), stride=(1, 1), bias=False)\n",
              "        (bn1): BatchNorm2d(512, eps=1e-05, momentum=0.1, affine=True, track_running_stats=True)\n",
              "        (conv2): Conv2d(512, 512, kernel_size=(3, 3), stride=(1, 1), padding=(2, 2), dilation=(2, 2), bias=False)\n",
              "        (bn2): BatchNorm2d(512, eps=1e-05, momentum=0.1, affine=True, track_running_stats=True)\n",
              "        (conv3): Conv2d(512, 2048, kernel_size=(1, 1), stride=(1, 1), bias=False)\n",
              "        (bn3): BatchNorm2d(2048, eps=1e-05, momentum=0.1, affine=True, track_running_stats=True)\n",
              "        (relu): ReLU(inplace=True)\n",
              "        (downsample): Sequential(\n",
              "          (0): Conv2d(1024, 2048, kernel_size=(1, 1), stride=(1, 1), bias=False)\n",
              "          (1): BatchNorm2d(2048, eps=1e-05, momentum=0.1, affine=True, track_running_stats=True)\n",
              "        )\n",
              "      )\n",
              "      (1): Bottleneck(\n",
              "        (conv1): Conv2d(2048, 512, kernel_size=(1, 1), stride=(1, 1), bias=False)\n",
              "        (bn1): BatchNorm2d(512, eps=1e-05, momentum=0.1, affine=True, track_running_stats=True)\n",
              "        (conv2): Conv2d(512, 512, kernel_size=(3, 3), stride=(1, 1), padding=(4, 4), dilation=(4, 4), bias=False)\n",
              "        (bn2): BatchNorm2d(512, eps=1e-05, momentum=0.1, affine=True, track_running_stats=True)\n",
              "        (conv3): Conv2d(512, 2048, kernel_size=(1, 1), stride=(1, 1), bias=False)\n",
              "        (bn3): BatchNorm2d(2048, eps=1e-05, momentum=0.1, affine=True, track_running_stats=True)\n",
              "        (relu): ReLU(inplace=True)\n",
              "      )\n",
              "      (2): Bottleneck(\n",
              "        (conv1): Conv2d(2048, 512, kernel_size=(1, 1), stride=(1, 1), bias=False)\n",
              "        (bn1): BatchNorm2d(512, eps=1e-05, momentum=0.1, affine=True, track_running_stats=True)\n",
              "        (conv2): Conv2d(512, 512, kernel_size=(3, 3), stride=(1, 1), padding=(4, 4), dilation=(4, 4), bias=False)\n",
              "        (bn2): BatchNorm2d(512, eps=1e-05, momentum=0.1, affine=True, track_running_stats=True)\n",
              "        (conv3): Conv2d(512, 2048, kernel_size=(1, 1), stride=(1, 1), bias=False)\n",
              "        (bn3): BatchNorm2d(2048, eps=1e-05, momentum=0.1, affine=True, track_running_stats=True)\n",
              "        (relu): ReLU(inplace=True)\n",
              "      )\n",
              "    )\n",
              "  )\n",
              "  init_cfg={'type': 'Pretrained', 'checkpoint': 'open-mmlab://resnet50_v1c'}\n",
              "  (decode_head): PSPHead(\n",
              "    input_transform=None, ignore_index=255, align_corners=False\n",
              "    (loss_decode): CrossEntropyLoss(avg_non_ignore=False)\n",
              "    (conv_seg): Conv2d(512, 6, kernel_size=(1, 1), stride=(1, 1))\n",
              "    (dropout): Dropout2d(p=0.1, inplace=False)\n",
              "    (psp_modules): PPM(\n",
              "      (0): Sequential(\n",
              "        (0): AdaptiveAvgPool2d(output_size=1)\n",
              "        (1): ConvModule(\n",
              "          (conv): Conv2d(2048, 512, kernel_size=(1, 1), stride=(1, 1), bias=False)\n",
              "          (bn): BatchNorm2d(512, eps=1e-05, momentum=0.1, affine=True, track_running_stats=True)\n",
              "          (activate): ReLU(inplace=True)\n",
              "        )\n",
              "      )\n",
              "      (1): Sequential(\n",
              "        (0): AdaptiveAvgPool2d(output_size=2)\n",
              "        (1): ConvModule(\n",
              "          (conv): Conv2d(2048, 512, kernel_size=(1, 1), stride=(1, 1), bias=False)\n",
              "          (bn): BatchNorm2d(512, eps=1e-05, momentum=0.1, affine=True, track_running_stats=True)\n",
              "          (activate): ReLU(inplace=True)\n",
              "        )\n",
              "      )\n",
              "      (2): Sequential(\n",
              "        (0): AdaptiveAvgPool2d(output_size=3)\n",
              "        (1): ConvModule(\n",
              "          (conv): Conv2d(2048, 512, kernel_size=(1, 1), stride=(1, 1), bias=False)\n",
              "          (bn): BatchNorm2d(512, eps=1e-05, momentum=0.1, affine=True, track_running_stats=True)\n",
              "          (activate): ReLU(inplace=True)\n",
              "        )\n",
              "      )\n",
              "      (3): Sequential(\n",
              "        (0): AdaptiveAvgPool2d(output_size=6)\n",
              "        (1): ConvModule(\n",
              "          (conv): Conv2d(2048, 512, kernel_size=(1, 1), stride=(1, 1), bias=False)\n",
              "          (bn): BatchNorm2d(512, eps=1e-05, momentum=0.1, affine=True, track_running_stats=True)\n",
              "          (activate): ReLU(inplace=True)\n",
              "        )\n",
              "      )\n",
              "    )\n",
              "    (bottleneck): ConvModule(\n",
              "      (conv): Conv2d(4096, 512, kernel_size=(3, 3), stride=(1, 1), padding=(1, 1), bias=False)\n",
              "      (bn): BatchNorm2d(512, eps=1e-05, momentum=0.1, affine=True, track_running_stats=True)\n",
              "      (activate): ReLU(inplace=True)\n",
              "    )\n",
              "  )\n",
              "  init_cfg={'type': 'Normal', 'std': 0.01, 'override': {'name': 'conv_seg'}}\n",
              "  (auxiliary_head): FCNHead(\n",
              "    input_transform=None, ignore_index=255, align_corners=False\n",
              "    (loss_decode): CrossEntropyLoss(avg_non_ignore=False)\n",
              "    (conv_seg): Conv2d(256, 6, kernel_size=(1, 1), stride=(1, 1))\n",
              "    (dropout): Dropout2d(p=0.1, inplace=False)\n",
              "    (convs): Sequential(\n",
              "      (0): ConvModule(\n",
              "        (conv): Conv2d(1024, 256, kernel_size=(3, 3), stride=(1, 1), padding=(1, 1), bias=False)\n",
              "        (bn): BatchNorm2d(256, eps=1e-05, momentum=0.1, affine=True, track_running_stats=True)\n",
              "        (activate): ReLU(inplace=True)\n",
              "      )\n",
              "    )\n",
              "  )\n",
              "  init_cfg={'type': 'Normal', 'std': 0.01, 'override': {'name': 'conv_seg'}}\n",
              ")"
            ]
          },
          "metadata": {},
          "execution_count": 43
        }
      ],
      "source": [
        "runner.train()"
      ]
    },
    {
      "cell_type": "markdown",
      "metadata": {
        "id": "4ed79319-5f77-414e-8645-7aa12b26ad81"
      },
      "source": [
        "# 用训练得到的模型预测"
      ]
    },
    {
      "cell_type": "markdown",
      "metadata": {
        "id": "4c1f8852-2cf1-4349-861a-8dcc70f8ad3c"
      },
      "source": [
        "## 进入MMSegmentation主目录"
      ]
    },
    {
      "cell_type": "code",
      "execution_count": 44,
      "metadata": {
        "id": "ccfe6893-99ca-4414-8557-e486346c6dac"
      },
      "outputs": [],
      "source": [
        "# import os\n",
        "# os.chdir('../mmsegmentation')"
      ]
    },
    {
      "cell_type": "code",
      "execution_count": 45,
      "metadata": {
        "id": "02d4a793-1f81-4add-83fb-430c618e27de",
        "outputId": "20a8459a-0a5c-42af-b99a-caaa1bcdffc1",
        "colab": {
          "base_uri": "https://localhost:8080/",
          "height": 35
        }
      },
      "outputs": [
        {
          "output_type": "execute_result",
          "data": {
            "text/plain": [
              "'/content/drive/MyDrive/OpenMMlab/mmsegmentation'"
            ],
            "application/vnd.google.colaboratory.intrinsic+json": {
              "type": "string"
            }
          },
          "metadata": {},
          "execution_count": 45
        }
      ],
      "source": [
        "os.getcwd()"
      ]
    },
    {
      "cell_type": "markdown",
      "metadata": {
        "id": "f7e25f98-06ad-471d-88c7-607a5e88b531"
      },
      "source": [
        "## 导入工具包"
      ]
    },
    {
      "cell_type": "code",
      "execution_count": 46,
      "metadata": {
        "id": "b844af32-81ba-4098-8290-3826c1c44a24"
      },
      "outputs": [],
      "source": [
        "import numpy as np\n",
        "import matplotlib.pyplot as plt\n",
        "%matplotlib inline\n",
        "\n",
        "from mmseg.apis import init_model, inference_model, show_result_pyplot\n",
        "import mmcv\n",
        "import cv2"
      ]
    },
    {
      "cell_type": "markdown",
      "metadata": {
        "id": "6fabdfd0-fe1b-46a2-9351-a9ff55155582"
      },
      "source": [
        "## 载入配置文件"
      ]
    },
    {
      "cell_type": "code",
      "execution_count": 47,
      "metadata": {
        "tags": [],
        "id": "aae69f95-9733-4e69-9136-a9c33b04014a"
      },
      "outputs": [],
      "source": [
        "# 载入 config 配置文件\n",
        "from mmengine import Config\n",
        "cfg = Config.fromfile('pspnet-DubaiDataset_20230612.py')"
      ]
    },
    {
      "cell_type": "code",
      "execution_count": 48,
      "metadata": {
        "id": "f9845ee3-4736-49d9-8b82-25e9e4fd558e",
        "outputId": "0ea25159-4080-4a60-fa01-b45360e62048",
        "colab": {
          "base_uri": "https://localhost:8080/"
        }
      },
      "outputs": [
        {
          "output_type": "stream",
          "name": "stdout",
          "text": [
            "06/18 14:54:02 - mmengine - INFO - \n",
            "------------------------------------------------------------\n",
            "System environment:\n",
            "    sys.platform: linux\n",
            "    Python: 3.10.12 (main, Jun  7 2023, 12:45:35) [GCC 9.4.0]\n",
            "    CUDA available: True\n",
            "    numpy_random_seed: 0\n",
            "    GPU 0: Tesla V100-SXM2-16GB\n",
            "    CUDA_HOME: /usr/local/cuda\n",
            "    NVCC: Cuda compilation tools, release 11.8, V11.8.89\n",
            "    GCC: x86_64-linux-gnu-gcc (Ubuntu 9.4.0-1ubuntu1~20.04.1) 9.4.0\n",
            "    PyTorch: 2.0.1+cu118\n",
            "    PyTorch compiling details: PyTorch built with:\n",
            "  - GCC 9.3\n",
            "  - C++ Version: 201703\n",
            "  - Intel(R) oneAPI Math Kernel Library Version 2022.2-Product Build 20220804 for Intel(R) 64 architecture applications\n",
            "  - Intel(R) MKL-DNN v2.7.3 (Git Hash 6dbeffbae1f23cbbeae17adb7b5b13f1f37c080e)\n",
            "  - OpenMP 201511 (a.k.a. OpenMP 4.5)\n",
            "  - LAPACK is enabled (usually provided by MKL)\n",
            "  - NNPACK is enabled\n",
            "  - CPU capability usage: AVX2\n",
            "  - CUDA Runtime 11.8\n",
            "  - NVCC architecture flags: -gencode;arch=compute_37,code=sm_37;-gencode;arch=compute_50,code=sm_50;-gencode;arch=compute_60,code=sm_60;-gencode;arch=compute_70,code=sm_70;-gencode;arch=compute_75,code=sm_75;-gencode;arch=compute_80,code=sm_80;-gencode;arch=compute_86,code=sm_86;-gencode;arch=compute_90,code=sm_90\n",
            "  - CuDNN 8.7\n",
            "  - Magma 2.6.1\n",
            "  - Build settings: BLAS_INFO=mkl, BUILD_TYPE=Release, CUDA_VERSION=11.8, CUDNN_VERSION=8.7.0, CXX_COMPILER=/opt/rh/devtoolset-9/root/usr/bin/c++, CXX_FLAGS= -D_GLIBCXX_USE_CXX11_ABI=0 -fabi-version=11 -Wno-deprecated -fvisibility-inlines-hidden -DUSE_PTHREADPOOL -DNDEBUG -DUSE_KINETO -DLIBKINETO_NOROCTRACER -DUSE_FBGEMM -DUSE_QNNPACK -DUSE_PYTORCH_QNNPACK -DUSE_XNNPACK -DSYMBOLICATE_MOBILE_DEBUG_HANDLE -O2 -fPIC -Wall -Wextra -Werror=return-type -Werror=non-virtual-dtor -Werror=bool-operation -Wnarrowing -Wno-missing-field-initializers -Wno-type-limits -Wno-array-bounds -Wno-unknown-pragmas -Wunused-local-typedefs -Wno-unused-parameter -Wno-unused-function -Wno-unused-result -Wno-strict-overflow -Wno-strict-aliasing -Wno-error=deprecated-declarations -Wno-stringop-overflow -Wno-psabi -Wno-error=pedantic -Wno-error=redundant-decls -Wno-error=old-style-cast -fdiagnostics-color=always -faligned-new -Wno-unused-but-set-variable -Wno-maybe-uninitialized -fno-math-errno -fno-trapping-math -Werror=format -Werror=cast-function-type -Wno-stringop-overflow, LAPACK_INFO=mkl, PERF_WITH_AVX=1, PERF_WITH_AVX2=1, PERF_WITH_AVX512=1, TORCH_DISABLE_GPU_ASSERTS=ON, TORCH_VERSION=2.0.1, USE_CUDA=ON, USE_CUDNN=ON, USE_EXCEPTION_PTR=1, USE_GFLAGS=OFF, USE_GLOG=OFF, USE_MKL=ON, USE_MKLDNN=ON, USE_MPI=OFF, USE_NCCL=1, USE_NNPACK=ON, USE_OPENMP=ON, USE_ROCM=OFF, \n",
            "\n",
            "    TorchVision: 0.15.2+cu118\n",
            "    OpenCV: 4.7.0\n",
            "    MMEngine: 0.7.4\n",
            "\n",
            "Runtime environment:\n",
            "    cudnn_benchmark: True\n",
            "    mp_cfg: {'mp_start_method': 'fork', 'opencv_num_threads': 0}\n",
            "    dist_cfg: {'backend': 'nccl'}\n",
            "    seed: 0\n",
            "    Distributed launcher: none\n",
            "    Distributed training: False\n",
            "    GPU number: 1\n",
            "------------------------------------------------------------\n",
            "\n",
            "06/18 14:54:02 - mmengine - INFO - Config:\n",
            "norm_cfg = dict(type='BN', requires_grad=True)\n",
            "data_preprocessor = dict(\n",
            "    type='SegDataPreProcessor',\n",
            "    mean=[123.675, 116.28, 103.53],\n",
            "    std=[58.395, 57.12, 57.375],\n",
            "    bgr_to_rgb=True,\n",
            "    pad_val=0,\n",
            "    seg_pad_val=255,\n",
            "    size=(64, 64))\n",
            "model = dict(\n",
            "    type='EncoderDecoder',\n",
            "    data_preprocessor=dict(\n",
            "        type='SegDataPreProcessor',\n",
            "        mean=[123.675, 116.28, 103.53],\n",
            "        std=[58.395, 57.12, 57.375],\n",
            "        bgr_to_rgb=True,\n",
            "        pad_val=0,\n",
            "        seg_pad_val=255,\n",
            "        size=(256, 256)),\n",
            "    pretrained='open-mmlab://resnet50_v1c',\n",
            "    backbone=dict(\n",
            "        type='ResNetV1c',\n",
            "        depth=50,\n",
            "        num_stages=4,\n",
            "        out_indices=(0, 1, 2, 3),\n",
            "        dilations=(1, 1, 2, 4),\n",
            "        strides=(1, 2, 1, 1),\n",
            "        norm_cfg=dict(type='BN', requires_grad=True),\n",
            "        norm_eval=False,\n",
            "        style='pytorch',\n",
            "        contract_dilation=True),\n",
            "    decode_head=dict(\n",
            "        type='PSPHead',\n",
            "        in_channels=2048,\n",
            "        in_index=3,\n",
            "        channels=512,\n",
            "        pool_scales=(1, 2, 3, 6),\n",
            "        dropout_ratio=0.1,\n",
            "        num_classes=6,\n",
            "        norm_cfg=dict(type='BN', requires_grad=True),\n",
            "        align_corners=False,\n",
            "        loss_decode=dict(\n",
            "            type='CrossEntropyLoss', use_sigmoid=False, loss_weight=1.0)),\n",
            "    auxiliary_head=dict(\n",
            "        type='FCNHead',\n",
            "        in_channels=1024,\n",
            "        in_index=2,\n",
            "        channels=256,\n",
            "        num_convs=1,\n",
            "        concat_input=False,\n",
            "        dropout_ratio=0.1,\n",
            "        num_classes=6,\n",
            "        norm_cfg=dict(type='BN', requires_grad=True),\n",
            "        align_corners=False,\n",
            "        loss_decode=dict(\n",
            "            type='CrossEntropyLoss', use_sigmoid=False, loss_weight=0.4)),\n",
            "    train_cfg=dict(),\n",
            "    test_cfg=dict(mode='whole'))\n",
            "dataset_type = 'DubaiDataset'\n",
            "data_root = 'data/Watermelon87_Semantic_Seg_Mask/'\n",
            "crop_size = (256, 256)\n",
            "train_pipeline = [\n",
            "    dict(type='LoadImageFromFile'),\n",
            "    dict(type='LoadAnnotations'),\n",
            "    dict(\n",
            "        type='RandomResize',\n",
            "        scale=(2048, 1024),\n",
            "        ratio_range=(0.5, 2.0),\n",
            "        keep_ratio=True),\n",
            "    dict(type='RandomCrop', crop_size=(64, 64), cat_max_ratio=0.75),\n",
            "    dict(type='RandomFlip', prob=0.5),\n",
            "    dict(type='PhotoMetricDistortion'),\n",
            "    dict(type='PackSegInputs')\n",
            "]\n",
            "test_pipeline = [\n",
            "    dict(type='LoadImageFromFile'),\n",
            "    dict(type='Resize', scale=(2048, 1024), keep_ratio=True),\n",
            "    dict(type='LoadAnnotations'),\n",
            "    dict(type='PackSegInputs')\n",
            "]\n",
            "img_ratios = [0.5, 0.75, 1.0, 1.25, 1.5, 1.75]\n",
            "tta_pipeline = [\n",
            "    dict(type='LoadImageFromFile', file_client_args=dict(backend='disk')),\n",
            "    dict(\n",
            "        type='TestTimeAug',\n",
            "        transforms=[[{\n",
            "            'type': 'Resize',\n",
            "            'scale_factor': 0.5,\n",
            "            'keep_ratio': True\n",
            "        }, {\n",
            "            'type': 'Resize',\n",
            "            'scale_factor': 0.75,\n",
            "            'keep_ratio': True\n",
            "        }, {\n",
            "            'type': 'Resize',\n",
            "            'scale_factor': 1.0,\n",
            "            'keep_ratio': True\n",
            "        }, {\n",
            "            'type': 'Resize',\n",
            "            'scale_factor': 1.25,\n",
            "            'keep_ratio': True\n",
            "        }, {\n",
            "            'type': 'Resize',\n",
            "            'scale_factor': 1.5,\n",
            "            'keep_ratio': True\n",
            "        }, {\n",
            "            'type': 'Resize',\n",
            "            'scale_factor': 1.75,\n",
            "            'keep_ratio': True\n",
            "        }],\n",
            "                    [{\n",
            "                        'type': 'RandomFlip',\n",
            "                        'prob': 0.0,\n",
            "                        'direction': 'horizontal'\n",
            "                    }, {\n",
            "                        'type': 'RandomFlip',\n",
            "                        'prob': 1.0,\n",
            "                        'direction': 'horizontal'\n",
            "                    }], [{\n",
            "                        'type': 'LoadAnnotations'\n",
            "                    }], [{\n",
            "                        'type': 'PackSegInputs'\n",
            "                    }]])\n",
            "]\n",
            "train_dataloader = dict(\n",
            "    batch_size=8,\n",
            "    num_workers=2,\n",
            "    persistent_workers=True,\n",
            "    sampler=dict(type='InfiniteSampler', shuffle=True),\n",
            "    dataset=dict(\n",
            "        type='DubaiDataset',\n",
            "        data_root='data/Watermelon87_Semantic_Seg_Mask/',\n",
            "        data_prefix=dict(\n",
            "            img_path='img_dir/train', seg_map_path='ann_dir/train'),\n",
            "        pipeline=[\n",
            "            dict(type='LoadImageFromFile'),\n",
            "            dict(type='LoadAnnotations'),\n",
            "            dict(\n",
            "                type='RandomResize',\n",
            "                scale=(2048, 1024),\n",
            "                ratio_range=(0.5, 2.0),\n",
            "                keep_ratio=True),\n",
            "            dict(type='RandomCrop', crop_size=(64, 64), cat_max_ratio=0.75),\n",
            "            dict(type='RandomFlip', prob=0.5),\n",
            "            dict(type='PhotoMetricDistortion'),\n",
            "            dict(type='PackSegInputs')\n",
            "        ]))\n",
            "val_dataloader = dict(\n",
            "    batch_size=1,\n",
            "    num_workers=4,\n",
            "    persistent_workers=True,\n",
            "    sampler=dict(type='DefaultSampler', shuffle=False),\n",
            "    dataset=dict(\n",
            "        type='DubaiDataset',\n",
            "        data_root='data/Watermelon87_Semantic_Seg_Mask/',\n",
            "        data_prefix=dict(img_path='img_dir/val', seg_map_path='ann_dir/val'),\n",
            "        pipeline=[\n",
            "            dict(type='LoadImageFromFile'),\n",
            "            dict(type='Resize', scale=(2048, 1024), keep_ratio=True),\n",
            "            dict(type='LoadAnnotations'),\n",
            "            dict(type='PackSegInputs')\n",
            "        ]))\n",
            "test_dataloader = dict(\n",
            "    batch_size=1,\n",
            "    num_workers=4,\n",
            "    persistent_workers=True,\n",
            "    sampler=dict(type='DefaultSampler', shuffle=False),\n",
            "    dataset=dict(\n",
            "        type='DubaiDataset',\n",
            "        data_root='data/Watermelon87_Semantic_Seg_Mask/',\n",
            "        data_prefix=dict(img_path='img_dir/val', seg_map_path='ann_dir/val'),\n",
            "        pipeline=[\n",
            "            dict(type='LoadImageFromFile'),\n",
            "            dict(type='Resize', scale=(2048, 1024), keep_ratio=True),\n",
            "            dict(type='LoadAnnotations'),\n",
            "            dict(type='PackSegInputs')\n",
            "        ]))\n",
            "val_evaluator = dict(type='IoUMetric', iou_metrics=['mIoU'])\n",
            "test_evaluator = dict(type='IoUMetric', iou_metrics=['mIoU'])\n",
            "default_scope = 'mmseg'\n",
            "env_cfg = dict(\n",
            "    cudnn_benchmark=True,\n",
            "    mp_cfg=dict(mp_start_method='fork', opencv_num_threads=0),\n",
            "    dist_cfg=dict(backend='nccl'))\n",
            "vis_backends = [dict(type='LocalVisBackend')]\n",
            "visualizer = dict(\n",
            "    type='SegLocalVisualizer',\n",
            "    vis_backends=[dict(type='LocalVisBackend')],\n",
            "    name='visualizer')\n",
            "log_processor = dict(by_epoch=False)\n",
            "log_level = 'INFO'\n",
            "load_from = None\n",
            "resume = False\n",
            "tta_model = dict(type='SegTTAModel')\n",
            "optimizer = dict(type='SGD', lr=0.01, momentum=0.9, weight_decay=0.0005)\n",
            "optim_wrapper = dict(\n",
            "    type='OptimWrapper',\n",
            "    optimizer=dict(type='SGD', lr=0.01, momentum=0.9, weight_decay=0.0005),\n",
            "    clip_grad=None)\n",
            "param_scheduler = [\n",
            "    dict(\n",
            "        type='PolyLR',\n",
            "        eta_min=0.0001,\n",
            "        power=0.9,\n",
            "        begin=0,\n",
            "        end=40000,\n",
            "        by_epoch=False)\n",
            "]\n",
            "train_cfg = dict(type='IterBasedTrainLoop', max_iters=3000, val_interval=400)\n",
            "val_cfg = dict(type='ValLoop')\n",
            "test_cfg = dict(type='TestLoop')\n",
            "default_hooks = dict(\n",
            "    timer=dict(type='IterTimerHook'),\n",
            "    logger=dict(type='LoggerHook', interval=100, log_metric_by_epoch=False),\n",
            "    param_scheduler=dict(type='ParamSchedulerHook'),\n",
            "    checkpoint=dict(type='CheckpointHook', by_epoch=False, interval=1500),\n",
            "    sampler_seed=dict(type='DistSamplerSeedHook'),\n",
            "    visualization=dict(type='SegVisualizationHook'))\n",
            "work_dir = './work_dirs/WatermelonDataset'\n",
            "randomness = dict(seed=0)\n",
            "\n"
          ]
        },
        {
          "output_type": "stream",
          "name": "stderr",
          "text": [
            "/usr/local/lib/python3.10/dist-packages/mmengine/utils/manager.py:113: UserWarning: <class 'mmseg.visualization.local_visualizer.SegLocalVisualizer'> instance named of visualizer has been created, the method `get_instance` should not accept any other arguments\n",
            "  warnings.warn(\n",
            "/content/drive/MyDrive/OpenMMlab/mmsegmentation/mmseg/models/backbones/resnet.py:431: UserWarning: DeprecationWarning: pretrained is a deprecated, please use \"init_cfg\" instead\n",
            "  warnings.warn('DeprecationWarning: pretrained is a deprecated, '\n",
            "/content/drive/MyDrive/OpenMMlab/mmsegmentation/mmseg/models/builder.py:36: UserWarning: ``build_loss`` would be deprecated soon, please use ``mmseg.registry.MODELS.build()`` \n",
            "  warnings.warn('``build_loss`` would be deprecated soon, please use '\n",
            "/content/drive/MyDrive/OpenMMlab/mmsegmentation/mmseg/models/losses/cross_entropy_loss.py:235: UserWarning: Default ``avg_non_ignore`` is False, if you would like to ignore the certain label and average loss over non-ignore labels, which is the same with PyTorch official cross_entropy, set ``avg_non_ignore=True``.\n",
            "  warnings.warn(\n"
          ]
        },
        {
          "output_type": "stream",
          "name": "stdout",
          "text": [
            "06/18 14:54:04 - mmengine - INFO - Distributed training is not used, all SyncBatchNorm (SyncBN) layers in the model will be automatically reverted to BatchNormXd layers if they are used.\n",
            "06/18 14:54:04 - mmengine - INFO - Hooks will be executed in the following order:\n",
            "before_run:\n",
            "(VERY_HIGH   ) RuntimeInfoHook                    \n",
            "(BELOW_NORMAL) LoggerHook                         \n",
            " -------------------- \n",
            "before_train:\n",
            "(VERY_HIGH   ) RuntimeInfoHook                    \n",
            "(NORMAL      ) IterTimerHook                      \n",
            "(VERY_LOW    ) CheckpointHook                     \n",
            " -------------------- \n",
            "before_train_epoch:\n",
            "(VERY_HIGH   ) RuntimeInfoHook                    \n",
            "(NORMAL      ) IterTimerHook                      \n",
            "(NORMAL      ) DistSamplerSeedHook                \n",
            " -------------------- \n",
            "before_train_iter:\n",
            "(VERY_HIGH   ) RuntimeInfoHook                    \n",
            "(NORMAL      ) IterTimerHook                      \n",
            " -------------------- \n",
            "after_train_iter:\n",
            "(VERY_HIGH   ) RuntimeInfoHook                    \n",
            "(NORMAL      ) IterTimerHook                      \n",
            "(NORMAL      ) SegVisualizationHook               \n",
            "(BELOW_NORMAL) LoggerHook                         \n",
            "(LOW         ) ParamSchedulerHook                 \n",
            "(VERY_LOW    ) CheckpointHook                     \n",
            " -------------------- \n",
            "after_train_epoch:\n",
            "(NORMAL      ) IterTimerHook                      \n",
            "(LOW         ) ParamSchedulerHook                 \n",
            "(VERY_LOW    ) CheckpointHook                     \n",
            " -------------------- \n",
            "before_val_epoch:\n",
            "(NORMAL      ) IterTimerHook                      \n",
            " -------------------- \n",
            "before_val_iter:\n",
            "(NORMAL      ) IterTimerHook                      \n",
            " -------------------- \n",
            "after_val_iter:\n",
            "(NORMAL      ) IterTimerHook                      \n",
            "(NORMAL      ) SegVisualizationHook               \n",
            "(BELOW_NORMAL) LoggerHook                         \n",
            " -------------------- \n",
            "after_val_epoch:\n",
            "(VERY_HIGH   ) RuntimeInfoHook                    \n",
            "(NORMAL      ) IterTimerHook                      \n",
            "(BELOW_NORMAL) LoggerHook                         \n",
            "(LOW         ) ParamSchedulerHook                 \n",
            "(VERY_LOW    ) CheckpointHook                     \n",
            " -------------------- \n",
            "after_train:\n",
            "(VERY_LOW    ) CheckpointHook                     \n",
            " -------------------- \n",
            "before_test_epoch:\n",
            "(NORMAL      ) IterTimerHook                      \n",
            " -------------------- \n",
            "before_test_iter:\n",
            "(NORMAL      ) IterTimerHook                      \n",
            " -------------------- \n",
            "after_test_iter:\n",
            "(NORMAL      ) IterTimerHook                      \n",
            "(NORMAL      ) SegVisualizationHook               \n",
            "(BELOW_NORMAL) LoggerHook                         \n",
            " -------------------- \n",
            "after_test_epoch:\n",
            "(VERY_HIGH   ) RuntimeInfoHook                    \n",
            "(NORMAL      ) IterTimerHook                      \n",
            "(BELOW_NORMAL) LoggerHook                         \n",
            " -------------------- \n",
            "after_run:\n",
            "(BELOW_NORMAL) LoggerHook                         \n",
            " -------------------- \n"
          ]
        },
        {
          "output_type": "stream",
          "name": "stderr",
          "text": [
            "/content/drive/MyDrive/OpenMMlab/mmsegmentation/mmseg/engine/hooks/visualization_hook.py:61: UserWarning: The draw is False, it means that the hook for visualization will not take effect. The results will NOT be visualized or stored.\n",
            "  warnings.warn('The draw is False, it means that the '\n"
          ]
        }
      ],
      "source": [
        "from mmengine.runner import Runner\n",
        "from mmseg.utils import register_all_modules\n",
        "\n",
        "# register all modules in mmseg into the registries\n",
        "# do not init the default scope here because it will be init in the runner\n",
        "\n",
        "register_all_modules(init_default_scope=False)\n",
        "runner = Runner.from_cfg(cfg)"
      ]
    },
    {
      "cell_type": "markdown",
      "metadata": {
        "id": "e4d9ef5b-6843-4239-88dc-881ef00b0c53"
      },
      "source": [
        "## 载入模型"
      ]
    },
    {
      "cell_type": "code",
      "execution_count": 49,
      "metadata": {
        "id": "38a9452d-8c49-4471-b531-0a86b21c36fe",
        "outputId": "216b50d4-c0b7-4091-a8b5-a15a58da44ce",
        "colab": {
          "base_uri": "https://localhost:8080/"
        }
      },
      "outputs": [
        {
          "output_type": "stream",
          "name": "stdout",
          "text": [
            "Loads checkpoint by local backend from path: ./work_dirs/WatermelonDataset/iter_3000.pth\n"
          ]
        }
      ],
      "source": [
        "checkpoint_path = './work_dirs/WatermelonDataset/iter_3000.pth'\n",
        "model = init_model(cfg, checkpoint_path, 'cuda:0')"
      ]
    },
    {
      "cell_type": "markdown",
      "metadata": {
        "id": "57278085-2a25-499e-a0d1-cedab07ff494"
      },
      "source": [
        "## 载入测试集图像，或新图像"
      ]
    },
    {
      "cell_type": "code",
      "execution_count": 50,
      "metadata": {
        "id": "e8a13147-d508-4ddf-b390-5ec04d4e9ad1"
      },
      "outputs": [],
      "source": [
        "img = mmcv.imread('/content/drive/MyDrive/OpenMMlab/mmsegmentation/data/Watermelon87_Semantic_Seg_Mask/img_dir/val/R.jpeg')"
      ]
    },
    {
      "cell_type": "markdown",
      "metadata": {
        "id": "a2a3e071-939e-46de-b841-738bae1880d2"
      },
      "source": [
        "## 语义分割预测"
      ]
    },
    {
      "cell_type": "code",
      "execution_count": 51,
      "metadata": {
        "id": "50af1587-28db-472c-bc99-cec698415b60"
      },
      "outputs": [],
      "source": [
        "result = inference_model(model, img)"
      ]
    },
    {
      "cell_type": "code",
      "execution_count": 52,
      "metadata": {
        "id": "cc5a843a-99b9-4ff4-9ada-eda2c3b98c2b",
        "outputId": "12973f2c-94f3-4b63-9bb8-c008d76e8b04",
        "colab": {
          "base_uri": "https://localhost:8080/"
        }
      },
      "outputs": [
        {
          "output_type": "execute_result",
          "data": {
            "text/plain": [
              "['pred_sem_seg', 'seg_logits']"
            ]
          },
          "metadata": {},
          "execution_count": 52
        }
      ],
      "source": [
        "result.keys()"
      ]
    },
    {
      "cell_type": "code",
      "execution_count": 53,
      "metadata": {
        "id": "724cdf31-4bbf-48b9-945a-8dde5ed8c608"
      },
      "outputs": [],
      "source": [
        "pred_mask = result.pred_sem_seg.data[0].cpu().numpy()"
      ]
    },
    {
      "cell_type": "code",
      "execution_count": 54,
      "metadata": {
        "id": "6147d755-29e7-47e4-994b-f1cfd8e54192",
        "outputId": "def4cb4f-7b0c-46e4-9df2-0f8acfd20abb",
        "colab": {
          "base_uri": "https://localhost:8080/"
        }
      },
      "outputs": [
        {
          "output_type": "execute_result",
          "data": {
            "text/plain": [
              "(1333, 2000)"
            ]
          },
          "metadata": {},
          "execution_count": 54
        }
      ],
      "source": [
        "pred_mask.shape"
      ]
    },
    {
      "cell_type": "code",
      "execution_count": 55,
      "metadata": {
        "id": "f77e8a97-1a11-4830-9c5f-ce2ad7cf2389",
        "outputId": "9027817f-855c-44b1-c1ad-a918e437d528",
        "colab": {
          "base_uri": "https://localhost:8080/"
        }
      },
      "outputs": [
        {
          "output_type": "execute_result",
          "data": {
            "text/plain": [
              "array([0, 1, 2, 3, 4])"
            ]
          },
          "metadata": {},
          "execution_count": 55
        }
      ],
      "source": [
        "np.unique(pred_mask)"
      ]
    },
    {
      "cell_type": "markdown",
      "metadata": {
        "id": "749066e0-2076-4aff-868d-916554d29f14"
      },
      "source": [
        "## 可视化语义分割预测结果"
      ]
    },
    {
      "cell_type": "code",
      "execution_count": 56,
      "metadata": {
        "id": "e8d0c314-d963-48af-ba8c-75f1b4bfc4d0",
        "outputId": "08792816-4c0c-4f60-bb37-7e49ffae0e30",
        "colab": {
          "base_uri": "https://localhost:8080/",
          "height": 414
        }
      },
      "outputs": [
        {
          "output_type": "execute_result",
          "data": {
            "text/plain": [
              "<matplotlib.image.AxesImage at 0x7f426146a590>"
            ]
          },
          "metadata": {},
          "execution_count": 56
        },
        {
          "output_type": "display_data",
          "data": {
            "text/plain": [
              "<Figure size 640x480 with 1 Axes>"
            ],
            "image/png": "[encoded data removed]"
          },
          "metadata": {}
        }
      ],
      "source": [
        "plt.imshow(pred_mask)\n",
        "plt.show()"
      ]
    },
    {
      "cell_type": "code",
      "execution_count": 57,
      "metadata": {
        "id": "2302cba8-b7e0-4b3e-a924-6e8edebfb9b4",
        "outputId": "9854ece2-c7be-4f85-bc6e-578cd410bc7b",
        "colab": {
          "base_uri": "https://localhost:8080/",
          "height": 432
        }
      },
      "outputs": [
        {
          "output_type": "stream",
          "name": "stdout",
          "text": [
            "06/18 14:54:28 - mmengine - WARNING - `Visualizer` backend is not initialized because save_dir is None.\n"
          ]
        },
        {
          "output_type": "execute_result",
          "data": {
            "text/plain": [
              "<matplotlib.image.AxesImage at 0x7f4250cedbd0>"
            ]
          },
          "metadata": {},
          "execution_count": 57
        },
        {
          "output_type": "display_data",
          "data": {
            "text/plain": [
              "<Figure size 640x480 with 1 Axes>"
            ],
            "image/png": "[encoded data removed]"
          },
          "metadata": {}
        }
      ],
      "source": [
        "# 可视化预测结果\n",
        "visualization = show_result_pyplot(model, img, result, opacity=0.7, out_file='pred.jpg')\n",
        "plt.imshow(mmcv.bgr2rgb(visualization))\n",
        "plt.show()"
      ]
    },
    {
      "cell_type": "markdown",
      "metadata": {
        "id": "300a8887-117c-40a1-a71e-1f29b5c69a63"
      },
      "source": [
        "## 获取测试集标注"
      ]
    },
    {
      "cell_type": "code",
      "execution_count": 58,
      "metadata": {
        "id": "0e5bdbd4-bb57-4a53-bc94-16caae296453"
      },
      "outputs": [],
      "source": [
        "label = mmcv.imread('/content/drive/MyDrive/OpenMMlab/mmsegmentation/data/Watermelon87_Semantic_Seg_Mask/ann_dir/val/R.png')"
      ]
    },
    {
      "cell_type": "code",
      "execution_count": 59,
      "metadata": {
        "id": "a4b58c5e-1037-47fb-a285-c7b19b8ca39a",
        "outputId": "5576584d-a1dc-456a-8117-54a933d5489c",
        "colab": {
          "base_uri": "https://localhost:8080/"
        }
      },
      "outputs": [
        {
          "output_type": "execute_result",
          "data": {
            "text/plain": [
              "(1333, 2000, 3)"
            ]
          },
          "metadata": {},
          "execution_count": 59
        }
      ],
      "source": [
        "label.shape"
      ]
    },
    {
      "cell_type": "markdown",
      "metadata": {
        "id": "a5a18e7c-1121-4ce3-bdf8-ebe196e5c3bf"
      },
      "source": [
        "三个通道全部一样，只取一个通道作为标注即可。"
      ]
    },
    {
      "cell_type": "code",
      "execution_count": 60,
      "metadata": {
        "id": "1b8d085c-b8ab-4cf7-9c2a-5f606131e629"
      },
      "outputs": [],
      "source": [
        "label_mask = label[:,:,0]"
      ]
    },
    {
      "cell_type": "code",
      "execution_count": 61,
      "metadata": {
        "id": "979d52ed-d41a-4cf9-a455-1307c88b14e5",
        "outputId": "ce32ad7a-9a32-42ee-dd2f-e4a039ae8aa0",
        "colab": {
          "base_uri": "https://localhost:8080/"
        }
      },
      "outputs": [
        {
          "output_type": "execute_result",
          "data": {
            "text/plain": [
              "(1333, 2000)"
            ]
          },
          "metadata": {},
          "execution_count": 61
        }
      ],
      "source": [
        "label_mask.shape"
      ]
    },
    {
      "cell_type": "code",
      "execution_count": 62,
      "metadata": {
        "id": "b9235db2-655c-4c78-ae2a-3a8737d483c7",
        "outputId": "52f24ac3-1d83-401d-faee-95f8279a038e",
        "colab": {
          "base_uri": "https://localhost:8080/"
        }
      },
      "outputs": [
        {
          "output_type": "execute_result",
          "data": {
            "text/plain": [
              "array([0, 1, 2, 3, 4, 5], dtype=uint8)"
            ]
          },
          "metadata": {},
          "execution_count": 62
        }
      ],
      "source": [
        "np.unique(label_mask)"
      ]
    },
    {
      "cell_type": "code",
      "execution_count": 63,
      "metadata": {
        "id": "149c26a1-81d2-4da0-ae3b-8385c13cb8c0",
        "outputId": "6130b610-9f15-49c4-9c38-7a5c2b6aaecc",
        "colab": {
          "base_uri": "https://localhost:8080/",
          "height": 414
        }
      },
      "outputs": [
        {
          "output_type": "execute_result",
          "data": {
            "text/plain": [
              "<matplotlib.image.AxesImage at 0x7f424a2e9d50>"
            ]
          },
          "metadata": {},
          "execution_count": 63
        },
        {
          "output_type": "display_data",
          "data": {
            "text/plain": [
              "<Figure size 640x480 with 1 Axes>"
            ],
            "image/png": "[encoded data removed]"
          },
          "metadata": {}
        }
      ],
      "source": [
        "plt.imshow(label_mask)\n",
        "plt.show()"
      ]
    },
    {
      "cell_type": "markdown",
      "metadata": {
        "id": "2fc3d2ba-38dd-4036-bb97-aac147a24c6b"
      },
      "source": [
        "## 对比测试集标注和语义分割预测结果"
      ]
    },
    {
      "cell_type": "code",
      "execution_count": 64,
      "metadata": {
        "id": "37847768-e440-4ad4-8b29-9a3b18f09b25",
        "outputId": "d5a4613a-9ef8-45ca-fb9c-f49978a9d2e5",
        "colab": {
          "base_uri": "https://localhost:8080/"
        }
      },
      "outputs": [
        {
          "output_type": "execute_result",
          "data": {
            "text/plain": [
              "(1333, 2000)"
            ]
          },
          "metadata": {},
          "execution_count": 64
        }
      ],
      "source": [
        "# 测试集标注\n",
        "label_mask.shape"
      ]
    },
    {
      "cell_type": "code",
      "execution_count": 65,
      "metadata": {
        "id": "27f95ae7-cc56-4462-abff-43c2c0483e3b",
        "outputId": "65b3d2a1-b108-4436-a771-3a1910397b06",
        "colab": {
          "base_uri": "https://localhost:8080/"
        }
      },
      "outputs": [
        {
          "output_type": "execute_result",
          "data": {
            "text/plain": [
              "(1333, 2000)"
            ]
          },
          "metadata": {},
          "execution_count": 65
        }
      ],
      "source": [
        "# 语义分割预测结果\n",
        "pred_mask.shape"
      ]
    },
    {
      "cell_type": "code",
      "execution_count": 66,
      "metadata": {
        "id": "4bbcfba1-1f34-4211-97d3-5b0d2009748b"
      },
      "outputs": [],
      "source": [
        "# 真实为前景，预测为前景\n",
        "TP = (label_mask == 1) & (pred_mask==1)"
      ]
    },
    {
      "cell_type": "code",
      "execution_count": 67,
      "metadata": {
        "id": "bf941437-777e-40a6-bf0d-f257692dfee2"
      },
      "outputs": [],
      "source": [
        "# 真实为背景，预测为背景\n",
        "TN = (label_mask == 0) & (pred_mask==0)"
      ]
    },
    {
      "cell_type": "code",
      "execution_count": 68,
      "metadata": {
        "id": "f5420054-cd4c-4b5c-af60-287c16daccfb"
      },
      "outputs": [],
      "source": [
        "# 真实为前景，预测为背景\n",
        "FN = (label_mask == 1) & (pred_mask==0)"
      ]
    },
    {
      "cell_type": "code",
      "execution_count": 69,
      "metadata": {
        "id": "deeb7a73-0b71-4fe0-976a-3103051cd84e"
      },
      "outputs": [],
      "source": [
        "# 真实为背景，预测为前景\n",
        "FP = (label_mask == 0) & (pred_mask==1)"
      ]
    },
    {
      "cell_type": "code",
      "execution_count": 70,
      "metadata": {
        "id": "ef98152c-7899-433d-b8fd-6074825e8aa6",
        "outputId": "08d0ae4f-a762-4e13-a8b0-f805d6d8eae8",
        "colab": {
          "base_uri": "https://localhost:8080/",
          "height": 414
        }
      },
      "outputs": [
        {
          "output_type": "execute_result",
          "data": {
            "text/plain": [
              "<matplotlib.image.AxesImage at 0x7f424a2be920>"
            ]
          },
          "metadata": {},
          "execution_count": 70
        },
        {
          "output_type": "display_data",
          "data": {
            "text/plain": [
              "<Figure size 640x480 with 1 Axes>"
            ],
            "image/png": "[encoded data removed]"
          },
          "metadata": {}
        }
      ],
      "source": [
        "plt.imshow(TP)\n",
        "plt.show()"
      ]
    },
    {
      "cell_type": "code",
      "execution_count": 71,
      "metadata": {
        "id": "2e367cb9-f91d-40b7-b929-29b6a26bcd9f"
      },
      "outputs": [],
      "source": [
        "confusion_map = TP * 255 + FP * 150 + FN * 80 + TN * 30"
      ]
    },
    {
      "cell_type": "code",
      "execution_count": 72,
      "metadata": {
        "id": "f6c0f125-3013-4b60-a73c-61d5e30b6739",
        "outputId": "cef9d494-a0bc-41cd-f2d6-ca3bd8789285",
        "colab": {
          "base_uri": "https://localhost:8080/",
          "height": 414
        }
      },
      "outputs": [
        {
          "output_type": "execute_result",
          "data": {
            "text/plain": [
              "<matplotlib.image.AxesImage at 0x7f424a2c5e10>"
            ]
          },
          "metadata": {},
          "execution_count": 72
        },
        {
          "output_type": "display_data",
          "data": {
            "text/plain": [
              "<Figure size 640x480 with 1 Axes>"
            ],
            "image/png": "[encoded data removed]"
          },
          "metadata": {}
        }
      ],
      "source": [
        "plt.imshow(confusion_map)\n",
        "plt.show()"
      ]
    },
    {
      "cell_type": "markdown",
      "metadata": {
        "id": "07717912-527d-450e-9312-d04980d39ad8"
      },
      "source": [
        "## 混淆矩阵"
      ]
    },
    {
      "cell_type": "code",
      "execution_count": 73,
      "metadata": {
        "id": "b7495727-06e7-4842-807e-184683c8b034"
      },
      "outputs": [],
      "source": [
        "from sklearn.metrics import confusion_matrix"
      ]
    },
    {
      "cell_type": "code",
      "execution_count": 74,
      "metadata": {
        "id": "28959a23-310d-49f0-b703-56fea8397dfb"
      },
      "outputs": [],
      "source": [
        "confusion_matrix_model = confusion_matrix(label_mask.flatten(), pred_mask.flatten())"
      ]
    },
    {
      "cell_type": "code",
      "execution_count": 75,
      "metadata": {
        "id": "97c05402-a691-47b3-8c51-48ff45e5437d",
        "outputId": "05a45e6d-4a54-4f05-da09-41763634ef33",
        "colab": {
          "base_uri": "https://localhost:8080/"
        }
      },
      "outputs": [
        {
          "output_type": "execute_result",
          "data": {
            "text/plain": [
              "array([[1008506,    8383,    1589,     402,       0,       0],\n",
              "       [  68785,  635678,       0,     430,     167,       0],\n",
              "       [ 712123,     237,   57908,     503,       0,       0],\n",
              "       [  37845,    7307,     654,  115004,       0,       0],\n",
              "       [    514,    2958,       0,       0,    3160,       0],\n",
              "       [    187,    3660,       0,       0,       0,       0]])"
            ]
          },
          "metadata": {},
          "execution_count": 75
        }
      ],
      "source": [
        "confusion_matrix_model"
      ]
    },
    {
      "cell_type": "code",
      "execution_count": 76,
      "metadata": {
        "id": "7344027e-3673-4cd0-b77c-2fa572175da1"
      },
      "outputs": [],
      "source": [
        "import itertools\n",
        "def cnf_matrix_plotter(cm, classes, cmap=plt.cm.Blues):\n",
        "    \"\"\"\n",
        "    传入混淆矩阵和标签名称列表，绘制混淆矩阵\n",
        "    \"\"\"\n",
        "    plt.figure(figsize=(10, 10))\n",
        "\n",
        "    plt.imshow(cm, interpolation='nearest', cmap=cmap)\n",
        "    # plt.colorbar() # 色条\n",
        "    tick_marks = np.arange(len(classes))\n",
        "\n",
        "    plt.title('Confusion Matrix', fontsize=30)\n",
        "    plt.xlabel('Pred', fontsize=25, c='r')\n",
        "    plt.ylabel('True', fontsize=25, c='r')\n",
        "    plt.tick_params(labelsize=16) # 设置类别文字大小\n",
        "    plt.xticks(tick_marks, classes, rotation=90) # 横轴文字旋转\n",
        "    plt.yticks(tick_marks, classes)\n",
        "\n",
        "    # 写数字\n",
        "    threshold = cm.max() / 2.\n",
        "    for i, j in itertools.product(range(cm.shape[0]), range(cm.shape[1])):\n",
        "        plt.text(j, i, cm[i, j],\n",
        "                 horizontalalignment=\"center\",\n",
        "                 color=\"white\" if cm[i, j] > threshold else \"black\",\n",
        "                 fontsize=12)\n",
        "\n",
        "    plt.tight_layout()\n",
        "\n",
        "    plt.savefig('混淆矩阵.pdf', dpi=300) # 保存图像\n",
        "    plt.show()"
      ]
    },
    {
      "cell_type": "code",
      "execution_count": 77,
      "metadata": {
        "id": "ac9cd140-3711-4e02-ba30-bc1d3645ee43"
      },
      "outputs": [],
      "source": [
        "classes = ['/', 'red', 'green', 'white', 'seed-black', 'seed-white']"
      ]
    },
    {
      "cell_type": "code",
      "execution_count": 78,
      "metadata": {
        "id": "cbe1e039-5169-4b67-975a-236571cf9128",
        "outputId": "2aa59496-7118-48ea-b32a-468b5d372d3d",
        "colab": {
          "base_uri": "https://localhost:8080/",
          "height": 1000
        }
      },
      "outputs": [
        {
          "output_type": "display_data",
          "data": {
            "text/plain": [
              "<Figure size 1000x1000 with 1 Axes>"
            ],
            "image/png": "[encoded data removed]"
          },
          "metadata": {}
        }
      ],
      "source": [
        "cnf_matrix_plotter(confusion_matrix_model, classes, cmap='Blues')"
      ]
    },
    {
      "cell_type": "markdown",
      "metadata": {
        "id": "4ad9dafc-4508-4a37-9bbc-b460f7499b14"
      },
      "source": [
        "Unlabeled类别，既无预测结果，也无标签，因此混淆矩阵中不显示。"
      ]
    },
    {
      "cell_type": "code",
      "execution_count": null,
      "metadata": {
        "id": "b7e57e6c-46c4-47ef-99f5-82e4ea8dd75a"
      },
      "outputs": [],
      "source": []
    },
    {
      "cell_type": "code",
      "execution_count": null,
      "metadata": {
        "id": "wi3vvDWlkXIk"
      },
      "outputs": [],
      "source": []
    }
  ]
}